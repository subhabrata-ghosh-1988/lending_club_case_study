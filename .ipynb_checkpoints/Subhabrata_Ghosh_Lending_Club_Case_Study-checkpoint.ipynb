{
 "cells": [
  {
   "cell_type": "markdown",
   "metadata": {},
   "source": [
    "# Lending club case study"
   ]
  },
  {
   "cell_type": "markdown",
   "metadata": {},
   "source": [
    "### Lending Club :\n",
    "\n",
    "Lending Club specialises in lending various types of loans to urban customers. When the company receives a loan application, the company has to make a decision for loan approval based on the applicant’s profile. Two types of risks are associated with the bank’s decision:\n",
    "\n",
    "- If the applicant is likely to repay the loan, then not approving the loan results in a loss of business to the company\n",
    "- If the applicant is not likely to repay the loan, i.e. he/she is likely to default, then approving the loan may lead to a financial loss for the company\n",
    "\n",
    "### Business Objectives :\n",
    "\n",
    "**Objective is to identify the risky loan applicants at the time of loan application so that such loans can be reduced thereby cutting down the amount of credit loss.**\n",
    "\n",
    "- The idea is to extract top variables from the loan loan application which are resposible, beacuse of which the borrower become defaulters.\n"
   ]
  },
  {
   "cell_type": "markdown",
   "metadata": {},
   "source": [
    "### Contributor(s) -  Subhabrata Ghosh / Mohammed Tarique Jamal"
   ]
  },
  {
   "cell_type": "code",
   "execution_count": 1,
   "metadata": {},
   "outputs": [],
   "source": [
    "## Disable warnings\n",
    "import warnings\n",
    "warnings.filterwarnings('ignore')"
   ]
  },
  {
   "cell_type": "code",
   "execution_count": 2,
   "metadata": {},
   "outputs": [],
   "source": [
    "## Importing necessary libraries for the data analysis\n",
    "import numpy as np\n",
    "import pandas as pd\n",
    "import matplotlib.pyplot as plt\n",
    "import seaborn as sns"
   ]
  },
  {
   "cell_type": "code",
   "execution_count": 3,
   "metadata": {},
   "outputs": [],
   "source": [
    "## Setup the figure aesthetics\n",
    "sns.set(style='whitegrid')"
   ]
  },
  {
   "cell_type": "code",
   "execution_count": 4,
   "metadata": {},
   "outputs": [],
   "source": [
    "## Setup a display options\n",
    "pd.set_option('display.max_rows', 1000)\n",
    "pd.set_option('display.max_columns', None)"
   ]
  },
  {
   "cell_type": "markdown",
   "metadata": {},
   "source": [
    "## 01. Data Import"
   ]
  },
  {
   "cell_type": "code",
   "execution_count": 5,
   "metadata": {},
   "outputs": [],
   "source": [
    "## Reading the load file\n",
    "df_loan=pd.read_csv('loan.csv',engine='python')"
   ]
  },
  {
   "cell_type": "code",
   "execution_count": 6,
   "metadata": {},
   "outputs": [
    {
     "data": {
      "text/html": [
       "<div>\n",
       "<style scoped>\n",
       "    .dataframe tbody tr th:only-of-type {\n",
       "        vertical-align: middle;\n",
       "    }\n",
       "\n",
       "    .dataframe tbody tr th {\n",
       "        vertical-align: top;\n",
       "    }\n",
       "\n",
       "    .dataframe thead th {\n",
       "        text-align: right;\n",
       "    }\n",
       "</style>\n",
       "<table border=\"1\" class=\"dataframe\">\n",
       "  <thead>\n",
       "    <tr style=\"text-align: right;\">\n",
       "      <th></th>\n",
       "      <th>id</th>\n",
       "      <th>member_id</th>\n",
       "      <th>loan_amnt</th>\n",
       "      <th>funded_amnt</th>\n",
       "      <th>funded_amnt_inv</th>\n",
       "      <th>term</th>\n",
       "      <th>int_rate</th>\n",
       "      <th>installment</th>\n",
       "      <th>grade</th>\n",
       "      <th>sub_grade</th>\n",
       "      <th>emp_title</th>\n",
       "      <th>emp_length</th>\n",
       "      <th>home_ownership</th>\n",
       "      <th>annual_inc</th>\n",
       "      <th>verification_status</th>\n",
       "      <th>issue_d</th>\n",
       "      <th>loan_status</th>\n",
       "      <th>pymnt_plan</th>\n",
       "      <th>url</th>\n",
       "      <th>desc</th>\n",
       "      <th>purpose</th>\n",
       "      <th>title</th>\n",
       "      <th>zip_code</th>\n",
       "      <th>addr_state</th>\n",
       "      <th>dti</th>\n",
       "      <th>delinq_2yrs</th>\n",
       "      <th>earliest_cr_line</th>\n",
       "      <th>inq_last_6mths</th>\n",
       "      <th>mths_since_last_delinq</th>\n",
       "      <th>mths_since_last_record</th>\n",
       "      <th>open_acc</th>\n",
       "      <th>pub_rec</th>\n",
       "      <th>revol_bal</th>\n",
       "      <th>revol_util</th>\n",
       "      <th>total_acc</th>\n",
       "      <th>initial_list_status</th>\n",
       "      <th>out_prncp</th>\n",
       "      <th>out_prncp_inv</th>\n",
       "      <th>total_pymnt</th>\n",
       "      <th>total_pymnt_inv</th>\n",
       "      <th>total_rec_prncp</th>\n",
       "      <th>total_rec_int</th>\n",
       "      <th>total_rec_late_fee</th>\n",
       "      <th>recoveries</th>\n",
       "      <th>collection_recovery_fee</th>\n",
       "      <th>last_pymnt_d</th>\n",
       "      <th>last_pymnt_amnt</th>\n",
       "      <th>next_pymnt_d</th>\n",
       "      <th>last_credit_pull_d</th>\n",
       "      <th>collections_12_mths_ex_med</th>\n",
       "      <th>mths_since_last_major_derog</th>\n",
       "      <th>policy_code</th>\n",
       "      <th>application_type</th>\n",
       "      <th>annual_inc_joint</th>\n",
       "      <th>dti_joint</th>\n",
       "      <th>verification_status_joint</th>\n",
       "      <th>acc_now_delinq</th>\n",
       "      <th>tot_coll_amt</th>\n",
       "      <th>tot_cur_bal</th>\n",
       "      <th>open_acc_6m</th>\n",
       "      <th>open_il_6m</th>\n",
       "      <th>open_il_12m</th>\n",
       "      <th>open_il_24m</th>\n",
       "      <th>mths_since_rcnt_il</th>\n",
       "      <th>total_bal_il</th>\n",
       "      <th>il_util</th>\n",
       "      <th>open_rv_12m</th>\n",
       "      <th>open_rv_24m</th>\n",
       "      <th>max_bal_bc</th>\n",
       "      <th>all_util</th>\n",
       "      <th>total_rev_hi_lim</th>\n",
       "      <th>inq_fi</th>\n",
       "      <th>total_cu_tl</th>\n",
       "      <th>inq_last_12m</th>\n",
       "      <th>acc_open_past_24mths</th>\n",
       "      <th>avg_cur_bal</th>\n",
       "      <th>bc_open_to_buy</th>\n",
       "      <th>bc_util</th>\n",
       "      <th>chargeoff_within_12_mths</th>\n",
       "      <th>delinq_amnt</th>\n",
       "      <th>mo_sin_old_il_acct</th>\n",
       "      <th>mo_sin_old_rev_tl_op</th>\n",
       "      <th>mo_sin_rcnt_rev_tl_op</th>\n",
       "      <th>mo_sin_rcnt_tl</th>\n",
       "      <th>mort_acc</th>\n",
       "      <th>mths_since_recent_bc</th>\n",
       "      <th>mths_since_recent_bc_dlq</th>\n",
       "      <th>mths_since_recent_inq</th>\n",
       "      <th>mths_since_recent_revol_delinq</th>\n",
       "      <th>num_accts_ever_120_pd</th>\n",
       "      <th>num_actv_bc_tl</th>\n",
       "      <th>num_actv_rev_tl</th>\n",
       "      <th>num_bc_sats</th>\n",
       "      <th>num_bc_tl</th>\n",
       "      <th>num_il_tl</th>\n",
       "      <th>num_op_rev_tl</th>\n",
       "      <th>num_rev_accts</th>\n",
       "      <th>num_rev_tl_bal_gt_0</th>\n",
       "      <th>num_sats</th>\n",
       "      <th>num_tl_120dpd_2m</th>\n",
       "      <th>num_tl_30dpd</th>\n",
       "      <th>num_tl_90g_dpd_24m</th>\n",
       "      <th>num_tl_op_past_12m</th>\n",
       "      <th>pct_tl_nvr_dlq</th>\n",
       "      <th>percent_bc_gt_75</th>\n",
       "      <th>pub_rec_bankruptcies</th>\n",
       "      <th>tax_liens</th>\n",
       "      <th>tot_hi_cred_lim</th>\n",
       "      <th>total_bal_ex_mort</th>\n",
       "      <th>total_bc_limit</th>\n",
       "      <th>total_il_high_credit_limit</th>\n",
       "    </tr>\n",
       "  </thead>\n",
       "  <tbody>\n",
       "    <tr>\n",
       "      <th>0</th>\n",
       "      <td>1077501</td>\n",
       "      <td>1296599</td>\n",
       "      <td>5000</td>\n",
       "      <td>5000</td>\n",
       "      <td>4975.0</td>\n",
       "      <td>36 months</td>\n",
       "      <td>10.65%</td>\n",
       "      <td>162.87</td>\n",
       "      <td>B</td>\n",
       "      <td>B2</td>\n",
       "      <td>NaN</td>\n",
       "      <td>10+ years</td>\n",
       "      <td>RENT</td>\n",
       "      <td>24000.0</td>\n",
       "      <td>Verified</td>\n",
       "      <td>Dec-11</td>\n",
       "      <td>Fully Paid</td>\n",
       "      <td>n</td>\n",
       "      <td>https://lendingclub.com/browse/loanDetail.acti...</td>\n",
       "      <td>Borrower added on 12/22/11 &gt; I need to upgra...</td>\n",
       "      <td>credit_card</td>\n",
       "      <td>Computer</td>\n",
       "      <td>860xx</td>\n",
       "      <td>AZ</td>\n",
       "      <td>27.65</td>\n",
       "      <td>0</td>\n",
       "      <td>Jan-85</td>\n",
       "      <td>1</td>\n",
       "      <td>NaN</td>\n",
       "      <td>NaN</td>\n",
       "      <td>3</td>\n",
       "      <td>0</td>\n",
       "      <td>13648</td>\n",
       "      <td>83.70%</td>\n",
       "      <td>9</td>\n",
       "      <td>f</td>\n",
       "      <td>0.00</td>\n",
       "      <td>0.00</td>\n",
       "      <td>5863.155187</td>\n",
       "      <td>5833.84</td>\n",
       "      <td>5000.00</td>\n",
       "      <td>863.16</td>\n",
       "      <td>0.00</td>\n",
       "      <td>0.00</td>\n",
       "      <td>0.00</td>\n",
       "      <td>Jan-15</td>\n",
       "      <td>171.62</td>\n",
       "      <td>NaN</td>\n",
       "      <td>May-16</td>\n",
       "      <td>0.0</td>\n",
       "      <td>NaN</td>\n",
       "      <td>1</td>\n",
       "      <td>INDIVIDUAL</td>\n",
       "      <td>NaN</td>\n",
       "      <td>NaN</td>\n",
       "      <td>NaN</td>\n",
       "      <td>0</td>\n",
       "      <td>NaN</td>\n",
       "      <td>NaN</td>\n",
       "      <td>NaN</td>\n",
       "      <td>NaN</td>\n",
       "      <td>NaN</td>\n",
       "      <td>NaN</td>\n",
       "      <td>NaN</td>\n",
       "      <td>NaN</td>\n",
       "      <td>NaN</td>\n",
       "      <td>NaN</td>\n",
       "      <td>NaN</td>\n",
       "      <td>NaN</td>\n",
       "      <td>NaN</td>\n",
       "      <td>NaN</td>\n",
       "      <td>NaN</td>\n",
       "      <td>NaN</td>\n",
       "      <td>NaN</td>\n",
       "      <td>NaN</td>\n",
       "      <td>NaN</td>\n",
       "      <td>NaN</td>\n",
       "      <td>NaN</td>\n",
       "      <td>0.0</td>\n",
       "      <td>0</td>\n",
       "      <td>NaN</td>\n",
       "      <td>NaN</td>\n",
       "      <td>NaN</td>\n",
       "      <td>NaN</td>\n",
       "      <td>NaN</td>\n",
       "      <td>NaN</td>\n",
       "      <td>NaN</td>\n",
       "      <td>NaN</td>\n",
       "      <td>NaN</td>\n",
       "      <td>NaN</td>\n",
       "      <td>NaN</td>\n",
       "      <td>NaN</td>\n",
       "      <td>NaN</td>\n",
       "      <td>NaN</td>\n",
       "      <td>NaN</td>\n",
       "      <td>NaN</td>\n",
       "      <td>NaN</td>\n",
       "      <td>NaN</td>\n",
       "      <td>NaN</td>\n",
       "      <td>NaN</td>\n",
       "      <td>NaN</td>\n",
       "      <td>NaN</td>\n",
       "      <td>NaN</td>\n",
       "      <td>NaN</td>\n",
       "      <td>NaN</td>\n",
       "      <td>0.0</td>\n",
       "      <td>0.0</td>\n",
       "      <td>NaN</td>\n",
       "      <td>NaN</td>\n",
       "      <td>NaN</td>\n",
       "      <td>NaN</td>\n",
       "    </tr>\n",
       "    <tr>\n",
       "      <th>1</th>\n",
       "      <td>1077430</td>\n",
       "      <td>1314167</td>\n",
       "      <td>2500</td>\n",
       "      <td>2500</td>\n",
       "      <td>2500.0</td>\n",
       "      <td>60 months</td>\n",
       "      <td>15.27%</td>\n",
       "      <td>59.83</td>\n",
       "      <td>C</td>\n",
       "      <td>C4</td>\n",
       "      <td>Ryder</td>\n",
       "      <td>&lt; 1 year</td>\n",
       "      <td>RENT</td>\n",
       "      <td>30000.0</td>\n",
       "      <td>Source Verified</td>\n",
       "      <td>Dec-11</td>\n",
       "      <td>Charged Off</td>\n",
       "      <td>n</td>\n",
       "      <td>https://lendingclub.com/browse/loanDetail.acti...</td>\n",
       "      <td>Borrower added on 12/22/11 &gt; I plan to use t...</td>\n",
       "      <td>car</td>\n",
       "      <td>bike</td>\n",
       "      <td>309xx</td>\n",
       "      <td>GA</td>\n",
       "      <td>1.00</td>\n",
       "      <td>0</td>\n",
       "      <td>Apr-99</td>\n",
       "      <td>5</td>\n",
       "      <td>NaN</td>\n",
       "      <td>NaN</td>\n",
       "      <td>3</td>\n",
       "      <td>0</td>\n",
       "      <td>1687</td>\n",
       "      <td>9.40%</td>\n",
       "      <td>4</td>\n",
       "      <td>f</td>\n",
       "      <td>0.00</td>\n",
       "      <td>0.00</td>\n",
       "      <td>1008.710000</td>\n",
       "      <td>1008.71</td>\n",
       "      <td>456.46</td>\n",
       "      <td>435.17</td>\n",
       "      <td>0.00</td>\n",
       "      <td>117.08</td>\n",
       "      <td>1.11</td>\n",
       "      <td>Apr-13</td>\n",
       "      <td>119.66</td>\n",
       "      <td>NaN</td>\n",
       "      <td>Sep-13</td>\n",
       "      <td>0.0</td>\n",
       "      <td>NaN</td>\n",
       "      <td>1</td>\n",
       "      <td>INDIVIDUAL</td>\n",
       "      <td>NaN</td>\n",
       "      <td>NaN</td>\n",
       "      <td>NaN</td>\n",
       "      <td>0</td>\n",
       "      <td>NaN</td>\n",
       "      <td>NaN</td>\n",
       "      <td>NaN</td>\n",
       "      <td>NaN</td>\n",
       "      <td>NaN</td>\n",
       "      <td>NaN</td>\n",
       "      <td>NaN</td>\n",
       "      <td>NaN</td>\n",
       "      <td>NaN</td>\n",
       "      <td>NaN</td>\n",
       "      <td>NaN</td>\n",
       "      <td>NaN</td>\n",
       "      <td>NaN</td>\n",
       "      <td>NaN</td>\n",
       "      <td>NaN</td>\n",
       "      <td>NaN</td>\n",
       "      <td>NaN</td>\n",
       "      <td>NaN</td>\n",
       "      <td>NaN</td>\n",
       "      <td>NaN</td>\n",
       "      <td>NaN</td>\n",
       "      <td>0.0</td>\n",
       "      <td>0</td>\n",
       "      <td>NaN</td>\n",
       "      <td>NaN</td>\n",
       "      <td>NaN</td>\n",
       "      <td>NaN</td>\n",
       "      <td>NaN</td>\n",
       "      <td>NaN</td>\n",
       "      <td>NaN</td>\n",
       "      <td>NaN</td>\n",
       "      <td>NaN</td>\n",
       "      <td>NaN</td>\n",
       "      <td>NaN</td>\n",
       "      <td>NaN</td>\n",
       "      <td>NaN</td>\n",
       "      <td>NaN</td>\n",
       "      <td>NaN</td>\n",
       "      <td>NaN</td>\n",
       "      <td>NaN</td>\n",
       "      <td>NaN</td>\n",
       "      <td>NaN</td>\n",
       "      <td>NaN</td>\n",
       "      <td>NaN</td>\n",
       "      <td>NaN</td>\n",
       "      <td>NaN</td>\n",
       "      <td>NaN</td>\n",
       "      <td>NaN</td>\n",
       "      <td>0.0</td>\n",
       "      <td>0.0</td>\n",
       "      <td>NaN</td>\n",
       "      <td>NaN</td>\n",
       "      <td>NaN</td>\n",
       "      <td>NaN</td>\n",
       "    </tr>\n",
       "    <tr>\n",
       "      <th>2</th>\n",
       "      <td>1077175</td>\n",
       "      <td>1313524</td>\n",
       "      <td>2400</td>\n",
       "      <td>2400</td>\n",
       "      <td>2400.0</td>\n",
       "      <td>36 months</td>\n",
       "      <td>15.96%</td>\n",
       "      <td>84.33</td>\n",
       "      <td>C</td>\n",
       "      <td>C5</td>\n",
       "      <td>NaN</td>\n",
       "      <td>10+ years</td>\n",
       "      <td>RENT</td>\n",
       "      <td>12252.0</td>\n",
       "      <td>Not Verified</td>\n",
       "      <td>Dec-11</td>\n",
       "      <td>Fully Paid</td>\n",
       "      <td>n</td>\n",
       "      <td>https://lendingclub.com/browse/loanDetail.acti...</td>\n",
       "      <td>NaN</td>\n",
       "      <td>small_business</td>\n",
       "      <td>real estate business</td>\n",
       "      <td>606xx</td>\n",
       "      <td>IL</td>\n",
       "      <td>8.72</td>\n",
       "      <td>0</td>\n",
       "      <td>Nov-01</td>\n",
       "      <td>2</td>\n",
       "      <td>NaN</td>\n",
       "      <td>NaN</td>\n",
       "      <td>2</td>\n",
       "      <td>0</td>\n",
       "      <td>2956</td>\n",
       "      <td>98.50%</td>\n",
       "      <td>10</td>\n",
       "      <td>f</td>\n",
       "      <td>0.00</td>\n",
       "      <td>0.00</td>\n",
       "      <td>3005.666844</td>\n",
       "      <td>3005.67</td>\n",
       "      <td>2400.00</td>\n",
       "      <td>605.67</td>\n",
       "      <td>0.00</td>\n",
       "      <td>0.00</td>\n",
       "      <td>0.00</td>\n",
       "      <td>Jun-14</td>\n",
       "      <td>649.91</td>\n",
       "      <td>NaN</td>\n",
       "      <td>May-16</td>\n",
       "      <td>0.0</td>\n",
       "      <td>NaN</td>\n",
       "      <td>1</td>\n",
       "      <td>INDIVIDUAL</td>\n",
       "      <td>NaN</td>\n",
       "      <td>NaN</td>\n",
       "      <td>NaN</td>\n",
       "      <td>0</td>\n",
       "      <td>NaN</td>\n",
       "      <td>NaN</td>\n",
       "      <td>NaN</td>\n",
       "      <td>NaN</td>\n",
       "      <td>NaN</td>\n",
       "      <td>NaN</td>\n",
       "      <td>NaN</td>\n",
       "      <td>NaN</td>\n",
       "      <td>NaN</td>\n",
       "      <td>NaN</td>\n",
       "      <td>NaN</td>\n",
       "      <td>NaN</td>\n",
       "      <td>NaN</td>\n",
       "      <td>NaN</td>\n",
       "      <td>NaN</td>\n",
       "      <td>NaN</td>\n",
       "      <td>NaN</td>\n",
       "      <td>NaN</td>\n",
       "      <td>NaN</td>\n",
       "      <td>NaN</td>\n",
       "      <td>NaN</td>\n",
       "      <td>0.0</td>\n",
       "      <td>0</td>\n",
       "      <td>NaN</td>\n",
       "      <td>NaN</td>\n",
       "      <td>NaN</td>\n",
       "      <td>NaN</td>\n",
       "      <td>NaN</td>\n",
       "      <td>NaN</td>\n",
       "      <td>NaN</td>\n",
       "      <td>NaN</td>\n",
       "      <td>NaN</td>\n",
       "      <td>NaN</td>\n",
       "      <td>NaN</td>\n",
       "      <td>NaN</td>\n",
       "      <td>NaN</td>\n",
       "      <td>NaN</td>\n",
       "      <td>NaN</td>\n",
       "      <td>NaN</td>\n",
       "      <td>NaN</td>\n",
       "      <td>NaN</td>\n",
       "      <td>NaN</td>\n",
       "      <td>NaN</td>\n",
       "      <td>NaN</td>\n",
       "      <td>NaN</td>\n",
       "      <td>NaN</td>\n",
       "      <td>NaN</td>\n",
       "      <td>NaN</td>\n",
       "      <td>0.0</td>\n",
       "      <td>0.0</td>\n",
       "      <td>NaN</td>\n",
       "      <td>NaN</td>\n",
       "      <td>NaN</td>\n",
       "      <td>NaN</td>\n",
       "    </tr>\n",
       "    <tr>\n",
       "      <th>3</th>\n",
       "      <td>1076863</td>\n",
       "      <td>1277178</td>\n",
       "      <td>10000</td>\n",
       "      <td>10000</td>\n",
       "      <td>10000.0</td>\n",
       "      <td>36 months</td>\n",
       "      <td>13.49%</td>\n",
       "      <td>339.31</td>\n",
       "      <td>C</td>\n",
       "      <td>C1</td>\n",
       "      <td>AIR RESOURCES BOARD</td>\n",
       "      <td>10+ years</td>\n",
       "      <td>RENT</td>\n",
       "      <td>49200.0</td>\n",
       "      <td>Source Verified</td>\n",
       "      <td>Dec-11</td>\n",
       "      <td>Fully Paid</td>\n",
       "      <td>n</td>\n",
       "      <td>https://lendingclub.com/browse/loanDetail.acti...</td>\n",
       "      <td>Borrower added on 12/21/11 &gt; to pay for prop...</td>\n",
       "      <td>other</td>\n",
       "      <td>personel</td>\n",
       "      <td>917xx</td>\n",
       "      <td>CA</td>\n",
       "      <td>20.00</td>\n",
       "      <td>0</td>\n",
       "      <td>Feb-96</td>\n",
       "      <td>1</td>\n",
       "      <td>35.0</td>\n",
       "      <td>NaN</td>\n",
       "      <td>10</td>\n",
       "      <td>0</td>\n",
       "      <td>5598</td>\n",
       "      <td>21%</td>\n",
       "      <td>37</td>\n",
       "      <td>f</td>\n",
       "      <td>0.00</td>\n",
       "      <td>0.00</td>\n",
       "      <td>12231.890000</td>\n",
       "      <td>12231.89</td>\n",
       "      <td>10000.00</td>\n",
       "      <td>2214.92</td>\n",
       "      <td>16.97</td>\n",
       "      <td>0.00</td>\n",
       "      <td>0.00</td>\n",
       "      <td>Jan-15</td>\n",
       "      <td>357.48</td>\n",
       "      <td>NaN</td>\n",
       "      <td>Apr-16</td>\n",
       "      <td>0.0</td>\n",
       "      <td>NaN</td>\n",
       "      <td>1</td>\n",
       "      <td>INDIVIDUAL</td>\n",
       "      <td>NaN</td>\n",
       "      <td>NaN</td>\n",
       "      <td>NaN</td>\n",
       "      <td>0</td>\n",
       "      <td>NaN</td>\n",
       "      <td>NaN</td>\n",
       "      <td>NaN</td>\n",
       "      <td>NaN</td>\n",
       "      <td>NaN</td>\n",
       "      <td>NaN</td>\n",
       "      <td>NaN</td>\n",
       "      <td>NaN</td>\n",
       "      <td>NaN</td>\n",
       "      <td>NaN</td>\n",
       "      <td>NaN</td>\n",
       "      <td>NaN</td>\n",
       "      <td>NaN</td>\n",
       "      <td>NaN</td>\n",
       "      <td>NaN</td>\n",
       "      <td>NaN</td>\n",
       "      <td>NaN</td>\n",
       "      <td>NaN</td>\n",
       "      <td>NaN</td>\n",
       "      <td>NaN</td>\n",
       "      <td>NaN</td>\n",
       "      <td>0.0</td>\n",
       "      <td>0</td>\n",
       "      <td>NaN</td>\n",
       "      <td>NaN</td>\n",
       "      <td>NaN</td>\n",
       "      <td>NaN</td>\n",
       "      <td>NaN</td>\n",
       "      <td>NaN</td>\n",
       "      <td>NaN</td>\n",
       "      <td>NaN</td>\n",
       "      <td>NaN</td>\n",
       "      <td>NaN</td>\n",
       "      <td>NaN</td>\n",
       "      <td>NaN</td>\n",
       "      <td>NaN</td>\n",
       "      <td>NaN</td>\n",
       "      <td>NaN</td>\n",
       "      <td>NaN</td>\n",
       "      <td>NaN</td>\n",
       "      <td>NaN</td>\n",
       "      <td>NaN</td>\n",
       "      <td>NaN</td>\n",
       "      <td>NaN</td>\n",
       "      <td>NaN</td>\n",
       "      <td>NaN</td>\n",
       "      <td>NaN</td>\n",
       "      <td>NaN</td>\n",
       "      <td>0.0</td>\n",
       "      <td>0.0</td>\n",
       "      <td>NaN</td>\n",
       "      <td>NaN</td>\n",
       "      <td>NaN</td>\n",
       "      <td>NaN</td>\n",
       "    </tr>\n",
       "    <tr>\n",
       "      <th>4</th>\n",
       "      <td>1075358</td>\n",
       "      <td>1311748</td>\n",
       "      <td>3000</td>\n",
       "      <td>3000</td>\n",
       "      <td>3000.0</td>\n",
       "      <td>60 months</td>\n",
       "      <td>12.69%</td>\n",
       "      <td>67.79</td>\n",
       "      <td>B</td>\n",
       "      <td>B5</td>\n",
       "      <td>University Medical Group</td>\n",
       "      <td>1 year</td>\n",
       "      <td>RENT</td>\n",
       "      <td>80000.0</td>\n",
       "      <td>Source Verified</td>\n",
       "      <td>Dec-11</td>\n",
       "      <td>Current</td>\n",
       "      <td>n</td>\n",
       "      <td>https://lendingclub.com/browse/loanDetail.acti...</td>\n",
       "      <td>Borrower added on 12/21/11 &gt; I plan on combi...</td>\n",
       "      <td>other</td>\n",
       "      <td>Personal</td>\n",
       "      <td>972xx</td>\n",
       "      <td>OR</td>\n",
       "      <td>17.94</td>\n",
       "      <td>0</td>\n",
       "      <td>Jan-96</td>\n",
       "      <td>0</td>\n",
       "      <td>38.0</td>\n",
       "      <td>NaN</td>\n",
       "      <td>15</td>\n",
       "      <td>0</td>\n",
       "      <td>27783</td>\n",
       "      <td>53.90%</td>\n",
       "      <td>38</td>\n",
       "      <td>f</td>\n",
       "      <td>524.06</td>\n",
       "      <td>524.06</td>\n",
       "      <td>3513.330000</td>\n",
       "      <td>3513.33</td>\n",
       "      <td>2475.94</td>\n",
       "      <td>1037.39</td>\n",
       "      <td>0.00</td>\n",
       "      <td>0.00</td>\n",
       "      <td>0.00</td>\n",
       "      <td>May-16</td>\n",
       "      <td>67.79</td>\n",
       "      <td>Jun-16</td>\n",
       "      <td>May-16</td>\n",
       "      <td>0.0</td>\n",
       "      <td>NaN</td>\n",
       "      <td>1</td>\n",
       "      <td>INDIVIDUAL</td>\n",
       "      <td>NaN</td>\n",
       "      <td>NaN</td>\n",
       "      <td>NaN</td>\n",
       "      <td>0</td>\n",
       "      <td>NaN</td>\n",
       "      <td>NaN</td>\n",
       "      <td>NaN</td>\n",
       "      <td>NaN</td>\n",
       "      <td>NaN</td>\n",
       "      <td>NaN</td>\n",
       "      <td>NaN</td>\n",
       "      <td>NaN</td>\n",
       "      <td>NaN</td>\n",
       "      <td>NaN</td>\n",
       "      <td>NaN</td>\n",
       "      <td>NaN</td>\n",
       "      <td>NaN</td>\n",
       "      <td>NaN</td>\n",
       "      <td>NaN</td>\n",
       "      <td>NaN</td>\n",
       "      <td>NaN</td>\n",
       "      <td>NaN</td>\n",
       "      <td>NaN</td>\n",
       "      <td>NaN</td>\n",
       "      <td>NaN</td>\n",
       "      <td>0.0</td>\n",
       "      <td>0</td>\n",
       "      <td>NaN</td>\n",
       "      <td>NaN</td>\n",
       "      <td>NaN</td>\n",
       "      <td>NaN</td>\n",
       "      <td>NaN</td>\n",
       "      <td>NaN</td>\n",
       "      <td>NaN</td>\n",
       "      <td>NaN</td>\n",
       "      <td>NaN</td>\n",
       "      <td>NaN</td>\n",
       "      <td>NaN</td>\n",
       "      <td>NaN</td>\n",
       "      <td>NaN</td>\n",
       "      <td>NaN</td>\n",
       "      <td>NaN</td>\n",
       "      <td>NaN</td>\n",
       "      <td>NaN</td>\n",
       "      <td>NaN</td>\n",
       "      <td>NaN</td>\n",
       "      <td>NaN</td>\n",
       "      <td>NaN</td>\n",
       "      <td>NaN</td>\n",
       "      <td>NaN</td>\n",
       "      <td>NaN</td>\n",
       "      <td>NaN</td>\n",
       "      <td>0.0</td>\n",
       "      <td>0.0</td>\n",
       "      <td>NaN</td>\n",
       "      <td>NaN</td>\n",
       "      <td>NaN</td>\n",
       "      <td>NaN</td>\n",
       "    </tr>\n",
       "  </tbody>\n",
       "</table>\n",
       "</div>"
      ],
      "text/plain": [
       "        id  member_id  loan_amnt  funded_amnt  funded_amnt_inv        term  \\\n",
       "0  1077501    1296599       5000         5000           4975.0   36 months   \n",
       "1  1077430    1314167       2500         2500           2500.0   60 months   \n",
       "2  1077175    1313524       2400         2400           2400.0   36 months   \n",
       "3  1076863    1277178      10000        10000          10000.0   36 months   \n",
       "4  1075358    1311748       3000         3000           3000.0   60 months   \n",
       "\n",
       "  int_rate  installment grade sub_grade                 emp_title emp_length  \\\n",
       "0   10.65%       162.87     B        B2                       NaN  10+ years   \n",
       "1   15.27%        59.83     C        C4                     Ryder   < 1 year   \n",
       "2   15.96%        84.33     C        C5                       NaN  10+ years   \n",
       "3   13.49%       339.31     C        C1       AIR RESOURCES BOARD  10+ years   \n",
       "4   12.69%        67.79     B        B5  University Medical Group     1 year   \n",
       "\n",
       "  home_ownership  annual_inc verification_status issue_d  loan_status  \\\n",
       "0           RENT     24000.0            Verified  Dec-11   Fully Paid   \n",
       "1           RENT     30000.0     Source Verified  Dec-11  Charged Off   \n",
       "2           RENT     12252.0        Not Verified  Dec-11   Fully Paid   \n",
       "3           RENT     49200.0     Source Verified  Dec-11   Fully Paid   \n",
       "4           RENT     80000.0     Source Verified  Dec-11      Current   \n",
       "\n",
       "  pymnt_plan                                                url  \\\n",
       "0          n  https://lendingclub.com/browse/loanDetail.acti...   \n",
       "1          n  https://lendingclub.com/browse/loanDetail.acti...   \n",
       "2          n  https://lendingclub.com/browse/loanDetail.acti...   \n",
       "3          n  https://lendingclub.com/browse/loanDetail.acti...   \n",
       "4          n  https://lendingclub.com/browse/loanDetail.acti...   \n",
       "\n",
       "                                                desc         purpose  \\\n",
       "0    Borrower added on 12/22/11 > I need to upgra...     credit_card   \n",
       "1    Borrower added on 12/22/11 > I plan to use t...             car   \n",
       "2                                                NaN  small_business   \n",
       "3    Borrower added on 12/21/11 > to pay for prop...           other   \n",
       "4    Borrower added on 12/21/11 > I plan on combi...           other   \n",
       "\n",
       "                  title zip_code addr_state    dti  delinq_2yrs  \\\n",
       "0              Computer    860xx         AZ  27.65            0   \n",
       "1                  bike    309xx         GA   1.00            0   \n",
       "2  real estate business    606xx         IL   8.72            0   \n",
       "3              personel    917xx         CA  20.00            0   \n",
       "4              Personal    972xx         OR  17.94            0   \n",
       "\n",
       "  earliest_cr_line  inq_last_6mths  mths_since_last_delinq  \\\n",
       "0           Jan-85               1                     NaN   \n",
       "1           Apr-99               5                     NaN   \n",
       "2           Nov-01               2                     NaN   \n",
       "3           Feb-96               1                    35.0   \n",
       "4           Jan-96               0                    38.0   \n",
       "\n",
       "   mths_since_last_record  open_acc  pub_rec  revol_bal revol_util  total_acc  \\\n",
       "0                     NaN         3        0      13648     83.70%          9   \n",
       "1                     NaN         3        0       1687      9.40%          4   \n",
       "2                     NaN         2        0       2956     98.50%         10   \n",
       "3                     NaN        10        0       5598        21%         37   \n",
       "4                     NaN        15        0      27783     53.90%         38   \n",
       "\n",
       "  initial_list_status  out_prncp  out_prncp_inv   total_pymnt  \\\n",
       "0                   f       0.00           0.00   5863.155187   \n",
       "1                   f       0.00           0.00   1008.710000   \n",
       "2                   f       0.00           0.00   3005.666844   \n",
       "3                   f       0.00           0.00  12231.890000   \n",
       "4                   f     524.06         524.06   3513.330000   \n",
       "\n",
       "   total_pymnt_inv  total_rec_prncp  total_rec_int  total_rec_late_fee  \\\n",
       "0          5833.84          5000.00         863.16                0.00   \n",
       "1          1008.71           456.46         435.17                0.00   \n",
       "2          3005.67          2400.00         605.67                0.00   \n",
       "3         12231.89         10000.00        2214.92               16.97   \n",
       "4          3513.33          2475.94        1037.39                0.00   \n",
       "\n",
       "   recoveries  collection_recovery_fee last_pymnt_d  last_pymnt_amnt  \\\n",
       "0        0.00                     0.00       Jan-15           171.62   \n",
       "1      117.08                     1.11       Apr-13           119.66   \n",
       "2        0.00                     0.00       Jun-14           649.91   \n",
       "3        0.00                     0.00       Jan-15           357.48   \n",
       "4        0.00                     0.00       May-16            67.79   \n",
       "\n",
       "  next_pymnt_d last_credit_pull_d  collections_12_mths_ex_med  \\\n",
       "0          NaN             May-16                         0.0   \n",
       "1          NaN             Sep-13                         0.0   \n",
       "2          NaN             May-16                         0.0   \n",
       "3          NaN             Apr-16                         0.0   \n",
       "4       Jun-16             May-16                         0.0   \n",
       "\n",
       "   mths_since_last_major_derog  policy_code application_type  \\\n",
       "0                          NaN            1       INDIVIDUAL   \n",
       "1                          NaN            1       INDIVIDUAL   \n",
       "2                          NaN            1       INDIVIDUAL   \n",
       "3                          NaN            1       INDIVIDUAL   \n",
       "4                          NaN            1       INDIVIDUAL   \n",
       "\n",
       "   annual_inc_joint  dti_joint  verification_status_joint  acc_now_delinq  \\\n",
       "0               NaN        NaN                        NaN               0   \n",
       "1               NaN        NaN                        NaN               0   \n",
       "2               NaN        NaN                        NaN               0   \n",
       "3               NaN        NaN                        NaN               0   \n",
       "4               NaN        NaN                        NaN               0   \n",
       "\n",
       "   tot_coll_amt  tot_cur_bal  open_acc_6m  open_il_6m  open_il_12m  \\\n",
       "0           NaN          NaN          NaN         NaN          NaN   \n",
       "1           NaN          NaN          NaN         NaN          NaN   \n",
       "2           NaN          NaN          NaN         NaN          NaN   \n",
       "3           NaN          NaN          NaN         NaN          NaN   \n",
       "4           NaN          NaN          NaN         NaN          NaN   \n",
       "\n",
       "   open_il_24m  mths_since_rcnt_il  total_bal_il  il_util  open_rv_12m  \\\n",
       "0          NaN                 NaN           NaN      NaN          NaN   \n",
       "1          NaN                 NaN           NaN      NaN          NaN   \n",
       "2          NaN                 NaN           NaN      NaN          NaN   \n",
       "3          NaN                 NaN           NaN      NaN          NaN   \n",
       "4          NaN                 NaN           NaN      NaN          NaN   \n",
       "\n",
       "   open_rv_24m  max_bal_bc  all_util  total_rev_hi_lim  inq_fi  total_cu_tl  \\\n",
       "0          NaN         NaN       NaN               NaN     NaN          NaN   \n",
       "1          NaN         NaN       NaN               NaN     NaN          NaN   \n",
       "2          NaN         NaN       NaN               NaN     NaN          NaN   \n",
       "3          NaN         NaN       NaN               NaN     NaN          NaN   \n",
       "4          NaN         NaN       NaN               NaN     NaN          NaN   \n",
       "\n",
       "   inq_last_12m  acc_open_past_24mths  avg_cur_bal  bc_open_to_buy  bc_util  \\\n",
       "0           NaN                   NaN          NaN             NaN      NaN   \n",
       "1           NaN                   NaN          NaN             NaN      NaN   \n",
       "2           NaN                   NaN          NaN             NaN      NaN   \n",
       "3           NaN                   NaN          NaN             NaN      NaN   \n",
       "4           NaN                   NaN          NaN             NaN      NaN   \n",
       "\n",
       "   chargeoff_within_12_mths  delinq_amnt  mo_sin_old_il_acct  \\\n",
       "0                       0.0            0                 NaN   \n",
       "1                       0.0            0                 NaN   \n",
       "2                       0.0            0                 NaN   \n",
       "3                       0.0            0                 NaN   \n",
       "4                       0.0            0                 NaN   \n",
       "\n",
       "   mo_sin_old_rev_tl_op  mo_sin_rcnt_rev_tl_op  mo_sin_rcnt_tl  mort_acc  \\\n",
       "0                   NaN                    NaN             NaN       NaN   \n",
       "1                   NaN                    NaN             NaN       NaN   \n",
       "2                   NaN                    NaN             NaN       NaN   \n",
       "3                   NaN                    NaN             NaN       NaN   \n",
       "4                   NaN                    NaN             NaN       NaN   \n",
       "\n",
       "   mths_since_recent_bc  mths_since_recent_bc_dlq  mths_since_recent_inq  \\\n",
       "0                   NaN                       NaN                    NaN   \n",
       "1                   NaN                       NaN                    NaN   \n",
       "2                   NaN                       NaN                    NaN   \n",
       "3                   NaN                       NaN                    NaN   \n",
       "4                   NaN                       NaN                    NaN   \n",
       "\n",
       "   mths_since_recent_revol_delinq  num_accts_ever_120_pd  num_actv_bc_tl  \\\n",
       "0                             NaN                    NaN             NaN   \n",
       "1                             NaN                    NaN             NaN   \n",
       "2                             NaN                    NaN             NaN   \n",
       "3                             NaN                    NaN             NaN   \n",
       "4                             NaN                    NaN             NaN   \n",
       "\n",
       "   num_actv_rev_tl  num_bc_sats  num_bc_tl  num_il_tl  num_op_rev_tl  \\\n",
       "0              NaN          NaN        NaN        NaN            NaN   \n",
       "1              NaN          NaN        NaN        NaN            NaN   \n",
       "2              NaN          NaN        NaN        NaN            NaN   \n",
       "3              NaN          NaN        NaN        NaN            NaN   \n",
       "4              NaN          NaN        NaN        NaN            NaN   \n",
       "\n",
       "   num_rev_accts  num_rev_tl_bal_gt_0  num_sats  num_tl_120dpd_2m  \\\n",
       "0            NaN                  NaN       NaN               NaN   \n",
       "1            NaN                  NaN       NaN               NaN   \n",
       "2            NaN                  NaN       NaN               NaN   \n",
       "3            NaN                  NaN       NaN               NaN   \n",
       "4            NaN                  NaN       NaN               NaN   \n",
       "\n",
       "   num_tl_30dpd  num_tl_90g_dpd_24m  num_tl_op_past_12m  pct_tl_nvr_dlq  \\\n",
       "0           NaN                 NaN                 NaN             NaN   \n",
       "1           NaN                 NaN                 NaN             NaN   \n",
       "2           NaN                 NaN                 NaN             NaN   \n",
       "3           NaN                 NaN                 NaN             NaN   \n",
       "4           NaN                 NaN                 NaN             NaN   \n",
       "\n",
       "   percent_bc_gt_75  pub_rec_bankruptcies  tax_liens  tot_hi_cred_lim  \\\n",
       "0               NaN                   0.0        0.0              NaN   \n",
       "1               NaN                   0.0        0.0              NaN   \n",
       "2               NaN                   0.0        0.0              NaN   \n",
       "3               NaN                   0.0        0.0              NaN   \n",
       "4               NaN                   0.0        0.0              NaN   \n",
       "\n",
       "   total_bal_ex_mort  total_bc_limit  total_il_high_credit_limit  \n",
       "0                NaN             NaN                         NaN  \n",
       "1                NaN             NaN                         NaN  \n",
       "2                NaN             NaN                         NaN  \n",
       "3                NaN             NaN                         NaN  \n",
       "4                NaN             NaN                         NaN  "
      ]
     },
     "execution_count": 6,
     "metadata": {},
     "output_type": "execute_result"
    }
   ],
   "source": [
    "## Basic data exploration\n",
    "df_loan.head()"
   ]
  },
  {
   "cell_type": "code",
   "execution_count": 7,
   "metadata": {},
   "outputs": [
    {
     "data": {
      "text/plain": [
       "(39717, 111)"
      ]
     },
     "execution_count": 7,
     "metadata": {},
     "output_type": "execute_result"
    }
   ],
   "source": [
    "## shape - df_loan\n",
    "df_loan.shape"
   ]
  },
  {
   "cell_type": "code",
   "execution_count": 8,
   "metadata": {},
   "outputs": [
    {
     "name": "stdout",
     "output_type": "stream",
     "text": [
      "<class 'pandas.core.frame.DataFrame'>\n",
      "RangeIndex: 39717 entries, 0 to 39716\n",
      "Data columns (total 111 columns):\n",
      " #   Column                          Dtype  \n",
      "---  ------                          -----  \n",
      " 0   id                              int64  \n",
      " 1   member_id                       int64  \n",
      " 2   loan_amnt                       int64  \n",
      " 3   funded_amnt                     int64  \n",
      " 4   funded_amnt_inv                 float64\n",
      " 5   term                            object \n",
      " 6   int_rate                        object \n",
      " 7   installment                     float64\n",
      " 8   grade                           object \n",
      " 9   sub_grade                       object \n",
      " 10  emp_title                       object \n",
      " 11  emp_length                      object \n",
      " 12  home_ownership                  object \n",
      " 13  annual_inc                      float64\n",
      " 14  verification_status             object \n",
      " 15  issue_d                         object \n",
      " 16  loan_status                     object \n",
      " 17  pymnt_plan                      object \n",
      " 18  url                             object \n",
      " 19  desc                            object \n",
      " 20  purpose                         object \n",
      " 21  title                           object \n",
      " 22  zip_code                        object \n",
      " 23  addr_state                      object \n",
      " 24  dti                             float64\n",
      " 25  delinq_2yrs                     int64  \n",
      " 26  earliest_cr_line                object \n",
      " 27  inq_last_6mths                  int64  \n",
      " 28  mths_since_last_delinq          float64\n",
      " 29  mths_since_last_record          float64\n",
      " 30  open_acc                        int64  \n",
      " 31  pub_rec                         int64  \n",
      " 32  revol_bal                       int64  \n",
      " 33  revol_util                      object \n",
      " 34  total_acc                       int64  \n",
      " 35  initial_list_status             object \n",
      " 36  out_prncp                       float64\n",
      " 37  out_prncp_inv                   float64\n",
      " 38  total_pymnt                     float64\n",
      " 39  total_pymnt_inv                 float64\n",
      " 40  total_rec_prncp                 float64\n",
      " 41  total_rec_int                   float64\n",
      " 42  total_rec_late_fee              float64\n",
      " 43  recoveries                      float64\n",
      " 44  collection_recovery_fee         float64\n",
      " 45  last_pymnt_d                    object \n",
      " 46  last_pymnt_amnt                 float64\n",
      " 47  next_pymnt_d                    object \n",
      " 48  last_credit_pull_d              object \n",
      " 49  collections_12_mths_ex_med      float64\n",
      " 50  mths_since_last_major_derog     float64\n",
      " 51  policy_code                     int64  \n",
      " 52  application_type                object \n",
      " 53  annual_inc_joint                float64\n",
      " 54  dti_joint                       float64\n",
      " 55  verification_status_joint       float64\n",
      " 56  acc_now_delinq                  int64  \n",
      " 57  tot_coll_amt                    float64\n",
      " 58  tot_cur_bal                     float64\n",
      " 59  open_acc_6m                     float64\n",
      " 60  open_il_6m                      float64\n",
      " 61  open_il_12m                     float64\n",
      " 62  open_il_24m                     float64\n",
      " 63  mths_since_rcnt_il              float64\n",
      " 64  total_bal_il                    float64\n",
      " 65  il_util                         float64\n",
      " 66  open_rv_12m                     float64\n",
      " 67  open_rv_24m                     float64\n",
      " 68  max_bal_bc                      float64\n",
      " 69  all_util                        float64\n",
      " 70  total_rev_hi_lim                float64\n",
      " 71  inq_fi                          float64\n",
      " 72  total_cu_tl                     float64\n",
      " 73  inq_last_12m                    float64\n",
      " 74  acc_open_past_24mths            float64\n",
      " 75  avg_cur_bal                     float64\n",
      " 76  bc_open_to_buy                  float64\n",
      " 77  bc_util                         float64\n",
      " 78  chargeoff_within_12_mths        float64\n",
      " 79  delinq_amnt                     int64  \n",
      " 80  mo_sin_old_il_acct              float64\n",
      " 81  mo_sin_old_rev_tl_op            float64\n",
      " 82  mo_sin_rcnt_rev_tl_op           float64\n",
      " 83  mo_sin_rcnt_tl                  float64\n",
      " 84  mort_acc                        float64\n",
      " 85  mths_since_recent_bc            float64\n",
      " 86  mths_since_recent_bc_dlq        float64\n",
      " 87  mths_since_recent_inq           float64\n",
      " 88  mths_since_recent_revol_delinq  float64\n",
      " 89  num_accts_ever_120_pd           float64\n",
      " 90  num_actv_bc_tl                  float64\n",
      " 91  num_actv_rev_tl                 float64\n",
      " 92  num_bc_sats                     float64\n",
      " 93  num_bc_tl                       float64\n",
      " 94  num_il_tl                       float64\n",
      " 95  num_op_rev_tl                   float64\n",
      " 96  num_rev_accts                   float64\n",
      " 97  num_rev_tl_bal_gt_0             float64\n",
      " 98  num_sats                        float64\n",
      " 99  num_tl_120dpd_2m                float64\n",
      " 100 num_tl_30dpd                    float64\n",
      " 101 num_tl_90g_dpd_24m              float64\n",
      " 102 num_tl_op_past_12m              float64\n",
      " 103 pct_tl_nvr_dlq                  float64\n",
      " 104 percent_bc_gt_75                float64\n",
      " 105 pub_rec_bankruptcies            float64\n",
      " 106 tax_liens                       float64\n",
      " 107 tot_hi_cred_lim                 float64\n",
      " 108 total_bal_ex_mort               float64\n",
      " 109 total_bc_limit                  float64\n",
      " 110 total_il_high_credit_limit      float64\n",
      "dtypes: float64(74), int64(13), object(24)\n",
      "memory usage: 30.0+ MB\n"
     ]
    }
   ],
   "source": [
    "## Check the columns - data types\n",
    "df_loan.info( verbose=True )"
   ]
  },
  {
   "cell_type": "code",
   "execution_count": 9,
   "metadata": {},
   "outputs": [
    {
     "name": "stdout",
     "output_type": "stream",
     "text": [
      "id                                    0\n",
      "member_id                             0\n",
      "loan_amnt                             0\n",
      "funded_amnt                           0\n",
      "funded_amnt_inv                       0\n",
      "term                                  0\n",
      "int_rate                              0\n",
      "installment                           0\n",
      "grade                                 0\n",
      "sub_grade                             0\n",
      "emp_title                          2459\n",
      "emp_length                         1075\n",
      "home_ownership                        0\n",
      "annual_inc                            0\n",
      "verification_status                   0\n",
      "issue_d                               0\n",
      "loan_status                           0\n",
      "pymnt_plan                            0\n",
      "url                                   0\n",
      "desc                              12940\n",
      "purpose                               0\n",
      "title                                11\n",
      "zip_code                              0\n",
      "addr_state                            0\n",
      "dti                                   0\n",
      "delinq_2yrs                           0\n",
      "earliest_cr_line                      0\n",
      "inq_last_6mths                        0\n",
      "mths_since_last_delinq            25682\n",
      "mths_since_last_record            36931\n",
      "open_acc                              0\n",
      "pub_rec                               0\n",
      "revol_bal                             0\n",
      "revol_util                           50\n",
      "total_acc                             0\n",
      "initial_list_status                   0\n",
      "out_prncp                             0\n",
      "out_prncp_inv                         0\n",
      "total_pymnt                           0\n",
      "total_pymnt_inv                       0\n",
      "total_rec_prncp                       0\n",
      "total_rec_int                         0\n",
      "total_rec_late_fee                    0\n",
      "recoveries                            0\n",
      "collection_recovery_fee               0\n",
      "last_pymnt_d                         71\n",
      "last_pymnt_amnt                       0\n",
      "next_pymnt_d                      38577\n",
      "last_credit_pull_d                    2\n",
      "collections_12_mths_ex_med           56\n",
      "mths_since_last_major_derog       39717\n",
      "policy_code                           0\n",
      "application_type                      0\n",
      "annual_inc_joint                  39717\n",
      "dti_joint                         39717\n",
      "verification_status_joint         39717\n",
      "acc_now_delinq                        0\n",
      "tot_coll_amt                      39717\n",
      "tot_cur_bal                       39717\n",
      "open_acc_6m                       39717\n",
      "open_il_6m                        39717\n",
      "open_il_12m                       39717\n",
      "open_il_24m                       39717\n",
      "mths_since_rcnt_il                39717\n",
      "total_bal_il                      39717\n",
      "il_util                           39717\n",
      "open_rv_12m                       39717\n",
      "open_rv_24m                       39717\n",
      "max_bal_bc                        39717\n",
      "all_util                          39717\n",
      "total_rev_hi_lim                  39717\n",
      "inq_fi                            39717\n",
      "total_cu_tl                       39717\n",
      "inq_last_12m                      39717\n",
      "acc_open_past_24mths              39717\n",
      "avg_cur_bal                       39717\n",
      "bc_open_to_buy                    39717\n",
      "bc_util                           39717\n",
      "chargeoff_within_12_mths             56\n",
      "delinq_amnt                           0\n",
      "mo_sin_old_il_acct                39717\n",
      "mo_sin_old_rev_tl_op              39717\n",
      "mo_sin_rcnt_rev_tl_op             39717\n",
      "mo_sin_rcnt_tl                    39717\n",
      "mort_acc                          39717\n",
      "mths_since_recent_bc              39717\n",
      "mths_since_recent_bc_dlq          39717\n",
      "mths_since_recent_inq             39717\n",
      "mths_since_recent_revol_delinq    39717\n",
      "num_accts_ever_120_pd             39717\n",
      "num_actv_bc_tl                    39717\n",
      "num_actv_rev_tl                   39717\n",
      "num_bc_sats                       39717\n",
      "num_bc_tl                         39717\n",
      "num_il_tl                         39717\n",
      "num_op_rev_tl                     39717\n",
      "num_rev_accts                     39717\n",
      "num_rev_tl_bal_gt_0               39717\n",
      "num_sats                          39717\n",
      "num_tl_120dpd_2m                  39717\n",
      "num_tl_30dpd                      39717\n",
      "num_tl_90g_dpd_24m                39717\n",
      "num_tl_op_past_12m                39717\n",
      "pct_tl_nvr_dlq                    39717\n",
      "percent_bc_gt_75                  39717\n",
      "pub_rec_bankruptcies                697\n",
      "tax_liens                            39\n",
      "tot_hi_cred_lim                   39717\n",
      "total_bal_ex_mort                 39717\n",
      "total_bc_limit                    39717\n",
      "total_il_high_credit_limit        39717\n",
      "dtype: int64\n"
     ]
    }
   ],
   "source": [
    "## Check for null values\n",
    "print(df_loan.isnull().sum())"
   ]
  },
  {
   "cell_type": "code",
   "execution_count": 10,
   "metadata": {},
   "outputs": [
    {
     "name": "stdout",
     "output_type": "stream",
     "text": [
      "Index(['emp_title', 'emp_length', 'desc', 'title', 'mths_since_last_delinq',\n",
      "       'mths_since_last_record', 'revol_util', 'last_pymnt_d', 'next_pymnt_d',\n",
      "       'last_credit_pull_d', 'collections_12_mths_ex_med',\n",
      "       'mths_since_last_major_derog', 'annual_inc_joint', 'dti_joint',\n",
      "       'verification_status_joint', 'tot_coll_amt', 'tot_cur_bal',\n",
      "       'open_acc_6m', 'open_il_6m', 'open_il_12m', 'open_il_24m',\n",
      "       'mths_since_rcnt_il', 'total_bal_il', 'il_util', 'open_rv_12m',\n",
      "       'open_rv_24m', 'max_bal_bc', 'all_util', 'total_rev_hi_lim', 'inq_fi',\n",
      "       'total_cu_tl', 'inq_last_12m', 'acc_open_past_24mths', 'avg_cur_bal',\n",
      "       'bc_open_to_buy', 'bc_util', 'chargeoff_within_12_mths',\n",
      "       'mo_sin_old_il_acct', 'mo_sin_old_rev_tl_op', 'mo_sin_rcnt_rev_tl_op',\n",
      "       'mo_sin_rcnt_tl', 'mort_acc', 'mths_since_recent_bc',\n",
      "       'mths_since_recent_bc_dlq', 'mths_since_recent_inq',\n",
      "       'mths_since_recent_revol_delinq', 'num_accts_ever_120_pd',\n",
      "       'num_actv_bc_tl', 'num_actv_rev_tl', 'num_bc_sats', 'num_bc_tl',\n",
      "       'num_il_tl', 'num_op_rev_tl', 'num_rev_accts', 'num_rev_tl_bal_gt_0',\n",
      "       'num_sats', 'num_tl_120dpd_2m', 'num_tl_30dpd', 'num_tl_90g_dpd_24m',\n",
      "       'num_tl_op_past_12m', 'pct_tl_nvr_dlq', 'percent_bc_gt_75',\n",
      "       'pub_rec_bankruptcies', 'tax_liens', 'tot_hi_cred_lim',\n",
      "       'total_bal_ex_mort', 'total_bc_limit', 'total_il_high_credit_limit'],\n",
      "      dtype='object')\n"
     ]
    }
   ],
   "source": [
    "## Check for the columns we have missing values\n",
    "print(df_loan.columns[df_loan.isnull().sum()>0])"
   ]
  },
  {
   "cell_type": "code",
   "execution_count": 11,
   "metadata": {},
   "outputs": [
    {
     "data": {
      "text/plain": [
       "68"
      ]
     },
     "execution_count": 11,
     "metadata": {},
     "output_type": "execute_result"
    }
   ],
   "source": [
    "## Total columns we have missing values-\n",
    "len(df_loan.columns[df_loan.isnull().sum()>0])"
   ]
  },
  {
   "cell_type": "markdown",
   "metadata": {},
   "source": [
    "#### Analysis -  We have total 68 columns with missing values"
   ]
  },
  {
   "cell_type": "markdown",
   "metadata": {},
   "source": [
    "## 02. Data Understanding"
   ]
  },
  {
   "cell_type": "code",
   "execution_count": 12,
   "metadata": {
    "scrolled": true
   },
   "outputs": [
    {
     "name": "stdout",
     "output_type": "stream",
     "text": [
      "['id' 'member_id' 'loan_amnt' 'funded_amnt' 'funded_amnt_inv' 'term'\n",
      " 'int_rate' 'installment' 'grade' 'sub_grade' 'emp_title' 'emp_length'\n",
      " 'home_ownership' 'annual_inc' 'verification_status' 'issue_d'\n",
      " 'loan_status' 'pymnt_plan' 'url' 'desc' 'purpose' 'title' 'zip_code'\n",
      " 'addr_state' 'dti' 'delinq_2yrs' 'earliest_cr_line' 'inq_last_6mths'\n",
      " 'mths_since_last_delinq' 'mths_since_last_record' 'open_acc' 'pub_rec'\n",
      " 'revol_bal' 'revol_util' 'total_acc' 'initial_list_status' 'out_prncp'\n",
      " 'out_prncp_inv' 'total_pymnt' 'total_pymnt_inv' 'total_rec_prncp'\n",
      " 'total_rec_int' 'total_rec_late_fee' 'recoveries'\n",
      " 'collection_recovery_fee' 'last_pymnt_d' 'last_pymnt_amnt' 'next_pymnt_d'\n",
      " 'last_credit_pull_d' 'collections_12_mths_ex_med'\n",
      " 'mths_since_last_major_derog' 'policy_code' 'application_type'\n",
      " 'annual_inc_joint' 'dti_joint' 'verification_status_joint'\n",
      " 'acc_now_delinq' 'tot_coll_amt' 'tot_cur_bal' 'open_acc_6m' 'open_il_6m'\n",
      " 'open_il_12m' 'open_il_24m' 'mths_since_rcnt_il' 'total_bal_il' 'il_util'\n",
      " 'open_rv_12m' 'open_rv_24m' 'max_bal_bc' 'all_util' 'total_rev_hi_lim'\n",
      " 'inq_fi' 'total_cu_tl' 'inq_last_12m' 'acc_open_past_24mths'\n",
      " 'avg_cur_bal' 'bc_open_to_buy' 'bc_util' 'chargeoff_within_12_mths'\n",
      " 'delinq_amnt' 'mo_sin_old_il_acct' 'mo_sin_old_rev_tl_op'\n",
      " 'mo_sin_rcnt_rev_tl_op' 'mo_sin_rcnt_tl' 'mort_acc'\n",
      " 'mths_since_recent_bc' 'mths_since_recent_bc_dlq' 'mths_since_recent_inq'\n",
      " 'mths_since_recent_revol_delinq' 'num_accts_ever_120_pd' 'num_actv_bc_tl'\n",
      " 'num_actv_rev_tl' 'num_bc_sats' 'num_bc_tl' 'num_il_tl' 'num_op_rev_tl'\n",
      " 'num_rev_accts' 'num_rev_tl_bal_gt_0' 'num_sats' 'num_tl_120dpd_2m'\n",
      " 'num_tl_30dpd' 'num_tl_90g_dpd_24m' 'num_tl_op_past_12m' 'pct_tl_nvr_dlq'\n",
      " 'percent_bc_gt_75' 'pub_rec_bankruptcies' 'tax_liens' 'tot_hi_cred_lim'\n",
      " 'total_bal_ex_mort' 'total_bc_limit' 'total_il_high_credit_limit']\n"
     ]
    }
   ],
   "source": [
    "print(df_loan.columns.values)"
   ]
  },
  {
   "cell_type": "markdown",
   "metadata": {},
   "source": [
    "<b>Types of variables</b>\n",
    "  <ul>\n",
    "    <li>Customer (applicant) demographic</li>\n",
    "    <li>Loan related information & characteristics</li>\n",
    "    <li>Customer behavior (if the loan is granted)</li>\n",
    "  </ul>\n",
    "  \n",
    "  <b>Examples-</b>\n",
    "  <ul>\n",
    "    <li><b>Customer (applicant) demographic:</b> emp_length,emp_title, annual_inc, zip_code, desc etc. </li>\n",
    "    <li><b>Loan related information & characteristics:</b> loan_amnt , funded_amnt, funded_amnt_inv,int_rate,loan_stattus ,grade etc. </li>\n",
    "    <li><b>Customer behavior:</b> purpose,delinq_2yrs, recoveries , revol_bal etc. </li>\n",
    "  </ul>\n",
    "\n",
    "<p>The target variable, which we want to compare across the independent variables, is loan status. The strategy is to figure out compare the average default rates across various independent variables and identify the ones that affect default rate the most.</p>"
   ]
  },
  {
   "cell_type": "markdown",
   "metadata": {},
   "source": [
    "## 03. Data Cleaning"
   ]
  },
  {
   "cell_type": "code",
   "execution_count": 13,
   "metadata": {},
   "outputs": [
    {
     "data": {
      "text/plain": [
       "id                                  0.0\n",
       "member_id                           0.0\n",
       "loan_amnt                           0.0\n",
       "funded_amnt                         0.0\n",
       "funded_amnt_inv                     0.0\n",
       "term                                0.0\n",
       "int_rate                            0.0\n",
       "installment                         0.0\n",
       "grade                               0.0\n",
       "sub_grade                           0.0\n",
       "emp_title                           6.0\n",
       "emp_length                          3.0\n",
       "home_ownership                      0.0\n",
       "annual_inc                          0.0\n",
       "verification_status                 0.0\n",
       "issue_d                             0.0\n",
       "loan_status                         0.0\n",
       "pymnt_plan                          0.0\n",
       "url                                 0.0\n",
       "desc                               33.0\n",
       "purpose                             0.0\n",
       "title                               0.0\n",
       "zip_code                            0.0\n",
       "addr_state                          0.0\n",
       "dti                                 0.0\n",
       "delinq_2yrs                         0.0\n",
       "earliest_cr_line                    0.0\n",
       "inq_last_6mths                      0.0\n",
       "mths_since_last_delinq             65.0\n",
       "mths_since_last_record             93.0\n",
       "open_acc                            0.0\n",
       "pub_rec                             0.0\n",
       "revol_bal                           0.0\n",
       "revol_util                          0.0\n",
       "total_acc                           0.0\n",
       "initial_list_status                 0.0\n",
       "out_prncp                           0.0\n",
       "out_prncp_inv                       0.0\n",
       "total_pymnt                         0.0\n",
       "total_pymnt_inv                     0.0\n",
       "total_rec_prncp                     0.0\n",
       "total_rec_int                       0.0\n",
       "total_rec_late_fee                  0.0\n",
       "recoveries                          0.0\n",
       "collection_recovery_fee             0.0\n",
       "last_pymnt_d                        0.0\n",
       "last_pymnt_amnt                     0.0\n",
       "next_pymnt_d                       97.0\n",
       "last_credit_pull_d                  0.0\n",
       "collections_12_mths_ex_med          0.0\n",
       "mths_since_last_major_derog       100.0\n",
       "policy_code                         0.0\n",
       "application_type                    0.0\n",
       "annual_inc_joint                  100.0\n",
       "dti_joint                         100.0\n",
       "verification_status_joint         100.0\n",
       "acc_now_delinq                      0.0\n",
       "tot_coll_amt                      100.0\n",
       "tot_cur_bal                       100.0\n",
       "open_acc_6m                       100.0\n",
       "open_il_6m                        100.0\n",
       "open_il_12m                       100.0\n",
       "open_il_24m                       100.0\n",
       "mths_since_rcnt_il                100.0\n",
       "total_bal_il                      100.0\n",
       "il_util                           100.0\n",
       "open_rv_12m                       100.0\n",
       "open_rv_24m                       100.0\n",
       "max_bal_bc                        100.0\n",
       "all_util                          100.0\n",
       "total_rev_hi_lim                  100.0\n",
       "inq_fi                            100.0\n",
       "total_cu_tl                       100.0\n",
       "inq_last_12m                      100.0\n",
       "acc_open_past_24mths              100.0\n",
       "avg_cur_bal                       100.0\n",
       "bc_open_to_buy                    100.0\n",
       "bc_util                           100.0\n",
       "chargeoff_within_12_mths            0.0\n",
       "delinq_amnt                         0.0\n",
       "mo_sin_old_il_acct                100.0\n",
       "mo_sin_old_rev_tl_op              100.0\n",
       "mo_sin_rcnt_rev_tl_op             100.0\n",
       "mo_sin_rcnt_tl                    100.0\n",
       "mort_acc                          100.0\n",
       "mths_since_recent_bc              100.0\n",
       "mths_since_recent_bc_dlq          100.0\n",
       "mths_since_recent_inq             100.0\n",
       "mths_since_recent_revol_delinq    100.0\n",
       "num_accts_ever_120_pd             100.0\n",
       "num_actv_bc_tl                    100.0\n",
       "num_actv_rev_tl                   100.0\n",
       "num_bc_sats                       100.0\n",
       "num_bc_tl                         100.0\n",
       "num_il_tl                         100.0\n",
       "num_op_rev_tl                     100.0\n",
       "num_rev_accts                     100.0\n",
       "num_rev_tl_bal_gt_0               100.0\n",
       "num_sats                          100.0\n",
       "num_tl_120dpd_2m                  100.0\n",
       "num_tl_30dpd                      100.0\n",
       "num_tl_90g_dpd_24m                100.0\n",
       "num_tl_op_past_12m                100.0\n",
       "pct_tl_nvr_dlq                    100.0\n",
       "percent_bc_gt_75                  100.0\n",
       "pub_rec_bankruptcies                2.0\n",
       "tax_liens                           0.0\n",
       "tot_hi_cred_lim                   100.0\n",
       "total_bal_ex_mort                 100.0\n",
       "total_bc_limit                    100.0\n",
       "total_il_high_credit_limit        100.0\n",
       "dtype: float64"
      ]
     },
     "execution_count": 13,
     "metadata": {},
     "output_type": "execute_result"
    }
   ],
   "source": [
    "## Just check the percentages of missing values\n",
    "missing_columns = 100*round(df_loan.isnull().sum()/len(df_loan.index),2)\n",
    "missing_columns"
   ]
  },
  {
   "cell_type": "markdown",
   "metadata": {},
   "source": [
    "#### Analysis  - There are many columns with 100% missing data - Let's drop them straight away"
   ]
  },
  {
   "cell_type": "code",
   "execution_count": 14,
   "metadata": {},
   "outputs": [
    {
     "data": {
      "text/plain": [
       "mths_since_last_major_derog       100.0\n",
       "annual_inc_joint                  100.0\n",
       "dti_joint                         100.0\n",
       "verification_status_joint         100.0\n",
       "tot_coll_amt                      100.0\n",
       "tot_cur_bal                       100.0\n",
       "open_acc_6m                       100.0\n",
       "open_il_6m                        100.0\n",
       "open_il_12m                       100.0\n",
       "open_il_24m                       100.0\n",
       "mths_since_rcnt_il                100.0\n",
       "total_bal_il                      100.0\n",
       "il_util                           100.0\n",
       "open_rv_12m                       100.0\n",
       "open_rv_24m                       100.0\n",
       "max_bal_bc                        100.0\n",
       "all_util                          100.0\n",
       "total_rev_hi_lim                  100.0\n",
       "inq_fi                            100.0\n",
       "total_cu_tl                       100.0\n",
       "inq_last_12m                      100.0\n",
       "acc_open_past_24mths              100.0\n",
       "avg_cur_bal                       100.0\n",
       "bc_open_to_buy                    100.0\n",
       "bc_util                           100.0\n",
       "mo_sin_old_il_acct                100.0\n",
       "mo_sin_old_rev_tl_op              100.0\n",
       "mo_sin_rcnt_rev_tl_op             100.0\n",
       "mo_sin_rcnt_tl                    100.0\n",
       "mort_acc                          100.0\n",
       "mths_since_recent_bc              100.0\n",
       "mths_since_recent_bc_dlq          100.0\n",
       "mths_since_recent_inq             100.0\n",
       "mths_since_recent_revol_delinq    100.0\n",
       "num_accts_ever_120_pd             100.0\n",
       "num_actv_bc_tl                    100.0\n",
       "num_actv_rev_tl                   100.0\n",
       "num_bc_sats                       100.0\n",
       "num_bc_tl                         100.0\n",
       "num_il_tl                         100.0\n",
       "num_op_rev_tl                     100.0\n",
       "num_rev_accts                     100.0\n",
       "num_rev_tl_bal_gt_0               100.0\n",
       "num_sats                          100.0\n",
       "num_tl_120dpd_2m                  100.0\n",
       "num_tl_30dpd                      100.0\n",
       "num_tl_90g_dpd_24m                100.0\n",
       "num_tl_op_past_12m                100.0\n",
       "pct_tl_nvr_dlq                    100.0\n",
       "percent_bc_gt_75                  100.0\n",
       "tot_hi_cred_lim                   100.0\n",
       "total_bal_ex_mort                 100.0\n",
       "total_bc_limit                    100.0\n",
       "total_il_high_credit_limit        100.0\n",
       "dtype: float64"
      ]
     },
     "execution_count": 14,
     "metadata": {},
     "output_type": "execute_result"
    }
   ],
   "source": [
    "full_missing_columns=missing_columns[missing_columns==100]\n",
    "full_missing_columns"
   ]
  },
  {
   "cell_type": "code",
   "execution_count": 15,
   "metadata": {},
   "outputs": [
    {
     "data": {
      "text/plain": [
       "54"
      ]
     },
     "execution_count": 15,
     "metadata": {},
     "output_type": "execute_result"
    }
   ],
   "source": [
    "## Count total null columns\n",
    "len(full_missing_columns)"
   ]
  },
  {
   "cell_type": "code",
   "execution_count": 16,
   "metadata": {},
   "outputs": [],
   "source": [
    "## Dropping the null columns\n",
    "df_loan=df_loan.drop(full_missing_columns.index, axis=1)"
   ]
  },
  {
   "cell_type": "code",
   "execution_count": 17,
   "metadata": {},
   "outputs": [
    {
     "data": {
      "text/plain": [
       "(39717, 57)"
      ]
     },
     "execution_count": 17,
     "metadata": {},
     "output_type": "execute_result"
    }
   ],
   "source": [
    "## Checking after dropping all the null columns\n",
    "df_loan.shape"
   ]
  },
  {
   "cell_type": "code",
   "execution_count": 18,
   "metadata": {},
   "outputs": [
    {
     "data": {
      "text/plain": [
       "emp_title                  6.0\n",
       "emp_length                 3.0\n",
       "desc                      33.0\n",
       "mths_since_last_delinq    65.0\n",
       "mths_since_last_record    93.0\n",
       "next_pymnt_d              97.0\n",
       "pub_rec_bankruptcies       2.0\n",
       "dtype: float64"
      ]
     },
     "execution_count": 18,
     "metadata": {},
     "output_type": "execute_result"
    }
   ],
   "source": [
    "## Lets check the columns with partial null values\n",
    "\n",
    "missing_columns = 100*round(df_loan.isnull().sum()/len(df_loan.index),2)\n",
    "missing_columns[missing_columns!=0]"
   ]
  },
  {
   "cell_type": "markdown",
   "metadata": {},
   "source": [
    "#### Analysis -  We still have 3 columns with more than 50% of missing values \n",
    "<ul>\n",
    "    <li>\n",
    "mths_since_last_delinq - The number of months since the borrower's last delinquency.\n",
    "    </li>\n",
    "    <li>\n",
    "mths_since_last_record-The number of months since the last public record.\n",
    "    </li>\n",
    "     <li>\n",
    "    Next scheduled payment date\n",
    "     </li>\n",
    "</ul>\n",
    "<p>\n",
    "    These three variables are customer behavioural variable and not available at the time of loan approval. Thus they are not important for loan prediction. We can remove them. \n",
    "</p>"
   ]
  },
  {
   "cell_type": "code",
   "execution_count": 19,
   "metadata": {},
   "outputs": [],
   "source": [
    "## Dropping the null columns\n",
    "df_loan=df_loan.drop(missing_columns[missing_columns>50].index, axis=1)"
   ]
  },
  {
   "cell_type": "code",
   "execution_count": 20,
   "metadata": {},
   "outputs": [
    {
     "data": {
      "text/plain": [
       "(39717, 54)"
      ]
     },
     "execution_count": 20,
     "metadata": {},
     "output_type": "execute_result"
    }
   ],
   "source": [
    "df_loan.shape"
   ]
  },
  {
   "cell_type": "code",
   "execution_count": 21,
   "metadata": {},
   "outputs": [
    {
     "data": {
      "text/plain": [
       "emp_title                6.0\n",
       "emp_length               3.0\n",
       "desc                    33.0\n",
       "pub_rec_bankruptcies     2.0\n",
       "dtype: float64"
      ]
     },
     "execution_count": 21,
     "metadata": {},
     "output_type": "execute_result"
    }
   ],
   "source": [
    "## Let's check further if we can identify anyother columns\n",
    "missing_columns = 100*round(df_loan.isnull().sum()/len(df_loan.index),2)\n",
    "missing_columns[missing_columns!=0]"
   ]
  },
  {
   "cell_type": "markdown",
   "metadata": {},
   "source": [
    "#### Analysis - The desc (Loan description provided by the borrower) column has higher null values and it appears that is not important for our analysis . We are dropping it from our analysis"
   ]
  },
  {
   "cell_type": "code",
   "execution_count": 22,
   "metadata": {},
   "outputs": [
    {
     "data": {
      "text/plain": [
       "(39717, 53)"
      ]
     },
     "execution_count": 22,
     "metadata": {},
     "output_type": "execute_result"
    }
   ],
   "source": [
    "df_loan.drop('desc',axis=1,inplace=True)\n",
    "df_loan.shape"
   ]
  },
  {
   "cell_type": "code",
   "execution_count": 23,
   "metadata": {},
   "outputs": [
    {
     "name": "stdout",
     "output_type": "stream",
     "text": [
      "<class 'pandas.core.frame.DataFrame'>\n",
      "RangeIndex: 39717 entries, 0 to 39716\n",
      "Data columns (total 53 columns):\n",
      " #   Column                      Non-Null Count  Dtype  \n",
      "---  ------                      --------------  -----  \n",
      " 0   id                          39717 non-null  int64  \n",
      " 1   member_id                   39717 non-null  int64  \n",
      " 2   loan_amnt                   39717 non-null  int64  \n",
      " 3   funded_amnt                 39717 non-null  int64  \n",
      " 4   funded_amnt_inv             39717 non-null  float64\n",
      " 5   term                        39717 non-null  object \n",
      " 6   int_rate                    39717 non-null  object \n",
      " 7   installment                 39717 non-null  float64\n",
      " 8   grade                       39717 non-null  object \n",
      " 9   sub_grade                   39717 non-null  object \n",
      " 10  emp_title                   37258 non-null  object \n",
      " 11  emp_length                  38642 non-null  object \n",
      " 12  home_ownership              39717 non-null  object \n",
      " 13  annual_inc                  39717 non-null  float64\n",
      " 14  verification_status         39717 non-null  object \n",
      " 15  issue_d                     39717 non-null  object \n",
      " 16  loan_status                 39717 non-null  object \n",
      " 17  pymnt_plan                  39717 non-null  object \n",
      " 18  url                         39717 non-null  object \n",
      " 19  purpose                     39717 non-null  object \n",
      " 20  title                       39706 non-null  object \n",
      " 21  zip_code                    39717 non-null  object \n",
      " 22  addr_state                  39717 non-null  object \n",
      " 23  dti                         39717 non-null  float64\n",
      " 24  delinq_2yrs                 39717 non-null  int64  \n",
      " 25  earliest_cr_line            39717 non-null  object \n",
      " 26  inq_last_6mths              39717 non-null  int64  \n",
      " 27  open_acc                    39717 non-null  int64  \n",
      " 28  pub_rec                     39717 non-null  int64  \n",
      " 29  revol_bal                   39717 non-null  int64  \n",
      " 30  revol_util                  39667 non-null  object \n",
      " 31  total_acc                   39717 non-null  int64  \n",
      " 32  initial_list_status         39717 non-null  object \n",
      " 33  out_prncp                   39717 non-null  float64\n",
      " 34  out_prncp_inv               39717 non-null  float64\n",
      " 35  total_pymnt                 39717 non-null  float64\n",
      " 36  total_pymnt_inv             39717 non-null  float64\n",
      " 37  total_rec_prncp             39717 non-null  float64\n",
      " 38  total_rec_int               39717 non-null  float64\n",
      " 39  total_rec_late_fee          39717 non-null  float64\n",
      " 40  recoveries                  39717 non-null  float64\n",
      " 41  collection_recovery_fee     39717 non-null  float64\n",
      " 42  last_pymnt_d                39646 non-null  object \n",
      " 43  last_pymnt_amnt             39717 non-null  float64\n",
      " 44  last_credit_pull_d          39715 non-null  object \n",
      " 45  collections_12_mths_ex_med  39661 non-null  float64\n",
      " 46  policy_code                 39717 non-null  int64  \n",
      " 47  application_type            39717 non-null  object \n",
      " 48  acc_now_delinq              39717 non-null  int64  \n",
      " 49  chargeoff_within_12_mths    39661 non-null  float64\n",
      " 50  delinq_amnt                 39717 non-null  int64  \n",
      " 51  pub_rec_bankruptcies        39020 non-null  float64\n",
      " 52  tax_liens                   39678 non-null  float64\n",
      "dtypes: float64(18), int64(13), object(22)\n",
      "memory usage: 12.7+ MB\n"
     ]
    }
   ],
   "source": [
    "## Check the current dataframe\n",
    "df_loan.info()"
   ]
  },
  {
   "cell_type": "markdown",
   "metadata": {},
   "source": [
    "#### Analysis - It appears that several columns have the unique values . We will eventually drop them as they are not a predictor for loan approval"
   ]
  },
  {
   "cell_type": "code",
   "execution_count": 24,
   "metadata": {},
   "outputs": [
    {
     "data": {
      "text/plain": [
       "tax_liens                         1\n",
       "delinq_amnt                       1\n",
       "chargeoff_within_12_mths          1\n",
       "acc_now_delinq                    1\n",
       "application_type                  1\n",
       "policy_code                       1\n",
       "collections_12_mths_ex_med        1\n",
       "initial_list_status               1\n",
       "pymnt_plan                        1\n",
       "term                              2\n",
       "pub_rec_bankruptcies              3\n",
       "verification_status               3\n",
       "loan_status                       3\n",
       "pub_rec                           5\n",
       "home_ownership                    5\n",
       "grade                             7\n",
       "inq_last_6mths                    9\n",
       "delinq_2yrs                      11\n",
       "emp_length                       11\n",
       "purpose                          14\n",
       "sub_grade                        35\n",
       "open_acc                         40\n",
       "addr_state                       50\n",
       "issue_d                          55\n",
       "total_acc                        82\n",
       "last_pymnt_d                    101\n",
       "last_credit_pull_d              106\n",
       "int_rate                        371\n",
       "earliest_cr_line                526\n",
       "zip_code                        823\n",
       "loan_amnt                       885\n",
       "funded_amnt                    1041\n",
       "revol_util                     1089\n",
       "out_prncp                      1137\n",
       "out_prncp_inv                  1138\n",
       "total_rec_late_fee             1356\n",
       "collection_recovery_fee        2616\n",
       "dti                            2868\n",
       "recoveries                     4040\n",
       "annual_inc                     5318\n",
       "total_rec_prncp                7976\n",
       "funded_amnt_inv                8205\n",
       "installment                   15383\n",
       "title                         19615\n",
       "revol_bal                     21711\n",
       "emp_title                     28820\n",
       "last_pymnt_amnt               34930\n",
       "total_rec_int                 35148\n",
       "total_pymnt_inv               37518\n",
       "total_pymnt                   37850\n",
       "url                           39717\n",
       "member_id                     39717\n",
       "id                            39717\n",
       "dtype: int64"
      ]
     },
     "execution_count": 24,
     "metadata": {},
     "output_type": "execute_result"
    }
   ],
   "source": [
    "df_loan.nunique().sort_values()"
   ]
  },
  {
   "cell_type": "code",
   "execution_count": 25,
   "metadata": {},
   "outputs": [
    {
     "data": {
      "text/plain": [
       "emp_title               6.0\n",
       "emp_length              3.0\n",
       "pub_rec_bankruptcies    2.0\n",
       "dtype: float64"
      ]
     },
     "execution_count": 25,
     "metadata": {},
     "output_type": "execute_result"
    }
   ],
   "source": [
    "## We can clearly see there are several columns with Unique values or single values.\n",
    "## Let's check once more for the null values - in the column\n",
    "\n",
    "missing_columns = 100*round(df_loan.isnull().sum()/len(df_loan.index),2)\n",
    "missing_columns[missing_columns!=0]"
   ]
  },
  {
   "cell_type": "markdown",
   "metadata": {},
   "source": [
    "#### It appears that all the null columns are categorical variable - Let's check one by one"
   ]
  },
  {
   "cell_type": "code",
   "execution_count": 26,
   "metadata": {},
   "outputs": [
    {
     "data": {
      "text/plain": [
       "US Army                        134\n",
       "Bank of America                109\n",
       "IBM                             66\n",
       "AT&T                            59\n",
       "Kaiser Permanente               56\n",
       "                              ... \n",
       "tods landscape company llc       1\n",
       "Macquarie Tristone               1\n",
       "Aqua-Serv Engineers, Inc         1\n",
       "JS Direct Marketing              1\n",
       "harrahs las vegas                1\n",
       "Name: emp_title, Length: 28820, dtype: int64"
      ]
     },
     "execution_count": 26,
     "metadata": {},
     "output_type": "execute_result"
    }
   ],
   "source": [
    "df_loan.emp_title.value_counts()"
   ]
  },
  {
   "cell_type": "code",
   "execution_count": 27,
   "metadata": {},
   "outputs": [
    {
     "data": {
      "text/plain": [
       "10+ years    8879\n",
       "< 1 year     4583\n",
       "2 years      4388\n",
       "3 years      4095\n",
       "4 years      3436\n",
       "5 years      3282\n",
       "1 year       3240\n",
       "6 years      2229\n",
       "7 years      1773\n",
       "8 years      1479\n",
       "9 years      1258\n",
       "Name: emp_length, dtype: int64"
      ]
     },
     "execution_count": 27,
     "metadata": {},
     "output_type": "execute_result"
    }
   ],
   "source": [
    "df_loan.emp_length.value_counts()"
   ]
  },
  {
   "cell_type": "code",
   "execution_count": 28,
   "metadata": {},
   "outputs": [
    {
     "data": {
      "text/plain": [
       "0.0    37339\n",
       "1.0     1674\n",
       "2.0        7\n",
       "Name: pub_rec_bankruptcies, dtype: int64"
      ]
     },
     "execution_count": 28,
     "metadata": {},
     "output_type": "execute_result"
    }
   ],
   "source": [
    "df_loan.pub_rec_bankruptcies.value_counts()"
   ]
  },
  {
   "cell_type": "markdown",
   "metadata": {},
   "source": [
    "#### Analysis - We can clearly drop the rows - there we have null values"
   ]
  },
  {
   "cell_type": "code",
   "execution_count": 29,
   "metadata": {},
   "outputs": [
    {
     "data": {
      "text/plain": [
       "(39020, 53)"
      ]
     },
     "execution_count": 29,
     "metadata": {},
     "output_type": "execute_result"
    }
   ],
   "source": [
    "df_loan= df_loan[~(df_loan.pub_rec_bankruptcies.isnull())]\n",
    "df_loan.shape"
   ]
  },
  {
   "cell_type": "code",
   "execution_count": 30,
   "metadata": {},
   "outputs": [
    {
     "data": {
      "text/plain": [
       "(36604, 53)"
      ]
     },
     "execution_count": 30,
     "metadata": {},
     "output_type": "execute_result"
    }
   ],
   "source": [
    "df_loan= df_loan[~(df_loan.emp_title.isnull())]\n",
    "df_loan.shape"
   ]
  },
  {
   "cell_type": "code",
   "execution_count": 31,
   "metadata": {},
   "outputs": [
    {
     "data": {
      "text/plain": [
       "(36548, 53)"
      ]
     },
     "execution_count": 31,
     "metadata": {},
     "output_type": "execute_result"
    }
   ],
   "source": [
    "df_loan= df_loan[~(df_loan.emp_length.isnull())]\n",
    "df_loan.shape"
   ]
  },
  {
   "cell_type": "code",
   "execution_count": 32,
   "metadata": {},
   "outputs": [
    {
     "data": {
      "text/plain": [
       "tax_liens                         1\n",
       "delinq_amnt                       1\n",
       "chargeoff_within_12_mths          1\n",
       "acc_now_delinq                    1\n",
       "application_type                  1\n",
       "policy_code                       1\n",
       "collections_12_mths_ex_med        1\n",
       "initial_list_status               1\n",
       "pymnt_plan                        1\n",
       "term                              2\n",
       "pub_rec_bankruptcies              3\n",
       "verification_status               3\n",
       "loan_status                       3\n",
       "home_ownership                    4\n",
       "pub_rec                           5\n",
       "grade                             7\n",
       "inq_last_6mths                    9\n",
       "delinq_2yrs                      11\n",
       "emp_length                       11\n",
       "purpose                          14\n",
       "sub_grade                        35\n",
       "open_acc                         38\n",
       "addr_state                       49\n",
       "issue_d                          52\n",
       "total_acc                        79\n",
       "last_credit_pull_d               96\n",
       "last_pymnt_d                     97\n",
       "int_rate                        334\n",
       "earliest_cr_line                510\n",
       "zip_code                        806\n",
       "loan_amnt                       864\n",
       "funded_amnt                    1025\n",
       "out_prncp                      1064\n",
       "out_prncp_inv                  1065\n",
       "revol_util                     1082\n",
       "total_rec_late_fee             1197\n",
       "collection_recovery_fee        2410\n",
       "dti                            2857\n",
       "recoveries                     3642\n",
       "annual_inc                     4935\n",
       "total_rec_prncp                7267\n",
       "funded_amnt_inv                7487\n",
       "installment                   14406\n",
       "title                         18005\n",
       "revol_bal                     20805\n",
       "emp_title                     28299\n",
       "last_pymnt_amnt               32504\n",
       "total_rec_int                 32571\n",
       "total_pymnt_inv               34622\n",
       "total_pymnt                   34902\n",
       "url                           36548\n",
       "member_id                     36548\n",
       "id                            36548\n",
       "dtype: int64"
      ]
     },
     "execution_count": 32,
     "metadata": {},
     "output_type": "execute_result"
    }
   ],
   "source": [
    "df_loan.nunique().sort_values()"
   ]
  },
  {
   "cell_type": "code",
   "execution_count": 33,
   "metadata": {},
   "outputs": [],
   "source": [
    "## Drop all the columns with unique values and not important for the analysis\n",
    "drop = [c for c\n",
    "        in list(df_loan)\n",
    "        if len(df_loan[c].unique()) == len(df_loan.index)]"
   ]
  },
  {
   "cell_type": "code",
   "execution_count": 34,
   "metadata": {},
   "outputs": [
    {
     "data": {
      "text/plain": [
       "['id', 'member_id', 'url']"
      ]
     },
     "execution_count": 34,
     "metadata": {},
     "output_type": "execute_result"
    }
   ],
   "source": [
    "drop"
   ]
  },
  {
   "cell_type": "code",
   "execution_count": 35,
   "metadata": {},
   "outputs": [],
   "source": [
    "df_loan.drop(drop,axis=1,inplace=True)"
   ]
  },
  {
   "cell_type": "code",
   "execution_count": 36,
   "metadata": {},
   "outputs": [
    {
     "data": {
      "text/plain": [
       "(36548, 50)"
      ]
     },
     "execution_count": 36,
     "metadata": {},
     "output_type": "execute_result"
    }
   ],
   "source": [
    "df_loan.shape"
   ]
  },
  {
   "cell_type": "code",
   "execution_count": 37,
   "metadata": {},
   "outputs": [
    {
     "data": {
      "text/plain": [
       "Series([], dtype: float64)"
      ]
     },
     "execution_count": 37,
     "metadata": {},
     "output_type": "execute_result"
    }
   ],
   "source": [
    "## Let's check further if we can identify anyother columns\n",
    "missing_columns = 100*round(df_loan.isnull().sum()/len(df_loan.index),2)\n",
    "missing_columns[missing_columns!=0]"
   ]
  },
  {
   "cell_type": "code",
   "execution_count": 38,
   "metadata": {},
   "outputs": [],
   "source": [
    "## Drop all the columns with single values and not important for the analysis\n",
    "drop = [c for c\n",
    "        in list(df_loan)\n",
    "        if len(df_loan[c].unique()) == 1]"
   ]
  },
  {
   "cell_type": "code",
   "execution_count": 39,
   "metadata": {},
   "outputs": [
    {
     "data": {
      "text/plain": [
       "['pymnt_plan',\n",
       " 'initial_list_status',\n",
       " 'policy_code',\n",
       " 'application_type',\n",
       " 'acc_now_delinq',\n",
       " 'delinq_amnt',\n",
       " 'tax_liens']"
      ]
     },
     "execution_count": 39,
     "metadata": {},
     "output_type": "execute_result"
    }
   ],
   "source": [
    "drop"
   ]
  },
  {
   "cell_type": "code",
   "execution_count": 40,
   "metadata": {},
   "outputs": [],
   "source": [
    "## Lets drop the columns with single values and proceed with further analysis\n",
    "df_loan.drop(drop,axis=1,inplace=True)"
   ]
  },
  {
   "cell_type": "code",
   "execution_count": 41,
   "metadata": {},
   "outputs": [
    {
     "data": {
      "text/plain": [
       "(36548, 43)"
      ]
     },
     "execution_count": 41,
     "metadata": {},
     "output_type": "execute_result"
    }
   ],
   "source": [
    "df_loan.shape"
   ]
  },
  {
   "cell_type": "code",
   "execution_count": 42,
   "metadata": {},
   "outputs": [
    {
     "data": {
      "text/plain": [
       "collections_12_mths_ex_med        1\n",
       "chargeoff_within_12_mths          1\n",
       "term                              2\n",
       "pub_rec_bankruptcies              3\n",
       "loan_status                       3\n",
       "verification_status               3\n",
       "home_ownership                    4\n",
       "pub_rec                           5\n",
       "grade                             7\n",
       "inq_last_6mths                    9\n",
       "emp_length                       11\n",
       "delinq_2yrs                      11\n",
       "purpose                          14\n",
       "sub_grade                        35\n",
       "open_acc                         38\n",
       "addr_state                       49\n",
       "issue_d                          52\n",
       "total_acc                        79\n",
       "last_credit_pull_d               96\n",
       "last_pymnt_d                     97\n",
       "int_rate                        334\n",
       "earliest_cr_line                510\n",
       "zip_code                        806\n",
       "loan_amnt                       864\n",
       "funded_amnt                    1025\n",
       "out_prncp                      1064\n",
       "out_prncp_inv                  1065\n",
       "revol_util                     1082\n",
       "total_rec_late_fee             1197\n",
       "collection_recovery_fee        2410\n",
       "dti                            2857\n",
       "recoveries                     3642\n",
       "annual_inc                     4935\n",
       "total_rec_prncp                7267\n",
       "funded_amnt_inv                7487\n",
       "installment                   14406\n",
       "title                         18005\n",
       "revol_bal                     20805\n",
       "emp_title                     28299\n",
       "last_pymnt_amnt               32504\n",
       "total_rec_int                 32571\n",
       "total_pymnt_inv               34622\n",
       "total_pymnt                   34902\n",
       "dtype: int64"
      ]
     },
     "execution_count": 42,
     "metadata": {},
     "output_type": "execute_result"
    }
   ],
   "source": [
    "df_loan.nunique().sort_values()"
   ]
  },
  {
   "cell_type": "code",
   "execution_count": 43,
   "metadata": {},
   "outputs": [
    {
     "data": {
      "text/plain": [
       "0.0    36546\n",
       "Name: collections_12_mths_ex_med, dtype: int64"
      ]
     },
     "execution_count": 43,
     "metadata": {},
     "output_type": "execute_result"
    }
   ],
   "source": [
    "## We still have 2 single values - Let's check them once again\n",
    "df_loan.collections_12_mths_ex_med.value_counts()        "
   ]
  },
  {
   "cell_type": "code",
   "execution_count": 44,
   "metadata": {},
   "outputs": [
    {
     "data": {
      "text/plain": [
       "0.0    36546\n",
       "Name: chargeoff_within_12_mths, dtype: int64"
      ]
     },
     "execution_count": 44,
     "metadata": {},
     "output_type": "execute_result"
    }
   ],
   "source": [
    "df_loan.chargeoff_within_12_mths.value_counts()"
   ]
  },
  {
   "cell_type": "code",
   "execution_count": 45,
   "metadata": {},
   "outputs": [
    {
     "data": {
      "text/plain": [
       "(36548, 43)"
      ]
     },
     "execution_count": 45,
     "metadata": {},
     "output_type": "execute_result"
    }
   ],
   "source": [
    "df_loan.shape"
   ]
  },
  {
   "cell_type": "code",
   "execution_count": 46,
   "metadata": {},
   "outputs": [
    {
     "data": {
      "text/plain": [
       "Index(['title', 'revol_util', 'last_pymnt_d', 'collections_12_mths_ex_med',\n",
       "       'chargeoff_within_12_mths'],\n",
       "      dtype='object')"
      ]
     },
     "execution_count": 46,
     "metadata": {},
     "output_type": "execute_result"
    }
   ],
   "source": [
    "df_loan.columns[df_loan.isnull().sum()!=0]"
   ]
  },
  {
   "cell_type": "code",
   "execution_count": 47,
   "metadata": {},
   "outputs": [
    {
     "data": {
      "text/plain": [
       "(36548, 41)"
      ]
     },
     "execution_count": 47,
     "metadata": {},
     "output_type": "execute_result"
    }
   ],
   "source": [
    "## It's clear that this two columns 'collections_12_mths_ex_med','chargeoff_within_12_mths' have the null and a single value\n",
    "## Let's drop them \n",
    "\n",
    "df_loan.drop(['collections_12_mths_ex_med','chargeoff_within_12_mths'],axis=1 ,inplace=True)\n",
    "df_loan.shape"
   ]
  },
  {
   "cell_type": "code",
   "execution_count": 48,
   "metadata": {},
   "outputs": [
    {
     "data": {
      "text/plain": [
       "title            9\n",
       "revol_util      46\n",
       "last_pymnt_d    64\n",
       "dtype: int64"
      ]
     },
     "execution_count": 48,
     "metadata": {},
     "output_type": "execute_result"
    }
   ],
   "source": [
    "missing=df_loan.isnull().sum()\n",
    "missing[missing!=0]"
   ]
  },
  {
   "cell_type": "code",
   "execution_count": 49,
   "metadata": {},
   "outputs": [],
   "source": [
    "## This three column above again gives very small perencetage of null values\n",
    "## Tile - The loan title provided by the borrower\n",
    "## revol_util - Revolving line utilization rate, or the amount of credit the borrower is using relative to all available revolving credit.\n",
    "## last_pymnt_d - Last month payment was received\n",
    "\n",
    "\n",
    "df_loan=df_loan[~df_loan.title.isnull()]\n",
    "df_loan=df_loan[~df_loan.revol_util.isnull()]\n",
    "df_loan=df_loan[~df_loan.last_pymnt_d.isnull()]"
   ]
  },
  {
   "cell_type": "code",
   "execution_count": 50,
   "metadata": {},
   "outputs": [
    {
     "data": {
      "text/plain": [
       "Series([], dtype: int64)"
      ]
     },
     "execution_count": 50,
     "metadata": {},
     "output_type": "execute_result"
    }
   ],
   "source": [
    "## This should give us no missing values\n",
    "missing=df_loan.isnull().sum()\n",
    "missing[missing!=0]"
   ]
  },
  {
   "cell_type": "code",
   "execution_count": 51,
   "metadata": {},
   "outputs": [
    {
     "data": {
      "text/plain": [
       "(36433, 41)"
      ]
     },
     "execution_count": 51,
     "metadata": {},
     "output_type": "execute_result"
    }
   ],
   "source": [
    "## Check the shape of the data frame\n",
    "df_loan.shape"
   ]
  },
  {
   "cell_type": "code",
   "execution_count": 52,
   "metadata": {},
   "outputs": [
    {
     "data": {
      "text/plain": [
       "term                           2\n",
       "pub_rec_bankruptcies           3\n",
       "loan_status                    3\n",
       "verification_status            3\n",
       "home_ownership                 4\n",
       "pub_rec                        5\n",
       "grade                          7\n",
       "inq_last_6mths                 9\n",
       "emp_length                    11\n",
       "delinq_2yrs                   11\n",
       "purpose                       14\n",
       "sub_grade                     35\n",
       "open_acc                      38\n",
       "addr_state                    49\n",
       "issue_d                       52\n",
       "total_acc                     79\n",
       "last_credit_pull_d            96\n",
       "last_pymnt_d                  97\n",
       "int_rate                     334\n",
       "earliest_cr_line             510\n",
       "zip_code                     806\n",
       "loan_amnt                    863\n",
       "funded_amnt                 1024\n",
       "out_prncp                   1064\n",
       "out_prncp_inv               1065\n",
       "revol_util                  1082\n",
       "total_rec_late_fee          1194\n",
       "collection_recovery_fee     2386\n",
       "dti                         2857\n",
       "recoveries                  3585\n",
       "annual_inc                  4924\n",
       "total_rec_prncp             7254\n",
       "funded_amnt_inv             7474\n",
       "installment                14367\n",
       "title                      17954\n",
       "revol_bal                  20790\n",
       "emp_title                  28207\n",
       "last_pymnt_amnt            32467\n",
       "total_rec_int              32523\n",
       "total_pymnt_inv            34524\n",
       "total_pymnt                34802\n",
       "dtype: int64"
      ]
     },
     "execution_count": 52,
     "metadata": {},
     "output_type": "execute_result"
    }
   ],
   "source": [
    "df_loan.nunique().sort_values()"
   ]
  },
  {
   "cell_type": "code",
   "execution_count": 53,
   "metadata": {},
   "outputs": [],
   "source": [
    "## Zip Code is irrelevant for our analysis\n",
    "df_loan.drop('zip_code',axis=1,inplace=True)"
   ]
  },
  {
   "cell_type": "code",
   "execution_count": 54,
   "metadata": {},
   "outputs": [
    {
     "data": {
      "text/plain": [
       "(36433, 40)"
      ]
     },
     "execution_count": 54,
     "metadata": {},
     "output_type": "execute_result"
    }
   ],
   "source": [
    "df_loan.shape"
   ]
  },
  {
   "cell_type": "code",
   "execution_count": 55,
   "metadata": {},
   "outputs": [
    {
     "data": {
      "text/html": [
       "<div>\n",
       "<style scoped>\n",
       "    .dataframe tbody tr th:only-of-type {\n",
       "        vertical-align: middle;\n",
       "    }\n",
       "\n",
       "    .dataframe tbody tr th {\n",
       "        vertical-align: top;\n",
       "    }\n",
       "\n",
       "    .dataframe thead th {\n",
       "        text-align: right;\n",
       "    }\n",
       "</style>\n",
       "<table border=\"1\" class=\"dataframe\">\n",
       "  <thead>\n",
       "    <tr style=\"text-align: right;\">\n",
       "      <th></th>\n",
       "      <th>loan_amnt</th>\n",
       "      <th>funded_amnt</th>\n",
       "      <th>funded_amnt_inv</th>\n",
       "    </tr>\n",
       "  </thead>\n",
       "  <tbody>\n",
       "    <tr>\n",
       "      <th>1</th>\n",
       "      <td>2500</td>\n",
       "      <td>2500</td>\n",
       "      <td>2500.0</td>\n",
       "    </tr>\n",
       "    <tr>\n",
       "      <th>3</th>\n",
       "      <td>10000</td>\n",
       "      <td>10000</td>\n",
       "      <td>10000.0</td>\n",
       "    </tr>\n",
       "    <tr>\n",
       "      <th>4</th>\n",
       "      <td>3000</td>\n",
       "      <td>3000</td>\n",
       "      <td>3000.0</td>\n",
       "    </tr>\n",
       "    <tr>\n",
       "      <th>5</th>\n",
       "      <td>5000</td>\n",
       "      <td>5000</td>\n",
       "      <td>5000.0</td>\n",
       "    </tr>\n",
       "    <tr>\n",
       "      <th>6</th>\n",
       "      <td>7000</td>\n",
       "      <td>7000</td>\n",
       "      <td>7000.0</td>\n",
       "    </tr>\n",
       "    <tr>\n",
       "      <th>...</th>\n",
       "      <td>...</td>\n",
       "      <td>...</td>\n",
       "      <td>...</td>\n",
       "    </tr>\n",
       "    <tr>\n",
       "      <th>39551</th>\n",
       "      <td>12375</td>\n",
       "      <td>12375</td>\n",
       "      <td>1000.0</td>\n",
       "    </tr>\n",
       "    <tr>\n",
       "      <th>39562</th>\n",
       "      <td>4800</td>\n",
       "      <td>4800</td>\n",
       "      <td>1100.0</td>\n",
       "    </tr>\n",
       "    <tr>\n",
       "      <th>39623</th>\n",
       "      <td>9000</td>\n",
       "      <td>9000</td>\n",
       "      <td>700.0</td>\n",
       "    </tr>\n",
       "    <tr>\n",
       "      <th>39666</th>\n",
       "      <td>15450</td>\n",
       "      <td>15450</td>\n",
       "      <td>600.0</td>\n",
       "    </tr>\n",
       "    <tr>\n",
       "      <th>39680</th>\n",
       "      <td>3000</td>\n",
       "      <td>3000</td>\n",
       "      <td>525.0</td>\n",
       "    </tr>\n",
       "  </tbody>\n",
       "</table>\n",
       "<p>36433 rows × 3 columns</p>\n",
       "</div>"
      ],
      "text/plain": [
       "       loan_amnt  funded_amnt  funded_amnt_inv\n",
       "1           2500         2500           2500.0\n",
       "3          10000        10000          10000.0\n",
       "4           3000         3000           3000.0\n",
       "5           5000         5000           5000.0\n",
       "6           7000         7000           7000.0\n",
       "...          ...          ...              ...\n",
       "39551      12375        12375           1000.0\n",
       "39562       4800         4800           1100.0\n",
       "39623       9000         9000            700.0\n",
       "39666      15450        15450            600.0\n",
       "39680       3000         3000            525.0\n",
       "\n",
       "[36433 rows x 3 columns]"
      ]
     },
     "execution_count": 55,
     "metadata": {},
     "output_type": "execute_result"
    }
   ],
   "source": [
    "## From the data dictionary provided it appears that the columns loan_amnt,funded_amnt ,funded_amnt_inv are similar\n",
    "## Let's check the values\n",
    "df_loan[['loan_amnt','funded_amnt','funded_amnt_inv']]"
   ]
  },
  {
   "cell_type": "code",
   "execution_count": 56,
   "metadata": {},
   "outputs": [],
   "source": [
    "## We can safely drop the values to avoid duplicate colinearity\n",
    "df_loan.drop(['funded_amnt','funded_amnt_inv'],axis=1 ,inplace=True)\n"
   ]
  },
  {
   "cell_type": "code",
   "execution_count": 57,
   "metadata": {},
   "outputs": [
    {
     "data": {
      "text/plain": [
       "(36433, 38)"
      ]
     },
     "execution_count": 57,
     "metadata": {},
     "output_type": "execute_result"
    }
   ],
   "source": [
    "df_loan.shape"
   ]
  },
  {
   "cell_type": "markdown",
   "metadata": {},
   "source": [
    "#### Analysis -  We have 38 columns left after data cleaning"
   ]
  },
  {
   "cell_type": "markdown",
   "metadata": {},
   "source": [
    "#### There are certain customer variables that are not available at the time of loan application , and thus they cannot be used as predictors for credit approval. We are dropping them from our analysis."
   ]
  },
  {
   "cell_type": "code",
   "execution_count": 58,
   "metadata": {},
   "outputs": [],
   "source": [
    "df_loan=df_loan.drop([\"delinq_2yrs\",\n",
    "  \"earliest_cr_line\",\n",
    "  \"inq_last_6mths\",\n",
    "  \"open_acc\",\n",
    "  \"pub_rec\",\n",
    "  \"revol_bal\",\n",
    "  \"revol_util\",\n",
    "  \"total_acc\",\n",
    "  \"out_prncp\",\n",
    "  \"out_prncp_inv\",\n",
    "  \"total_pymnt\",\n",
    "  \"total_pymnt_inv\",\n",
    "  \"total_rec_prncp\",\n",
    "  \"total_rec_int\",\n",
    "  \"total_rec_late_fee\",\n",
    "  \"recoveries\",\n",
    "  \"collection_recovery_fee\",\n",
    "  \"last_pymnt_d\",\n",
    "  \"last_pymnt_amnt\",\n",
    "  \"last_credit_pull_d\"     \n",
    " ],axis=1)"
   ]
  },
  {
   "cell_type": "markdown",
   "metadata": {},
   "source": [
    "## 04. Data Standardization"
   ]
  },
  {
   "cell_type": "code",
   "execution_count": 59,
   "metadata": {},
   "outputs": [
    {
     "name": "stdout",
     "output_type": "stream",
     "text": [
      "<class 'pandas.core.frame.DataFrame'>\n",
      "Int64Index: 36433 entries, 1 to 39680\n",
      "Data columns (total 18 columns):\n",
      " #   Column                Non-Null Count  Dtype  \n",
      "---  ------                --------------  -----  \n",
      " 0   loan_amnt             36433 non-null  int64  \n",
      " 1   term                  36433 non-null  object \n",
      " 2   int_rate              36433 non-null  object \n",
      " 3   installment           36433 non-null  float64\n",
      " 4   grade                 36433 non-null  object \n",
      " 5   sub_grade             36433 non-null  object \n",
      " 6   emp_title             36433 non-null  object \n",
      " 7   emp_length            36433 non-null  object \n",
      " 8   home_ownership        36433 non-null  object \n",
      " 9   annual_inc            36433 non-null  float64\n",
      " 10  verification_status   36433 non-null  object \n",
      " 11  issue_d               36433 non-null  object \n",
      " 12  loan_status           36433 non-null  object \n",
      " 13  purpose               36433 non-null  object \n",
      " 14  title                 36433 non-null  object \n",
      " 15  addr_state            36433 non-null  object \n",
      " 16  dti                   36433 non-null  float64\n",
      " 17  pub_rec_bankruptcies  36433 non-null  float64\n",
      "dtypes: float64(4), int64(1), object(13)\n",
      "memory usage: 3.5+ MB\n"
     ]
    }
   ],
   "source": [
    "df_loan.info()"
   ]
  },
  {
   "cell_type": "code",
   "execution_count": 60,
   "metadata": {},
   "outputs": [
    {
     "data": {
      "text/plain": [
       "Fully Paid     30424\n",
       "Charged Off     4943\n",
       "Current         1066\n",
       "Name: loan_status, dtype: int64"
      ]
     },
     "execution_count": 60,
     "metadata": {},
     "output_type": "execute_result"
    }
   ],
   "source": [
    "## Let's have a look at Loan Staus\n",
    "df_loan.loan_status.value_counts()"
   ]
  },
  {
   "cell_type": "code",
   "execution_count": 61,
   "metadata": {},
   "outputs": [],
   "source": [
    "## Check the datetime columns from the data dictionary\n",
    "## issue_d - The month which the loan was funded\n",
    "date_columns=['issue_d']"
   ]
  },
  {
   "cell_type": "code",
   "execution_count": 62,
   "metadata": {},
   "outputs": [
    {
     "name": "stdout",
     "output_type": "stream",
     "text": [
      "<class 'pandas.core.frame.DataFrame'>\n",
      "Int64Index: 36433 entries, 1 to 39680\n",
      "Data columns (total 1 columns):\n",
      " #   Column   Non-Null Count  Dtype \n",
      "---  ------   --------------  ----- \n",
      " 0   issue_d  36433 non-null  object\n",
      "dtypes: object(1)\n",
      "memory usage: 426.9+ KB\n"
     ]
    }
   ],
   "source": [
    "df_loan[date_columns].info()"
   ]
  },
  {
   "cell_type": "markdown",
   "metadata": {},
   "source": [
    "#### Converting the date to Mon-yy format - as provided in the data set . For reference - https://docs.python.org/3/library/datetime.html"
   ]
  },
  {
   "cell_type": "code",
   "execution_count": 63,
   "metadata": {},
   "outputs": [],
   "source": [
    "df_loan.issue_d = pd.to_datetime(df_loan.issue_d, format='%b-%y')\n"
   ]
  },
  {
   "cell_type": "code",
   "execution_count": 64,
   "metadata": {},
   "outputs": [
    {
     "name": "stdout",
     "output_type": "stream",
     "text": [
      "<class 'pandas.core.frame.DataFrame'>\n",
      "Int64Index: 36433 entries, 1 to 39680\n",
      "Data columns (total 1 columns):\n",
      " #   Column   Non-Null Count  Dtype         \n",
      "---  ------   --------------  -----         \n",
      " 0   issue_d  36433 non-null  datetime64[ns]\n",
      "dtypes: datetime64[ns](1)\n",
      "memory usage: 569.3 KB\n"
     ]
    }
   ],
   "source": [
    "df_loan[date_columns].info()"
   ]
  },
  {
   "cell_type": "code",
   "execution_count": 65,
   "metadata": {},
   "outputs": [],
   "source": [
    "## There are few percentage columns like - 'int_rate'\n",
    "df_loan['int_rate'] = df_loan['int_rate'].str.strip('%').astype('float')\n"
   ]
  },
  {
   "cell_type": "code",
   "execution_count": 66,
   "metadata": {},
   "outputs": [
    {
     "data": {
      "text/plain": [
       "count    36433.000000\n",
       "mean        12.073862\n",
       "std          3.734758\n",
       "min          5.420000\n",
       "25%          9.320000\n",
       "50%         11.860000\n",
       "75%         14.650000\n",
       "max         24.400000\n",
       "Name: int_rate, dtype: float64"
      ]
     },
     "execution_count": 66,
     "metadata": {},
     "output_type": "execute_result"
    }
   ],
   "source": [
    "df_loan.int_rate.describe()"
   ]
  },
  {
   "cell_type": "code",
   "execution_count": 67,
   "metadata": {},
   "outputs": [
    {
     "data": {
      "text/plain": [
       "10+ years    8407\n",
       "2 years      4178\n",
       "< 1 year     4052\n",
       "3 years      3914\n",
       "4 years      3297\n",
       "5 years      3129\n",
       "1 year       3026\n",
       "6 years      2121\n",
       "7 years      1697\n",
       "8 years      1405\n",
       "9 years      1207\n",
       "Name: emp_length, dtype: int64"
      ]
     },
     "execution_count": 67,
     "metadata": {},
     "output_type": "execute_result"
    }
   ],
   "source": [
    "## Check the emp_length column\n",
    "df_loan.emp_length.value_counts()"
   ]
  },
  {
   "cell_type": "code",
   "execution_count": 68,
   "metadata": {},
   "outputs": [],
   "source": [
    "## Convert it to integer \n",
    "import re\n",
    "df_loan.emp_length = df_loan.emp_length.apply(lambda x: re.findall('\\d+', str(x))[0])\n",
    "df_loan.emp_length = df_loan.emp_length.apply(lambda x: pd.to_numeric(x))\n"
   ]
  },
  {
   "cell_type": "code",
   "execution_count": 69,
   "metadata": {},
   "outputs": [
    {
     "data": {
      "text/plain": [
       "10    8407\n",
       "1     7078\n",
       "2     4178\n",
       "3     3914\n",
       "4     3297\n",
       "5     3129\n",
       "6     2121\n",
       "7     1697\n",
       "8     1405\n",
       "9     1207\n",
       "Name: emp_length, dtype: int64"
      ]
     },
     "execution_count": 69,
     "metadata": {},
     "output_type": "execute_result"
    }
   ],
   "source": [
    "df_loan.emp_length.value_counts()"
   ]
  },
  {
   "cell_type": "code",
   "execution_count": 70,
   "metadata": {},
   "outputs": [
    {
     "data": {
      "text/plain": [
       "Fully Paid     30424\n",
       "Charged Off     4943\n",
       "Current         1066\n",
       "Name: loan_status, dtype: int64"
      ]
     },
     "execution_count": 70,
     "metadata": {},
     "output_type": "execute_result"
    }
   ],
   "source": [
    "df_loan.loan_status.value_counts()"
   ]
  },
  {
   "cell_type": "code",
   "execution_count": 71,
   "metadata": {},
   "outputs": [],
   "source": [
    "## Define a function to plot status across the categorical variable\n",
    "def categorical_plot(cat_var):\n",
    "    sns.barplot(x=cat_var, y='is_loan_default', data=df_loan)\n",
    "    plt.ylabel(\"charged off\")\n",
    "    plt.show()"
   ]
  },
  {
   "cell_type": "code",
   "execution_count": 72,
   "metadata": {},
   "outputs": [],
   "source": [
    "## Define a function to put label on the bar chart\n",
    "def autolabel(ax):\n",
    "    \"\"\"Attach a text label above each bar in *rects*, displaying its height.\"\"\"\n",
    "    # access the bar attributes to place the text in the appropriate location\n",
    "    for bar in ax.patches:\n",
    "      yval = bar.get_height()\n",
    "      plt.text(bar.get_x(), yval + .005, yval)"
   ]
  },
  {
   "cell_type": "code",
   "execution_count": 73,
   "metadata": {},
   "outputs": [],
   "source": [
    "def boxplot(col,df):\n",
    "    sns.boxplot(x=df[col], y=df['loan_status'], data=df)\n"
   ]
  },
  {
   "cell_type": "markdown",
   "metadata": {},
   "source": [
    "## 05. Data Analysis"
   ]
  },
  {
   "cell_type": "code",
   "execution_count": 74,
   "metadata": {},
   "outputs": [
    {
     "data": {
      "text/plain": [
       "(36433, 18)"
      ]
     },
     "execution_count": 74,
     "metadata": {},
     "output_type": "execute_result"
    }
   ],
   "source": [
    "## Check the shape of the loans\n",
    "df_loan.shape"
   ]
  },
  {
   "cell_type": "code",
   "execution_count": 75,
   "metadata": {},
   "outputs": [
    {
     "data": {
      "text/plain": [
       "(35367, 18)"
      ]
     },
     "execution_count": 75,
     "metadata": {},
     "output_type": "execute_result"
    }
   ],
   "source": [
    "## Removing the 'Current' from the data set\n",
    "df_loan=df_loan[df_loan.loan_status!='Current']\n",
    "df_loan.shape"
   ]
  },
  {
   "cell_type": "code",
   "execution_count": 76,
   "metadata": {},
   "outputs": [
    {
     "data": {
      "text/plain": [
       "0    30424\n",
       "1     4943\n",
       "Name: is_loan_default, dtype: int64"
      ]
     },
     "execution_count": 76,
     "metadata": {},
     "output_type": "execute_result"
    }
   ],
   "source": [
    "\n",
    "df_loan['is_loan_default'] = df_loan.loan_status.apply(lambda x : 1 if x=='Charged Off' else 0)\n",
    "df_loan['is_loan_default'] = df_loan['is_loan_default'].apply(lambda x: pd.to_numeric(x))\n",
    "df_loan.is_loan_default.value_counts()"
   ]
  },
  {
   "cell_type": "code",
   "execution_count": 77,
   "metadata": {},
   "outputs": [
    {
     "name": "stdout",
     "output_type": "stream",
     "text": [
      "<class 'pandas.core.frame.DataFrame'>\n",
      "Int64Index: 35367 entries, 1 to 39680\n",
      "Data columns (total 19 columns):\n",
      " #   Column                Non-Null Count  Dtype         \n",
      "---  ------                --------------  -----         \n",
      " 0   loan_amnt             35367 non-null  int64         \n",
      " 1   term                  35367 non-null  object        \n",
      " 2   int_rate              35367 non-null  float64       \n",
      " 3   installment           35367 non-null  float64       \n",
      " 4   grade                 35367 non-null  object        \n",
      " 5   sub_grade             35367 non-null  object        \n",
      " 6   emp_title             35367 non-null  object        \n",
      " 7   emp_length            35367 non-null  int64         \n",
      " 8   home_ownership        35367 non-null  object        \n",
      " 9   annual_inc            35367 non-null  float64       \n",
      " 10  verification_status   35367 non-null  object        \n",
      " 11  issue_d               35367 non-null  datetime64[ns]\n",
      " 12  loan_status           35367 non-null  object        \n",
      " 13  purpose               35367 non-null  object        \n",
      " 14  title                 35367 non-null  object        \n",
      " 15  addr_state            35367 non-null  object        \n",
      " 16  dti                   35367 non-null  float64       \n",
      " 17  pub_rec_bankruptcies  35367 non-null  float64       \n",
      " 18  is_loan_default       35367 non-null  int64         \n",
      "dtypes: datetime64[ns](1), float64(5), int64(3), object(10)\n",
      "memory usage: 4.0+ MB\n"
     ]
    }
   ],
   "source": [
    "df_loan.info()"
   ]
  },
  {
   "cell_type": "markdown",
   "metadata": {},
   "source": [
    "## 05.01 Univariate Analysis"
   ]
  },
  {
   "cell_type": "markdown",
   "metadata": {},
   "source": [
    "#### Analysis: loan_status - Current status of the loan"
   ]
  },
  {
   "cell_type": "code",
   "execution_count": 78,
   "metadata": {},
   "outputs": [
    {
     "data": {
      "text/plain": [
       "14.000000000000002"
      ]
     },
     "execution_count": 78,
     "metadata": {},
     "output_type": "execute_result"
    }
   ],
   "source": [
    "default_percentage=round(np.mean(df_loan.is_loan_default),2)*100\n",
    "default_percentage"
   ]
  },
  {
   "cell_type": "markdown",
   "metadata": {},
   "source": [
    "**Observation - The overall default rate is about 14%.**"
   ]
  },
  {
   "cell_type": "code",
   "execution_count": 79,
   "metadata": {},
   "outputs": [
    {
     "data": {
      "image/png": "[encoded data removed]",
      "text/plain": [
       "<Figure size 432x288 with 1 Axes>"
      ]
     },
     "metadata": {},
     "output_type": "display_data"
    }
   ],
   "source": [
    "ax=sns.countplot(data=df_loan, x='loan_status', order=df_loan.loan_status.value_counts().index)\n",
    "autolabel(ax)\n",
    "plt.show()"
   ]
  },
  {
   "cell_type": "markdown",
   "metadata": {},
   "source": [
    "#### Analysis - Grade - LC assigned loan grade"
   ]
  },
  {
   "cell_type": "code",
   "execution_count": 80,
   "metadata": {},
   "outputs": [
    {
     "data": {
      "image/png": "[encoded data removed]",
      "text/plain": [
       "<Figure size 432x288 with 1 Axes>"
      ]
     },
     "metadata": {},
     "output_type": "display_data"
    }
   ],
   "source": [
    "# plotting default rates across grade of the loan\n",
    "categorical_plot('grade')"
   ]
  },
  {
   "cell_type": "markdown",
   "metadata": {},
   "source": [
    "**Observation** - <p>Grade A,B,C have lesser default rate than Grade E,F,G . So the grading system is working fine.For more details , please have a look https://www.lendingclub.com/investing/investor-education/what-is-a-lendingclub-note</p>\n",
    "\n",
    "  "
   ]
  },
  {
   "cell_type": "markdown",
   "metadata": {},
   "source": [
    "#### Analysis- sub_grade - LC assigned loan subgrade"
   ]
  },
  {
   "cell_type": "code",
   "execution_count": 81,
   "metadata": {},
   "outputs": [
    {
     "data": {
      "image/png": "[encoded data removed]",
      "text/plain": [
       "<Figure size 1296x432 with 1 Axes>"
      ]
     },
     "metadata": {},
     "output_type": "display_data"
    }
   ],
   "source": [
    "# plotting default rates across grade of the loan\n",
    "plt.figure(figsize=(18, 6))\n",
    "categorical_plot('sub_grade')"
   ]
  },
  {
   "cell_type": "markdown",
   "metadata": {},
   "source": [
    "**observation** - <p>As expected the default rate is better in A1 than A2 and A3. So the Sub grading system in a particular grade in lending club is working fine in this scenario.</p> <p> For more details , please have a look https://www.lendingclub.com/investing/investor-education/what-is-a-lendingclub-note </p>"
   ]
  },
  {
   "cell_type": "markdown",
   "metadata": {},
   "source": [
    "#### Analysis - term - The number of payments on the loan. Values are in months and can be either 36 or 60."
   ]
  },
  {
   "cell_type": "code",
   "execution_count": 82,
   "metadata": {},
   "outputs": [
    {
     "data": {
      "image/png": "[encoded data removed]",
      "text/plain": [
       "<Figure size 432x288 with 1 Axes>"
      ]
     },
     "metadata": {},
     "output_type": "display_data"
    }
   ],
   "source": [
    "categorical_plot('term')"
   ]
  },
  {
   "cell_type": "markdown",
   "metadata": {},
   "source": [
    "**Observation** -<p>The loan approved for the higher term is riskier than the loan apporved for the lower term</p>"
   ]
  },
  {
   "cell_type": "markdown",
   "metadata": {},
   "source": [
    "#### Analysis purpose - A category provided by the borrower for the loan request. "
   ]
  },
  {
   "cell_type": "code",
   "execution_count": 83,
   "metadata": {},
   "outputs": [
    {
     "data": {
      "image/png": "[encoded data removed]",
      "text/plain": [
       "<Figure size 1296x432 with 1 Axes>"
      ]
     },
     "metadata": {},
     "output_type": "display_data"
    }
   ],
   "source": [
    "plt.figure(figsize=(18, 6))\n",
    "plt.xticks(rotation=40) \n",
    "categorical_plot('purpose')\n"
   ]
  },
  {
   "cell_type": "markdown",
   "metadata": {},
   "source": [
    "**Observation**\n",
    "<p> Top 3 defaulters are - small_business , renewable_energy , educatuional<p>"
   ]
  },
  {
   "cell_type": "markdown",
   "metadata": {},
   "source": [
    "#### Analysis:  pub_rec_bankruptcies - Number of public record bankruptcies"
   ]
  },
  {
   "cell_type": "code",
   "execution_count": 84,
   "metadata": {},
   "outputs": [
    {
     "data": {
      "text/plain": [
       "95.85"
      ]
     },
     "execution_count": 84,
     "metadata": {},
     "output_type": "execute_result"
    }
   ],
   "source": [
    "## Check the percentage of brrowers without any record of bankruptcies\n",
    "round(len(df_loan[df_loan.pub_rec_bankruptcies<=0])/len(df_loan.index)*100,2)"
   ]
  },
  {
   "cell_type": "code",
   "execution_count": 85,
   "metadata": {},
   "outputs": [
    {
     "data": {
      "image/png": "[encoded data removed]",
      "text/plain": [
       "<Figure size 432x288 with 1 Axes>"
      ]
     },
     "metadata": {},
     "output_type": "display_data"
    }
   ],
   "source": [
    "categorical_plot('pub_rec_bankruptcies')\n"
   ]
  },
  {
   "cell_type": "markdown",
   "metadata": {},
   "source": [
    "**Observation** <p>Larget number of defaulters have been filed **Bankruptcy**.</p>"
   ]
  },
  {
   "cell_type": "markdown",
   "metadata": {},
   "source": [
    "#### Analysis: verification_status - Indicates if income was verified by LC, not verified, or if the income source was verified"
   ]
  },
  {
   "cell_type": "code",
   "execution_count": 86,
   "metadata": {},
   "outputs": [
    {
     "data": {
      "image/png": "[encoded data removed]",
      "text/plain": [
       "<Figure size 432x288 with 1 Axes>"
      ]
     },
     "metadata": {},
     "output_type": "display_data"
    }
   ],
   "source": [
    "categorical_plot('verification_status')"
   ]
  },
  {
   "cell_type": "markdown",
   "metadata": {},
   "source": [
    "**Observation**\n",
    "<p> The verification process is not working well in Lending club - as we have seen higher default rate for the verified loans</p>"
   ]
  },
  {
   "cell_type": "markdown",
   "metadata": {},
   "source": [
    "#### Analysis: emp_length - Employment length in years. Possible values are between 0 and 10 where 0 means less than one year and 10 means ten or more years. "
   ]
  },
  {
   "cell_type": "code",
   "execution_count": 87,
   "metadata": {},
   "outputs": [
    {
     "data": {
      "image/png": "[encoded data removed]",
      "text/plain": [
       "<Figure size 432x288 with 1 Axes>"
      ]
     },
     "metadata": {},
     "output_type": "display_data"
    }
   ],
   "source": [
    "categorical_plot('emp_length')"
   ]
  },
  {
   "cell_type": "code",
   "execution_count": 88,
   "metadata": {},
   "outputs": [],
   "source": [
    "# binning the variable\n",
    "def emp_length(x):\n",
    "    n=int(x)\n",
    "    if n <= 1:\n",
    "        return '<=1 years'\n",
    "    elif n > 1 and n <=3:\n",
    "        return '1-3 years'\n",
    "    elif n > 3 and n <=7:\n",
    "        return '3-7 years'\n",
    "    else:\n",
    "        return '7-10+ years'\n",
    "\n",
    "df_loan['emp_length_category'] = df_loan['emp_length'].apply(lambda x: emp_length(x))"
   ]
  },
  {
   "cell_type": "code",
   "execution_count": 89,
   "metadata": {},
   "outputs": [
    {
     "data": {
      "image/png": "[encoded data removed]",
      "text/plain": [
       "<Figure size 432x288 with 1 Axes>"
      ]
     },
     "metadata": {},
     "output_type": "display_data"
    }
   ],
   "source": [
    "categorical_plot('emp_length_category')"
   ]
  },
  {
   "cell_type": "markdown",
   "metadata": {},
   "source": [
    "**Observation**\n",
    "<p> The employment length is not a predictor for the default . However people with 7-10+ years experience has little higher default rate than others </p>"
   ]
  },
  {
   "cell_type": "markdown",
   "metadata": {},
   "source": [
    "#### Analysis - emp_title - The job title supplied by the Borrower when applying for the loan.  Employer Title replaces Employer Name for all loans listed after 9/23/2013\n"
   ]
  },
  {
   "cell_type": "code",
   "execution_count": 90,
   "metadata": {},
   "outputs": [
    {
     "data": {
      "text/plain": [
       "Bank of America    20\n",
       "US Army            17\n",
       "Walmart            13\n",
       "AT&T               12\n",
       "UPS                11\n",
       "Name: emp_title, dtype: int64"
      ]
     },
     "execution_count": 90,
     "metadata": {},
     "output_type": "execute_result"
    }
   ],
   "source": [
    "top5_emp_title = df_loan[df_loan.is_loan_default==1].emp_title.value_counts(normalize=False).head(5)\n",
    "top5_emp_title"
   ]
  },
  {
   "cell_type": "code",
   "execution_count": 91,
   "metadata": {},
   "outputs": [
    {
     "data": {
      "image/png": "[encoded data removed]",
      "text/plain": [
       "<Figure size 720x360 with 1 Axes>"
      ]
     },
     "metadata": {},
     "output_type": "display_data"
    }
   ],
   "source": [
    "plt.figure(figsize=(10,5))\n",
    "plt.xticks(rotation=40) \n",
    "a=sns.barplot(x=top5_emp_title.index, y=top5_emp_title.values)\n",
    "a.set_ylabel('Count of default')\n",
    "plt.show()"
   ]
  },
  {
   "cell_type": "markdown",
   "metadata": {},
   "source": [
    "**Observation** - Max of defaulters are employed by Bank of America , US Army followed by Walmart"
   ]
  },
  {
   "cell_type": "markdown",
   "metadata": {},
   "source": [
    "#### Analysis - addr_state - The state provided by the borrower in the loan application"
   ]
  },
  {
   "cell_type": "code",
   "execution_count": 92,
   "metadata": {},
   "outputs": [
    {
     "data": {
      "text/plain": [
       "CA    976\n",
       "NY    438\n",
       "FL    437\n",
       "TX    273\n",
       "NJ    256\n",
       "Name: addr_state, dtype: int64"
      ]
     },
     "execution_count": 92,
     "metadata": {},
     "output_type": "execute_result"
    }
   ],
   "source": [
    "top5_addr_state = df_loan[df_loan.is_loan_default==1].addr_state.value_counts(normalize=False).head(5)\n",
    "top5_addr_state"
   ]
  },
  {
   "cell_type": "code",
   "execution_count": 93,
   "metadata": {},
   "outputs": [
    {
     "data": {
      "image/png": "[encoded data removed]",
      "text/plain": [
       "<Figure size 720x360 with 1 Axes>"
      ]
     },
     "metadata": {},
     "output_type": "display_data"
    }
   ],
   "source": [
    "plt.figure(figsize=(10,5))\n",
    "#plt.xticks(rotation=40) \n",
    "a=sns.barplot(x=top5_addr_state.index, y=top5_addr_state.values)\n",
    "a.set_ylabel('Count of default')\n",
    "plt.show()"
   ]
  },
  {
   "cell_type": "markdown",
   "metadata": {},
   "source": [
    "**Observation** - Most of the defaulters live in California , followed by New york and Florida"
   ]
  },
  {
   "cell_type": "markdown",
   "metadata": {},
   "source": [
    "#### Analysis: home_ownership - The home ownership status provided by the borrower during registration. Our values are: RENT, OWN, MORTGAGE, OTHER."
   ]
  },
  {
   "cell_type": "code",
   "execution_count": 94,
   "metadata": {},
   "outputs": [
    {
     "data": {
      "image/png": "[encoded data removed]",
      "text/plain": [
       "<Figure size 432x288 with 1 Axes>"
      ]
     },
     "metadata": {},
     "output_type": "display_data"
    }
   ],
   "source": [
    "categorical_plot('home_ownership')"
   ]
  },
  {
   "cell_type": "markdown",
   "metadata": {},
   "source": [
    "**Observation** - Home ownership is not a great predictor for defaulter"
   ]
  },
  {
   "cell_type": "markdown",
   "metadata": {},
   "source": [
    "#### Analysis : issue_d - The month which the loan was funded"
   ]
  },
  {
   "cell_type": "code",
   "execution_count": 95,
   "metadata": {},
   "outputs": [
    {
     "data": {
      "text/plain": [
       "issue_d_year\n",
       "2007        6\n",
       "2008     1053\n",
       "2009     4423\n",
       "2010    10795\n",
       "2011    19090\n",
       "Name: issue_d_year, dtype: int64"
      ]
     },
     "execution_count": 95,
     "metadata": {},
     "output_type": "execute_result"
    }
   ],
   "source": [
    "df_loan['issue_d_year']=df_loan.issue_d.dt.year\n",
    "df_loan.groupby('issue_d_year')['issue_d_year'].count()"
   ]
  },
  {
   "cell_type": "code",
   "execution_count": 96,
   "metadata": {},
   "outputs": [
    {
     "data": {
      "image/png": "[encoded data removed]",
      "text/plain": [
       "<Figure size 432x288 with 1 Axes>"
      ]
     },
     "metadata": {},
     "output_type": "display_data"
    }
   ],
   "source": [
    "categorical_plot('issue_d_year')"
   ]
  },
  {
   "cell_type": "code",
   "execution_count": 97,
   "metadata": {},
   "outputs": [
    {
     "data": {
      "text/plain": [
       "issue_d_month\n",
       "1     2048\n",
       "2     2020\n",
       "3     2395\n",
       "4     2669\n",
       "5     2745\n",
       "6     2977\n",
       "7     3115\n",
       "8     3188\n",
       "9     3276\n",
       "10    3436\n",
       "11    3678\n",
       "12    3820\n",
       "Name: issue_d_month, dtype: int64"
      ]
     },
     "execution_count": 97,
     "metadata": {},
     "output_type": "execute_result"
    }
   ],
   "source": [
    "df_loan['issue_d_month']=df_loan.issue_d.dt.month\n",
    "df_loan.groupby('issue_d_month')['issue_d_month'].count()"
   ]
  },
  {
   "cell_type": "code",
   "execution_count": 98,
   "metadata": {},
   "outputs": [
    {
     "data": {
      "image/png": "[encoded data removed]",
      "text/plain": [
       "<Figure size 1152x432 with 1 Axes>"
      ]
     },
     "metadata": {},
     "output_type": "display_data"
    }
   ],
   "source": [
    "plt.figure(figsize=(16, 6))\n",
    "categorical_plot('issue_d_month')"
   ]
  },
  {
   "cell_type": "markdown",
   "metadata": {},
   "source": [
    "**Observation** <p>The default loans were decreasing from **2008** to **2010**. However there is an increase in the year **2011**</p>"
   ]
  },
  {
   "cell_type": "markdown",
   "metadata": {},
   "source": [
    "#### Analysis - loan_amnt- The listed amount of the loan applied for by the borrower. If at some point in time, the credit department reduces the loan amount, then it will be reflected in this value."
   ]
  },
  {
   "cell_type": "code",
   "execution_count": 99,
   "metadata": {},
   "outputs": [
    {
     "data": {
      "text/plain": [
       "count    35367.000000\n",
       "mean     11133.071790\n",
       "std       7326.233093\n",
       "min        500.000000\n",
       "25%       5500.000000\n",
       "50%      10000.000000\n",
       "75%      15000.000000\n",
       "max      35000.000000\n",
       "Name: loan_amnt, dtype: float64"
      ]
     },
     "execution_count": 99,
     "metadata": {},
     "output_type": "execute_result"
    }
   ],
   "source": [
    "df_loan['loan_amnt'].describe()"
   ]
  },
  {
   "cell_type": "code",
   "execution_count": 100,
   "metadata": {},
   "outputs": [],
   "source": [
    "## We have median of 10000 - Let's bin it \n",
    "df_loan['loan_amnt_bin'] = pd.cut(df_loan['loan_amnt'], \n",
    "                                      [x for x in range(0, 36000, 5000)], labels=[str(x)+'-'+str(x+5)+'k' for x in range (0, 35, 5)])"
   ]
  },
  {
   "cell_type": "code",
   "execution_count": 101,
   "metadata": {},
   "outputs": [
    {
     "data": {
      "image/png": "[encoded data removed]",
      "text/plain": [
       "<Figure size 1152x432 with 1 Axes>"
      ]
     },
     "metadata": {},
     "output_type": "display_data"
    }
   ],
   "source": [
    "plt.figure(figsize=(16, 6))\n",
    "categorical_plot('loan_amnt_bin')"
   ]
  },
  {
   "cell_type": "markdown",
   "metadata": {},
   "source": [
    "**Observation** <p> Higher loan amount, Higher the default rate</p>"
   ]
  },
  {
   "cell_type": "markdown",
   "metadata": {},
   "source": [
    "#### int_rate - Interest Rate on the loan."
   ]
  },
  {
   "cell_type": "code",
   "execution_count": 102,
   "metadata": {},
   "outputs": [
    {
     "data": {
      "text/plain": [
       "count    35367.000000\n",
       "mean        11.983468\n",
       "std          3.702512\n",
       "min          5.420000\n",
       "25%          8.940000\n",
       "50%         11.830000\n",
       "75%         14.460000\n",
       "max         24.400000\n",
       "Name: int_rate, dtype: float64"
      ]
     },
     "execution_count": 102,
     "metadata": {},
     "output_type": "execute_result"
    }
   ],
   "source": [
    "df_loan['int_rate'].describe()"
   ]
  },
  {
   "cell_type": "code",
   "execution_count": 103,
   "metadata": {},
   "outputs": [
    {
     "data": {
      "image/png": "[encoded data removed]",
      "text/plain": [
       "<Figure size 1152x432 with 1 Axes>"
      ]
     },
     "metadata": {},
     "output_type": "display_data"
    }
   ],
   "source": [
    "## The average interest rate is 11.83%\n",
    "df_loan['interest_rate_buckets'] = round(df_loan['int_rate'])\n",
    "plt.figure(figsize=(16, 6))\n",
    "categorical_plot('interest_rate_buckets')"
   ]
  },
  {
   "cell_type": "markdown",
   "metadata": {},
   "source": [
    "**Observation** <p> The chances of loan default increases with higher interest rate </p>"
   ]
  },
  {
   "cell_type": "markdown",
   "metadata": {},
   "source": [
    "#### Analysis: Installment -  he monthly payment owed by the borrower if the loan originates."
   ]
  },
  {
   "cell_type": "code",
   "execution_count": 104,
   "metadata": {},
   "outputs": [
    {
     "data": {
      "text/html": [
       "<div>\n",
       "<style scoped>\n",
       "    .dataframe tbody tr th:only-of-type {\n",
       "        vertical-align: middle;\n",
       "    }\n",
       "\n",
       "    .dataframe tbody tr th {\n",
       "        vertical-align: top;\n",
       "    }\n",
       "\n",
       "    .dataframe thead th {\n",
       "        text-align: right;\n",
       "    }\n",
       "</style>\n",
       "<table border=\"1\" class=\"dataframe\">\n",
       "  <thead>\n",
       "    <tr style=\"text-align: right;\">\n",
       "      <th></th>\n",
       "      <th>count</th>\n",
       "      <th>mean</th>\n",
       "      <th>std</th>\n",
       "      <th>min</th>\n",
       "      <th>25%</th>\n",
       "      <th>50%</th>\n",
       "      <th>75%</th>\n",
       "      <th>max</th>\n",
       "    </tr>\n",
       "    <tr>\n",
       "      <th>loan_status</th>\n",
       "      <th></th>\n",
       "      <th></th>\n",
       "      <th></th>\n",
       "      <th></th>\n",
       "      <th></th>\n",
       "      <th></th>\n",
       "      <th></th>\n",
       "      <th></th>\n",
       "    </tr>\n",
       "  </thead>\n",
       "  <tbody>\n",
       "    <tr>\n",
       "      <th>Charged Off</th>\n",
       "      <td>4943.0</td>\n",
       "      <td>338.848452</td>\n",
       "      <td>214.527655</td>\n",
       "      <td>22.79</td>\n",
       "      <td>172.4350</td>\n",
       "      <td>298.33</td>\n",
       "      <td>458.3150</td>\n",
       "      <td>1305.19</td>\n",
       "    </tr>\n",
       "    <tr>\n",
       "      <th>Fully Paid</th>\n",
       "      <td>30424.0</td>\n",
       "      <td>321.638693</td>\n",
       "      <td>205.828423</td>\n",
       "      <td>16.08</td>\n",
       "      <td>167.2975</td>\n",
       "      <td>278.24</td>\n",
       "      <td>422.3075</td>\n",
       "      <td>1295.21</td>\n",
       "    </tr>\n",
       "  </tbody>\n",
       "</table>\n",
       "</div>"
      ],
      "text/plain": [
       "               count        mean         std    min       25%     50%  \\\n",
       "loan_status                                                             \n",
       "Charged Off   4943.0  338.848452  214.527655  22.79  172.4350  298.33   \n",
       "Fully Paid   30424.0  321.638693  205.828423  16.08  167.2975  278.24   \n",
       "\n",
       "                  75%      max  \n",
       "loan_status                     \n",
       "Charged Off  458.3150  1305.19  \n",
       "Fully Paid   422.3075  1295.21  "
      ]
     },
     "execution_count": 104,
     "metadata": {},
     "output_type": "execute_result"
    }
   ],
   "source": [
    "df_loan.groupby('loan_status')['installment'].describe()"
   ]
  },
  {
   "cell_type": "code",
   "execution_count": 105,
   "metadata": {},
   "outputs": [
    {
     "data": {
      "image/png": "[encoded data removed]",
      "text/plain": [
       "<Figure size 432x288 with 1 Axes>"
      ]
     },
     "metadata": {},
     "output_type": "display_data"
    }
   ],
   "source": [
    "# installment\n",
    "def installment(n):\n",
    "    if n <= 200:\n",
    "        return '<=200'\n",
    "    elif n > 200 and n <=400:\n",
    "        return '200-400'\n",
    "    elif n > 400 and n <=600:\n",
    "        return '400-600'\n",
    "    else:\n",
    "        return '>=600'\n",
    "    \n",
    "df_loan['installment_bin'] = df_loan['installment'].apply(lambda x: installment(x))\n",
    "categorical_plot('installment_bin')"
   ]
  },
  {
   "cell_type": "markdown",
   "metadata": {},
   "source": [
    "**Observation** \n",
    "<p>Loans Charged Off have high installment on average </p>"
   ]
  },
  {
   "cell_type": "markdown",
   "metadata": {},
   "source": [
    "#### Analysis: annual_inc - The self-reported annual income provided by the borrower during registration."
   ]
  },
  {
   "cell_type": "code",
   "execution_count": 106,
   "metadata": {},
   "outputs": [
    {
     "data": {
      "text/plain": [
       "count    3.536700e+04\n",
       "mean     6.909599e+04\n",
       "std      6.396705e+04\n",
       "min      4.000000e+03\n",
       "25%      4.150000e+04\n",
       "50%      6.000000e+04\n",
       "75%      8.250000e+04\n",
       "max      6.000000e+06\n",
       "Name: annual_inc, dtype: float64"
      ]
     },
     "execution_count": 106,
     "metadata": {},
     "output_type": "execute_result"
    }
   ],
   "source": [
    "df_loan['annual_inc'].describe()"
   ]
  },
  {
   "cell_type": "code",
   "execution_count": 107,
   "metadata": {},
   "outputs": [
    {
     "data": {
      "text/plain": [
       "41000.0"
      ]
     },
     "execution_count": 107,
     "metadata": {},
     "output_type": "execute_result"
    }
   ],
   "source": [
    "## We have annual income ranging from the 4000 to 6000000 with a median value 60000 \n",
    "## We have median of 60000 \n",
    "Q1 = df_loan.annual_inc.quantile(0.25)\n",
    "Q3 = df_loan.annual_inc.quantile(0.75)\n",
    "IQR = Q3 - Q1\n",
    "IQR"
   ]
  },
  {
   "cell_type": "code",
   "execution_count": 108,
   "metadata": {},
   "outputs": [
    {
     "data": {
      "image/png": "[encoded data removed]",
      "text/plain": [
       "<Figure size 432x288 with 1 Axes>"
      ]
     },
     "metadata": {},
     "output_type": "display_data"
    }
   ],
   "source": [
    "boxplot('annual_inc',df_loan)"
   ]
  },
  {
   "cell_type": "code",
   "execution_count": 109,
   "metadata": {},
   "outputs": [
    {
     "data": {
      "image/png": "[encoded data removed]",
      "text/plain": [
       "<Figure size 432x288 with 1 Axes>"
      ]
     },
     "metadata": {},
     "output_type": "display_data"
    }
   ],
   "source": [
    "## Let's remove the outliers\n",
    "df = df_loan[~((df_loan.annual_inc < (Q1 - 1.5 * IQR)) |(df_loan.annual_inc > (Q3 + 1.5 * IQR)))]\n",
    "boxplot('annual_inc',df)"
   ]
  },
  {
   "cell_type": "code",
   "execution_count": 110,
   "metadata": {},
   "outputs": [
    {
     "data": {
      "text/plain": [
       "count     33747.000000\n",
       "mean      61719.146652\n",
       "std       27763.774295\n",
       "min        4000.000000\n",
       "25%       40000.000000\n",
       "50%       57000.000000\n",
       "75%       78281.170000\n",
       "max      144000.000000\n",
       "Name: annual_inc, dtype: float64"
      ]
     },
     "execution_count": 110,
     "metadata": {},
     "output_type": "execute_result"
    }
   ],
   "source": [
    "df['annual_inc'].describe()"
   ]
  },
  {
   "cell_type": "code",
   "execution_count": 111,
   "metadata": {},
   "outputs": [],
   "source": [
    "# annual income\n",
    "def annual_income(n):\n",
    "    if n <= 20000:\n",
    "        return '<=20k'\n",
    "    elif n > 20000 and n <=40000:\n",
    "        return '20k-40k'\n",
    "    elif n > 60000 and n <=80000:\n",
    "        return '60k-80k'\n",
    "    else:\n",
    "        return '>=80k'\n",
    "df_loan['annual_inc_bin'] = df_loan['annual_inc'].apply(lambda x: annual_income(x))"
   ]
  },
  {
   "cell_type": "code",
   "execution_count": 112,
   "metadata": {},
   "outputs": [
    {
     "data": {
      "image/png": "[encoded data removed]",
      "text/plain": [
       "<Figure size 432x288 with 1 Axes>"
      ]
     },
     "metadata": {},
     "output_type": "display_data"
    }
   ],
   "source": [
    "sns.barplot(x='annual_inc_bin', y='is_loan_default', data=df_loan)\n",
    "plt.ylabel(\"charged off\")\n",
    "plt.show()"
   ]
  },
  {
   "cell_type": "markdown",
   "metadata": {},
   "source": [
    "**Observation** <p>Default loan is higher for the lower annual incomes.</p>"
   ]
  },
  {
   "cell_type": "markdown",
   "metadata": {},
   "source": [
    "#### Analysis: dti - A ratio calculated using the borrower’s total monthly debt payments on the total debt obligations, excluding mortgage and the requested LC loan, divided by the borrower’s self-reported monthly income."
   ]
  },
  {
   "cell_type": "code",
   "execution_count": 113,
   "metadata": {},
   "outputs": [
    {
     "data": {
      "text/plain": [
       "count    35367.000000\n",
       "mean        13.403961\n",
       "std          6.636540\n",
       "min          0.000000\n",
       "25%          8.320000\n",
       "50%         13.500000\n",
       "75%         18.640000\n",
       "max         29.990000\n",
       "Name: dti, dtype: float64"
      ]
     },
     "execution_count": 113,
     "metadata": {},
     "output_type": "execute_result"
    }
   ],
   "source": [
    "df_loan.dti.describe()"
   ]
  },
  {
   "cell_type": "code",
   "execution_count": 114,
   "metadata": {},
   "outputs": [],
   "source": [
    "## The Dti range from 0 to 30 and with the median 13.5 and mean 13.4. There is no outliers. \n",
    "## Let's bin it in the interval of 5\n",
    "df_loan['dti_bin'] = pd.cut(df_loan['dti'], [0,5,10,15,20,25,30], labels=['0-5','5-10','10-15','15-20','20-25','25-30'])"
   ]
  },
  {
   "cell_type": "code",
   "execution_count": 115,
   "metadata": {},
   "outputs": [
    {
     "data": {
      "image/png": "[encoded data removed]",
      "text/plain": [
       "<Figure size 432x288 with 1 Axes>"
      ]
     },
     "metadata": {},
     "output_type": "display_data"
    }
   ],
   "source": [
    "categorical_plot('dti_bin')"
   ]
  },
  {
   "cell_type": "markdown",
   "metadata": {},
   "source": [
    "**Observation** - <p>As expected , Defaulter rate increases with the higher dti </p>"
   ]
  },
  {
   "cell_type": "markdown",
   "metadata": {},
   "source": [
    "#### Derived variable - ratio of loan amount to annual income"
   ]
  },
  {
   "cell_type": "code",
   "execution_count": 116,
   "metadata": {},
   "outputs": [
    {
     "data": {
      "image/png": "[encoded data removed]",
      "text/plain": [
       "<Figure size 432x288 with 1 Axes>"
      ]
     },
     "metadata": {},
     "output_type": "display_data"
    }
   ],
   "source": [
    "df_loan['ratio'] = df_loan['loan_amnt'] * 10 / df_loan['annual_inc']\n",
    "sns.distplot(df_loan['ratio'])\n",
    "plt.show()"
   ]
  },
  {
   "cell_type": "code",
   "execution_count": 117,
   "metadata": {},
   "outputs": [
    {
     "data": {
      "image/png": "[encoded data removed]",
      "text/plain": [
       "<Figure size 432x288 with 1 Axes>"
      ]
     },
     "metadata": {},
     "output_type": "display_data"
    }
   ],
   "source": [
    "df_loan['ratio_bin'] = (df_loan['ratio'].astype(int)) *10\n",
    "categorical_plot('ratio_bin')"
   ]
  },
  {
   "cell_type": "markdown",
   "metadata": {},
   "source": [
    "#### Observation - \n",
    "<p> The default rate gets increased with Loan amount and Annual Income ratio with more than 30% </p>"
   ]
  },
  {
   "cell_type": "code",
   "execution_count": 118,
   "metadata": {},
   "outputs": [
    {
     "name": "stdout",
     "output_type": "stream",
     "text": [
      "<class 'pandas.core.frame.DataFrame'>\n",
      "Int64Index: 35367 entries, 1 to 39680\n",
      "Data columns (total 29 columns):\n",
      " #   Column                 Non-Null Count  Dtype         \n",
      "---  ------                 --------------  -----         \n",
      " 0   loan_amnt              35367 non-null  int64         \n",
      " 1   term                   35367 non-null  object        \n",
      " 2   int_rate               35367 non-null  float64       \n",
      " 3   installment            35367 non-null  float64       \n",
      " 4   grade                  35367 non-null  object        \n",
      " 5   sub_grade              35367 non-null  object        \n",
      " 6   emp_title              35367 non-null  object        \n",
      " 7   emp_length             35367 non-null  int64         \n",
      " 8   home_ownership         35367 non-null  object        \n",
      " 9   annual_inc             35367 non-null  float64       \n",
      " 10  verification_status    35367 non-null  object        \n",
      " 11  issue_d                35367 non-null  datetime64[ns]\n",
      " 12  loan_status            35367 non-null  object        \n",
      " 13  purpose                35367 non-null  object        \n",
      " 14  title                  35367 non-null  object        \n",
      " 15  addr_state             35367 non-null  object        \n",
      " 16  dti                    35367 non-null  float64       \n",
      " 17  pub_rec_bankruptcies   35367 non-null  float64       \n",
      " 18  is_loan_default        35367 non-null  int64         \n",
      " 19  emp_length_category    35367 non-null  object        \n",
      " 20  issue_d_year           35367 non-null  int64         \n",
      " 21  issue_d_month          35367 non-null  int64         \n",
      " 22  loan_amnt_bin          35367 non-null  category      \n",
      " 23  interest_rate_buckets  35367 non-null  float64       \n",
      " 24  installment_bin        35367 non-null  object        \n",
      " 25  annual_inc_bin         35367 non-null  object        \n",
      " 26  dti_bin                35227 non-null  category      \n",
      " 27  ratio                  35367 non-null  float64       \n",
      " 28  ratio_bin              35367 non-null  int32         \n",
      "dtypes: category(2), datetime64[ns](1), float64(7), int32(1), int64(5), object(13)\n",
      "memory usage: 6.7+ MB\n"
     ]
    }
   ],
   "source": [
    "df_loan.info()"
   ]
  },
  {
   "cell_type": "markdown",
   "metadata": {},
   "source": [
    "## 05.02 - Segmented Univariate Analysis"
   ]
  },
  {
   "cell_type": "markdown",
   "metadata": {},
   "source": [
    "**In credit industry the purpose of the loan is used by the lender to analysis the risk of the loan** \n",
    "\n",
    "According to the wikipedia - https://en.wikipedia.org/wiki/Loan_purpose\n",
    "\n",
    "Loan purpose is a term in United States mortgage industry to show the underlying reason an applicant is seeking a loan. The purpose of the loan is used by the lender to make decisions on the risk and may even impact the interest rate that is offered. For example, if an applicant is refinancing a mortgage after having taken some cash out, the lender might consider that an increase in risk and increase the interest rate that is offered or add additional conditions. Loan purpose is important to the process of obtaining mortgages or business loans that are connected with specific types of business activities.\n",
    "\n",
    "**The purpose of loans are in different nature from each other. Let's analysis the most loan taken for top 4 purposes with some important variables.**"
   ]
  },
  {
   "cell_type": "markdown",
   "metadata": {},
   "source": [
    "## Identify top 4 types of loans based on purposes "
   ]
  },
  {
   "cell_type": "code",
   "execution_count": 119,
   "metadata": {},
   "outputs": [
    {
     "data": {
      "image/png": "[encoded data removed]",
      "text/plain": [
       "<Figure size 1152x432 with 1 Axes>"
      ]
     },
     "metadata": {},
     "output_type": "display_data"
    }
   ],
   "source": [
    "##Let's have a look at the number of loans taken for different purposes\n",
    "plt.figure(figsize=(16, 6))\n",
    "plt.xticks(rotation=40)\n",
    "sns.countplot(x='purpose', data=df_loan)\n",
    "plt.show()"
   ]
  },
  {
   "cell_type": "markdown",
   "metadata": {},
   "source": [
    "#### Obseravation  -\n",
    "<p>\n",
    "    <b> The top 4 loans are -</b>\n",
    "       <ul>\n",
    "           <li> Debt consolidation </li>\n",
    "           <li> Credit card </li>\n",
    "           <li> Home improvement </li>\n",
    "           <li> Major purchase </li>\n",
    "       </ul>   \n",
    "    <p>"
   ]
  },
  {
   "cell_type": "code",
   "execution_count": 120,
   "metadata": {},
   "outputs": [
    {
     "data": {
      "text/plain": [
       "(26124, 29)"
      ]
     },
     "execution_count": 120,
     "metadata": {},
     "output_type": "execute_result"
    }
   ],
   "source": [
    "## Let's filter out the loans for this top 4 purposes for the further analysis\n",
    "top_purposes = ['debt_consolidation','credit_card','home_improvement','major_purchase']\n",
    "df=df_loan[df_loan.purpose.isin(top_purposes)]\n",
    "df.shape"
   ]
  },
  {
   "cell_type": "code",
   "execution_count": 121,
   "metadata": {},
   "outputs": [
    {
     "data": {
      "text/plain": [
       "debt_consolidation    2509\n",
       "credit_card            479\n",
       "home_improvement       296\n",
       "major_purchase         190\n",
       "Name: purpose, dtype: int64"
      ]
     },
     "execution_count": 121,
     "metadata": {},
     "output_type": "execute_result"
    }
   ],
   "source": [
    "defaulter=df[df.is_loan_default==1]\n",
    "defaulter.purpose.value_counts()"
   ]
  },
  {
   "cell_type": "markdown",
   "metadata": {},
   "source": [
    "#### Analysis - Top 4 loans based on purposes"
   ]
  },
  {
   "cell_type": "code",
   "execution_count": 122,
   "metadata": {},
   "outputs": [
    {
     "data": {
      "text/plain": [
       "debt_consolidation    16911\n",
       "credit_card            4626\n",
       "home_improvement       2614\n",
       "major_purchase         1973\n",
       "Name: purpose, dtype: int64"
      ]
     },
     "execution_count": 122,
     "metadata": {},
     "output_type": "execute_result"
    }
   ],
   "source": [
    "## Let's check the count for each loan types\n",
    "df.purpose.value_counts()"
   ]
  },
  {
   "cell_type": "code",
   "execution_count": 123,
   "metadata": {},
   "outputs": [
    {
     "data": {
      "image/png": "[encoded data removed]",
      "text/plain": [
       "<Figure size 432x288 with 1 Axes>"
      ]
     },
     "metadata": {},
     "output_type": "display_data"
    }
   ],
   "source": [
    "## Let's draw a plot to compare all the loans\n",
    "sns.countplot(x=df.purpose)\n",
    "plt.xticks(rotation=30)\n",
    "plt.show()"
   ]
  },
  {
   "cell_type": "markdown",
   "metadata": {},
   "source": [
    "**Observation** \n",
    "<p> The number of loans taken for debt consolidation is greater than the rest of the three combined.<p>"
   ]
  },
  {
   "cell_type": "code",
   "execution_count": 124,
   "metadata": {},
   "outputs": [],
   "source": [
    "## Define a function to plot status across the categorical variable - and segmented by purpose\n",
    "def categorical_segmented_plot(cat_var,df):\n",
    "    sns.barplot(x=cat_var, y='is_loan_default',hue='purpose' ,data=df)\n",
    "    plt.ylabel(\"charged off\")\n",
    "   "
   ]
  },
  {
   "cell_type": "markdown",
   "metadata": {},
   "source": [
    "## Analysis - \n",
    "<p>Default loan analysis based on two variables - purpose (constant) and other categorical variable</p>"
   ]
  },
  {
   "cell_type": "markdown",
   "metadata": {},
   "source": [
    "#### variable - term"
   ]
  },
  {
   "cell_type": "code",
   "execution_count": 125,
   "metadata": {},
   "outputs": [
    {
     "data": {
      "image/png": "[encoded data removed]",
      "text/plain": [
       "<Figure size 864x432 with 1 Axes>"
      ]
     },
     "metadata": {},
     "output_type": "display_data"
    }
   ],
   "source": [
    "plt.figure(figsize=(12,6))\n",
    "categorical_segmented_plot('term',df)\n",
    "plt.show()"
   ]
  },
  {
   "cell_type": "markdown",
   "metadata": {},
   "source": [
    "#### variable - grade "
   ]
  },
  {
   "cell_type": "code",
   "execution_count": 126,
   "metadata": {},
   "outputs": [
    {
     "data": {
      "image/png": "[encoded data removed]",
      "text/plain": [
       "<Figure size 864x432 with 1 Axes>"
      ]
     },
     "metadata": {},
     "output_type": "display_data"
    }
   ],
   "source": [
    "plt.figure(figsize=(12,6))\n",
    "categorical_segmented_plot('grade',df)\n",
    "plt.show()"
   ]
  },
  {
   "cell_type": "markdown",
   "metadata": {},
   "source": [
    "#### variable - home_ownership\n"
   ]
  },
  {
   "cell_type": "code",
   "execution_count": 127,
   "metadata": {},
   "outputs": [
    {
     "data": {
      "image/png": "[encoded data removed]",
      "text/plain": [
       "<Figure size 864x432 with 1 Axes>"
      ]
     },
     "metadata": {},
     "output_type": "display_data"
    }
   ],
   "source": [
    "plt.figure(figsize=(12,6))\n",
    "categorical_segmented_plot('home_ownership',df)\n",
    "plt.show()"
   ]
  },
  {
   "cell_type": "markdown",
   "metadata": {},
   "source": [
    "#### variable:  issue_d_year - This is a derived variable - the year when the loan was issued"
   ]
  },
  {
   "cell_type": "code",
   "execution_count": 128,
   "metadata": {},
   "outputs": [
    {
     "data": {
      "image/png": "[encoded data removed]",
      "text/plain": [
       "<Figure size 864x432 with 1 Axes>"
      ]
     },
     "metadata": {},
     "output_type": "display_data"
    }
   ],
   "source": [
    "plt.figure(figsize=(12,6))\n",
    "categorical_segmented_plot('issue_d_year',df)\n",
    "plt.show()"
   ]
  },
  {
   "cell_type": "code",
   "execution_count": 129,
   "metadata": {
    "scrolled": true
   },
   "outputs": [
    {
     "data": {
      "text/plain": [
       "issue_d_year  purpose           \n",
       "2007          debt_consolidation       2\n",
       "2008          credit_card             28\n",
       "              debt_consolidation      62\n",
       "              home_improvement         8\n",
       "              major_purchase           5\n",
       "2009          credit_card             45\n",
       "              debt_consolidation     228\n",
       "              home_improvement        35\n",
       "              major_purchase          17\n",
       "2010          credit_card            114\n",
       "              debt_consolidation     644\n",
       "              home_improvement        83\n",
       "              major_purchase          81\n",
       "2011          credit_card            292\n",
       "              debt_consolidation    1573\n",
       "              home_improvement       170\n",
       "              major_purchase          87\n",
       "Name: is_loan_default, dtype: int64"
      ]
     },
     "execution_count": 129,
     "metadata": {},
     "output_type": "execute_result"
    }
   ],
   "source": [
    "x=defaulter.groupby(['issue_d_year','purpose'])['is_loan_default'].count()\n",
    "x"
   ]
  },
  {
   "cell_type": "markdown",
   "metadata": {},
   "source": [
    "#### variable - emp_length_category - derived variable from emp_length"
   ]
  },
  {
   "cell_type": "code",
   "execution_count": 130,
   "metadata": {},
   "outputs": [
    {
     "data": {
      "image/png": "[encoded data removed]",
      "text/plain": [
       "<Figure size 864x432 with 1 Axes>"
      ]
     },
     "metadata": {},
     "output_type": "display_data"
    }
   ],
   "source": [
    "plt.figure(figsize=(12,6))\n",
    "categorical_segmented_plot('emp_length_category',df)\n",
    "plt.show()"
   ]
  },
  {
   "cell_type": "markdown",
   "metadata": {},
   "source": [
    "#### variable - loan_amnt_bin - derived variable from loan_amnt - to classify the loan amount in groups"
   ]
  },
  {
   "cell_type": "code",
   "execution_count": 131,
   "metadata": {},
   "outputs": [
    {
     "data": {
      "image/png": "[encoded data removed]",
      "text/plain": [
       "<Figure size 864x432 with 1 Axes>"
      ]
     },
     "metadata": {},
     "output_type": "display_data"
    }
   ],
   "source": [
    "plt.figure(figsize=(12,6))\n",
    "categorical_segmented_plot('loan_amnt_bin',df)\n",
    "plt.show()"
   ]
  },
  {
   "cell_type": "markdown",
   "metadata": {},
   "source": [
    "#### variable - interest_rate_buckets - derived variable from int_rate "
   ]
  },
  {
   "cell_type": "code",
   "execution_count": 132,
   "metadata": {},
   "outputs": [
    {
     "data": {
      "image/png": "[encoded data removed]",
      "text/plain": [
       "<Figure size 1296x720 with 1 Axes>"
      ]
     },
     "metadata": {},
     "output_type": "display_data"
    }
   ],
   "source": [
    "plt.figure(figsize=(18,10))\n",
    "categorical_segmented_plot('interest_rate_buckets',df)\n",
    "plt.show()"
   ]
  },
  {
   "cell_type": "markdown",
   "metadata": {},
   "source": [
    "#### variable - installment_bin - derived from installment"
   ]
  },
  {
   "cell_type": "code",
   "execution_count": 133,
   "metadata": {},
   "outputs": [
    {
     "data": {
      "image/png": "[encoded data removed]",
      "text/plain": [
       "<Figure size 1296x720 with 1 Axes>"
      ]
     },
     "metadata": {},
     "output_type": "display_data"
    }
   ],
   "source": [
    "plt.figure(figsize=(18,10))\n",
    "categorical_segmented_plot('installment_bin',df)\n",
    "plt.show()"
   ]
  },
  {
   "cell_type": "markdown",
   "metadata": {},
   "source": [
    "#### variable - dti_bin - this is a derived variable from dti"
   ]
  },
  {
   "cell_type": "code",
   "execution_count": 134,
   "metadata": {},
   "outputs": [
    {
     "data": {
      "image/png": "[encoded data removed]",
      "text/plain": [
       "<Figure size 1296x720 with 1 Axes>"
      ]
     },
     "metadata": {},
     "output_type": "display_data"
    }
   ],
   "source": [
    "plt.figure(figsize=(18,10))\n",
    "categorical_segmented_plot('dti_bin',df)\n",
    "plt.show()"
   ]
  },
  {
   "cell_type": "markdown",
   "metadata": {},
   "source": [
    "#### variable - annual_inc_bin - this is a derived variable from annual_inc"
   ]
  },
  {
   "cell_type": "code",
   "execution_count": 135,
   "metadata": {},
   "outputs": [
    {
     "data": {
      "image/png": "[encoded data removed]",
      "text/plain": [
       "<Figure size 1296x720 with 1 Axes>"
      ]
     },
     "metadata": {},
     "output_type": "display_data"
    }
   ],
   "source": [
    "plt.figure(figsize=(18,10))\n",
    "categorical_segmented_plot('annual_inc_bin',df)\n",
    "plt.show()"
   ]
  },
  {
   "cell_type": "markdown",
   "metadata": {},
   "source": [
    "## 05.03 -  Bivariate Analysis - Continuous variable"
   ]
  },
  {
   "cell_type": "code",
   "execution_count": 136,
   "metadata": {},
   "outputs": [
    {
     "data": {
      "text/html": [
       "<div>\n",
       "<style scoped>\n",
       "    .dataframe tbody tr th:only-of-type {\n",
       "        vertical-align: middle;\n",
       "    }\n",
       "\n",
       "    .dataframe tbody tr th {\n",
       "        vertical-align: top;\n",
       "    }\n",
       "\n",
       "    .dataframe thead th {\n",
       "        text-align: right;\n",
       "    }\n",
       "</style>\n",
       "<table border=\"1\" class=\"dataframe\">\n",
       "  <thead>\n",
       "    <tr style=\"text-align: right;\">\n",
       "      <th></th>\n",
       "      <th>loan_amnt</th>\n",
       "      <th>int_rate</th>\n",
       "      <th>installment</th>\n",
       "      <th>emp_length</th>\n",
       "      <th>annual_inc</th>\n",
       "      <th>dti</th>\n",
       "      <th>issue_d_year</th>\n",
       "      <th>pub_rec_bankruptcies</th>\n",
       "    </tr>\n",
       "  </thead>\n",
       "  <tbody>\n",
       "    <tr>\n",
       "      <th>loan_amnt</th>\n",
       "      <td>1.000000</td>\n",
       "      <td>0.299997</td>\n",
       "      <td>0.930743</td>\n",
       "      <td>0.144488</td>\n",
       "      <td>0.258984</td>\n",
       "      <td>0.063093</td>\n",
       "      <td>0.116198</td>\n",
       "      <td>-0.030431</td>\n",
       "    </tr>\n",
       "    <tr>\n",
       "      <th>int_rate</th>\n",
       "      <td>0.299997</td>\n",
       "      <td>1.000000</td>\n",
       "      <td>0.276320</td>\n",
       "      <td>-0.000605</td>\n",
       "      <td>0.047350</td>\n",
       "      <td>0.110755</td>\n",
       "      <td>0.026702</td>\n",
       "      <td>0.083455</td>\n",
       "    </tr>\n",
       "    <tr>\n",
       "      <th>installment</th>\n",
       "      <td>0.930743</td>\n",
       "      <td>0.276320</td>\n",
       "      <td>1.000000</td>\n",
       "      <td>0.118230</td>\n",
       "      <td>0.256466</td>\n",
       "      <td>0.054172</td>\n",
       "      <td>0.062250</td>\n",
       "      <td>-0.028599</td>\n",
       "    </tr>\n",
       "    <tr>\n",
       "      <th>emp_length</th>\n",
       "      <td>0.144488</td>\n",
       "      <td>-0.000605</td>\n",
       "      <td>0.118230</td>\n",
       "      <td>1.000000</td>\n",
       "      <td>0.109105</td>\n",
       "      <td>0.046006</td>\n",
       "      <td>0.094486</td>\n",
       "      <td>0.064073</td>\n",
       "    </tr>\n",
       "    <tr>\n",
       "      <th>annual_inc</th>\n",
       "      <td>0.258984</td>\n",
       "      <td>0.047350</td>\n",
       "      <td>0.256466</td>\n",
       "      <td>0.109105</td>\n",
       "      <td>1.000000</td>\n",
       "      <td>-0.120855</td>\n",
       "      <td>0.014550</td>\n",
       "      <td>-0.010939</td>\n",
       "    </tr>\n",
       "    <tr>\n",
       "      <th>dti</th>\n",
       "      <td>0.063093</td>\n",
       "      <td>0.110755</td>\n",
       "      <td>0.054172</td>\n",
       "      <td>0.046006</td>\n",
       "      <td>-0.120855</td>\n",
       "      <td>1.000000</td>\n",
       "      <td>0.078463</td>\n",
       "      <td>0.006334</td>\n",
       "    </tr>\n",
       "    <tr>\n",
       "      <th>issue_d_year</th>\n",
       "      <td>0.116198</td>\n",
       "      <td>0.026702</td>\n",
       "      <td>0.062250</td>\n",
       "      <td>0.094486</td>\n",
       "      <td>0.014550</td>\n",
       "      <td>0.078463</td>\n",
       "      <td>1.000000</td>\n",
       "      <td>-0.003603</td>\n",
       "    </tr>\n",
       "    <tr>\n",
       "      <th>pub_rec_bankruptcies</th>\n",
       "      <td>-0.030431</td>\n",
       "      <td>0.083455</td>\n",
       "      <td>-0.028599</td>\n",
       "      <td>0.064073</td>\n",
       "      <td>-0.010939</td>\n",
       "      <td>0.006334</td>\n",
       "      <td>-0.003603</td>\n",
       "      <td>1.000000</td>\n",
       "    </tr>\n",
       "  </tbody>\n",
       "</table>\n",
       "</div>"
      ],
      "text/plain": [
       "                      loan_amnt  int_rate  installment  emp_length  \\\n",
       "loan_amnt              1.000000  0.299997     0.930743    0.144488   \n",
       "int_rate               0.299997  1.000000     0.276320   -0.000605   \n",
       "installment            0.930743  0.276320     1.000000    0.118230   \n",
       "emp_length             0.144488 -0.000605     0.118230    1.000000   \n",
       "annual_inc             0.258984  0.047350     0.256466    0.109105   \n",
       "dti                    0.063093  0.110755     0.054172    0.046006   \n",
       "issue_d_year           0.116198  0.026702     0.062250    0.094486   \n",
       "pub_rec_bankruptcies  -0.030431  0.083455    -0.028599    0.064073   \n",
       "\n",
       "                      annual_inc       dti  issue_d_year  pub_rec_bankruptcies  \n",
       "loan_amnt               0.258984  0.063093      0.116198             -0.030431  \n",
       "int_rate                0.047350  0.110755      0.026702              0.083455  \n",
       "installment             0.256466  0.054172      0.062250             -0.028599  \n",
       "emp_length              0.109105  0.046006      0.094486              0.064073  \n",
       "annual_inc              1.000000 -0.120855      0.014550             -0.010939  \n",
       "dti                    -0.120855  1.000000      0.078463              0.006334  \n",
       "issue_d_year            0.014550  0.078463      1.000000             -0.003603  \n",
       "pub_rec_bankruptcies   -0.010939  0.006334     -0.003603              1.000000  "
      ]
     },
     "execution_count": 136,
     "metadata": {},
     "output_type": "execute_result"
    }
   ],
   "source": [
    "## Let's have a look at the correlation between the loan amount and other numerical variables\n",
    "cont_var= ['loan_amnt', 'int_rate', 'installment',\n",
    "       'emp_length', 'annual_inc',\n",
    "       'dti',  'issue_d_year',\n",
    "       'pub_rec_bankruptcies']\n",
    "corr = df_loan[cont_var].corr()\n",
    "corr"
   ]
  },
  {
   "cell_type": "code",
   "execution_count": 137,
   "metadata": {},
   "outputs": [
    {
     "data": {
      "image/png": "[encoded data removed]",
      "text/plain": [
       "<Figure size 504x504 with 2 Axes>"
      ]
     },
     "metadata": {},
     "output_type": "display_data"
    }
   ],
   "source": [
    "plt.figure(figsize=(7,7))\n",
    "\n",
    "sns.heatmap(corr, annot=True, center=0.5)\n",
    "plt.show()"
   ]
  },
  {
   "cell_type": "markdown",
   "metadata": {},
   "source": [
    "#### Observation - \n",
    "<p>\n",
    "<ul>\n",
    "    <li>\n",
    "         Loan Amount is correlated (positive) with the installments , interest rates , annual income etc\n",
    "    </li> \n",
    "    <li>\n",
    "        Interest rate is correlated (positive) with installment\n",
    "    </li>\n",
    "</ul>\n",
    "</p>"
   ]
  },
  {
   "cell_type": "markdown",
   "metadata": {},
   "source": [
    "## Conclusion:"
   ]
  },
  {
   "cell_type": "markdown",
   "metadata": {},
   "source": [
    "\n",
    "**Major variables to consider for loan prediction:**\n",
    "\n",
    "    1. Loan Purpose\n",
    "    2. Employment Length\n",
    "    3. Interest Rate\n",
    "    4. Annual Income\n",
    "    5. Grade & Sub-grade\n",
    "    6. Term \n",
    "    7. Loan Amount\n",
    "    8. dti\n",
    "   "
   ]
  },
  {
   "cell_type": "markdown",
   "metadata": {},
   "source": [
    "#### More Insights: -"
   ]
  },
  {
   "cell_type": "code",
   "execution_count": 138,
   "metadata": {},
   "outputs": [],
   "source": [
    "## This method calculates the default rates across the categories\n",
    "## To compute difference between the highest and the lowest default rate\n",
    "def diff_rate(cat_var):\n",
    "    default_rates = df_loan.groupby(cat_var).is_loan_default.mean().sort_values(ascending=False)\n",
    "    return round(default_rates, 2)"
   ]
  },
  {
   "cell_type": "code",
   "execution_count": 139,
   "metadata": {},
   "outputs": [
    {
     "name": "stdout",
     "output_type": "stream",
     "text": [
      "purpose\n",
      "small_business        0.26\n",
      "renewable_energy      0.17\n",
      "educational           0.16\n",
      "other                 0.16\n",
      "house                 0.16\n",
      "medical               0.15\n",
      "moving                0.15\n",
      "debt_consolidation    0.15\n",
      "vacation              0.15\n",
      "home_improvement      0.11\n",
      "car                   0.11\n",
      "credit_card           0.10\n",
      "major_purchase        0.10\n",
      "wedding               0.10\n",
      "Name: is_loan_default, dtype: float64\n"
     ]
    }
   ],
   "source": [
    "default_rates = diff_rate('purpose')\n",
    "print(default_rates) "
   ]
  },
  {
   "cell_type": "markdown",
   "metadata": {},
   "source": [
    "#### Category - Small business has 16% higher default rate on average than credit card and major purchase"
   ]
  },
  {
   "cell_type": "code",
   "execution_count": 140,
   "metadata": {},
   "outputs": [
    {
     "name": "stdout",
     "output_type": "stream",
     "text": [
      "emp_length_category\n",
      "7-10+ years    0.15\n",
      "3-7 years      0.14\n",
      "<=1 years      0.14\n",
      "1-3 years      0.13\n",
      "Name: is_loan_default, dtype: float64\n"
     ]
    }
   ],
   "source": [
    "default_rates = diff_rate('emp_length_category')\n",
    "print(default_rates) \n"
   ]
  },
  {
   "cell_type": "markdown",
   "metadata": {},
   "source": [
    "####  Employment Length - The people with 7-10+ with work experience has 2% more default rate on average than the people having work experience 1-3 years"
   ]
  },
  {
   "cell_type": "code",
   "execution_count": 141,
   "metadata": {},
   "outputs": [
    {
     "name": "stdout",
     "output_type": "stream",
     "text": [
      "annual_inc_bin\n",
      "<=20k      0.18\n",
      "20k-40k    0.17\n",
      ">=80k      0.13\n",
      "60k-80k    0.13\n",
      "Name: is_loan_default, dtype: float64\n"
     ]
    }
   ],
   "source": [
    "default_rates = diff_rate('annual_inc_bin')\n",
    "print(default_rates) "
   ]
  },
  {
   "cell_type": "markdown",
   "metadata": {},
   "source": [
    "#### Annual Income - People with annual income less than 20000 USD are likely to be more defaulters by 5% on average than people with income between 60000 USD to 80000 USD"
   ]
  },
  {
   "cell_type": "code",
   "execution_count": 142,
   "metadata": {},
   "outputs": [
    {
     "name": "stdout",
     "output_type": "stream",
     "text": [
      "grade\n",
      "G    0.33\n",
      "F    0.32\n",
      "E    0.26\n",
      "D    0.21\n",
      "C    0.16\n",
      "B    0.12\n",
      "A    0.06\n",
      "Name: is_loan_default, dtype: float64\n"
     ]
    }
   ],
   "source": [
    "default_rates = diff_rate('grade')\n",
    "print(default_rates) "
   ]
  },
  {
   "cell_type": "markdown",
   "metadata": {},
   "source": [
    "#### Grade - Loans with Grade E are likely to be more defaulter by 27% than Grade A on average"
   ]
  },
  {
   "cell_type": "code",
   "execution_count": 143,
   "metadata": {},
   "outputs": [
    {
     "name": "stdout",
     "output_type": "stream",
     "text": [
      "term\n",
      " 60 months    0.25\n",
      " 36 months    0.10\n",
      "Name: is_loan_default, dtype: float64\n"
     ]
    }
   ],
   "source": [
    "default_rates = diff_rate('term')\n",
    "print(default_rates) \n"
   ]
  },
  {
   "cell_type": "markdown",
   "metadata": {},
   "source": [
    "#### Term - The loans with 60 months term are likely to be more defaulter by 15% than 36 month term on average"
   ]
  },
  {
   "cell_type": "code",
   "execution_count": 144,
   "metadata": {},
   "outputs": [
    {
     "name": "stdout",
     "output_type": "stream",
     "text": [
      "loan_amnt_bin\n",
      "30-35k    0.24\n",
      "25-30k    0.20\n",
      "20-25k    0.18\n",
      "15-20k    0.17\n",
      "10-15k    0.13\n",
      "0-5k      0.13\n",
      "5-10k     0.12\n",
      "Name: is_loan_default, dtype: float64\n"
     ]
    }
   ],
   "source": [
    "default_rates = diff_rate('loan_amnt_bin')\n",
    "print(default_rates) "
   ]
  },
  {
   "cell_type": "markdown",
   "metadata": {},
   "source": [
    "#### Loan Amount - The loan amount between 30000-35000 are more 12% more defaulter on average than 5000-10000"
   ]
  },
  {
   "cell_type": "code",
   "execution_count": 145,
   "metadata": {},
   "outputs": [
    {
     "name": "stdout",
     "output_type": "stream",
     "text": [
      "interest_rate_buckets\n",
      "23.0    0.49\n",
      "22.0    0.43\n",
      "24.0    0.41\n",
      "21.0    0.35\n",
      "20.0    0.34\n",
      "19.0    0.30\n",
      "18.0    0.26\n",
      "17.0    0.26\n",
      "16.0    0.21\n",
      "15.0    0.19\n",
      "14.0    0.16\n",
      "13.0    0.15\n",
      "12.0    0.14\n",
      "11.0    0.12\n",
      "10.0    0.10\n",
      "9.0     0.07\n",
      "8.0     0.07\n",
      "7.0     0.05\n",
      "6.0     0.03\n",
      "5.0     0.03\n",
      "Name: is_loan_default, dtype: float64\n"
     ]
    }
   ],
   "source": [
    "default_rates = diff_rate('interest_rate_buckets')\n",
    "print(default_rates)"
   ]
  },
  {
   "cell_type": "markdown",
   "metadata": {},
   "source": [
    "#### Interest rate - The loans with 23% interest rate are 46% more risker on average than of the interest rate with 5%"
   ]
  }
 ],
 "metadata": {
  "kernelspec": {
   "display_name": "Python 3",
   "language": "python",
   "name": "python3"
  },
  "language_info": {
   "codemirror_mode": {
    "name": "ipython",
    "version": 3
   },
   "file_extension": ".py",
   "mimetype": "text/x-python",
   "name": "python",
   "nbconvert_exporter": "python",
   "pygments_lexer": "ipython3",
   "version": "3.8.2"
  }
 },
 "nbformat": 4,
 "nbformat_minor": 4
}
