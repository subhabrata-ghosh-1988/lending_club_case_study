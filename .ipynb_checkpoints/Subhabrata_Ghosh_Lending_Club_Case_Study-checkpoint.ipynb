{
 "cells": [
  {
   "cell_type": "markdown",
   "metadata": {},
   "source": [
    "# Lending club case study"
   ]
  },
  {
   "cell_type": "markdown",
   "metadata": {},
   "source": [
    "### Business Objectives:\n",
    "\n",
    "**Objective is to identify the risky loan applicants at the time of loan application so that such loans can be reduced thereby cutting down the amount of credit loss.**"
   ]
  },
  {
   "cell_type": "markdown",
   "metadata": {},
   "source": [
    "### Contributor(s) -  Subhabrata Ghosh / Mohammed Tarique Jamal"
   ]
  },
  {
   "cell_type": "code",
   "execution_count": null,
   "metadata": {},
   "outputs": [],
   "source": [
    "## Disable warnings\n",
    "import warnings\n",
    "warnings.filterwarnings('ignore')"
   ]
  },
  {
   "cell_type": "code",
   "execution_count": null,
   "metadata": {},
   "outputs": [],
   "source": [
    "## Importing necessary libraries for the data analysis\n",
    "import numpy as np\n",
    "import pandas as pd\n",
    "import matplotlib.pyplot as plt\n",
    "import seaborn as sns"
   ]
  },
  {
   "cell_type": "code",
   "execution_count": null,
   "metadata": {},
   "outputs": [],
   "source": [
    "## Setup the figure aesthetics\n",
    "sns.set(style='whitegrid')"
   ]
  },
  {
   "cell_type": "code",
   "execution_count": null,
   "metadata": {},
   "outputs": [],
   "source": [
    "## Setup a display options\n",
    "pd.set_option('display.max_rows', 1000)\n",
    "pd.set_option('display.max_columns', None)"
   ]
  },
  {
   "cell_type": "markdown",
   "metadata": {},
   "source": [
    "## 01. Data Import"
   ]
  },
  {
   "cell_type": "code",
   "execution_count": null,
   "metadata": {},
   "outputs": [],
   "source": [
    "## Reading the load file\n",
    "df_loan=pd.read_csv('loan.csv',engine='python')"
   ]
  },
  {
   "cell_type": "code",
   "execution_count": null,
   "metadata": {},
   "outputs": [],
   "source": [
    "## Basic data exploration\n",
    "df_loan.head()"
   ]
  },
  {
   "cell_type": "code",
   "execution_count": null,
   "metadata": {},
   "outputs": [],
   "source": [
    "## shape - df_loan\n",
    "df_loan.shape"
   ]
  },
  {
   "cell_type": "code",
   "execution_count": null,
   "metadata": {},
   "outputs": [],
   "source": [
    "## Check the columns - data types\n",
    "df_loan.info()"
   ]
  },
  {
   "cell_type": "code",
   "execution_count": null,
   "metadata": {},
   "outputs": [],
   "source": [
    "## Check for null values\n",
    "print(df_loan.isnull().sum())"
   ]
  },
  {
   "cell_type": "code",
   "execution_count": null,
   "metadata": {},
   "outputs": [],
   "source": [
    "## Check for the columns we have missing values\n",
    "print(df_loan.columns[df_loan.isnull().sum()>0])"
   ]
  },
  {
   "cell_type": "code",
   "execution_count": null,
   "metadata": {},
   "outputs": [],
   "source": [
    "## Total columns we have missing values-\n",
    "len(df_loan.columns[df_loan.isnull().sum()>0])"
   ]
  },
  {
   "cell_type": "markdown",
   "metadata": {},
   "source": [
    "#### Analysis -  We have total 68 columns with missing values"
   ]
  },
  {
   "cell_type": "markdown",
   "metadata": {},
   "source": [
    "## 02. Data Understanding"
   ]
  },
  {
   "cell_type": "code",
   "execution_count": null,
   "metadata": {
    "scrolled": true
   },
   "outputs": [],
   "source": [
    "print(df_loan.columns.values)"
   ]
  },
  {
   "cell_type": "markdown",
   "metadata": {},
   "source": [
    "<b>Types of variables</b>\n",
    "  <ul>\n",
    "    <li>Customer (applicant) demographic</li>\n",
    "    <li>Loan related information & characteristics</li>\n",
    "    <li>Customer behavior (if the loan is granted)</li>\n",
    "  </ul>\n",
    "  \n",
    "  <b>Examples-</b>\n",
    "  <ul>\n",
    "    <li><b>Customer (applicant) demographic:</b> emp_length,emp_title, annual_inc, zip_code, desc etc. </li>\n",
    "    <li><b>Loan related information & characteristics:</b> loan_amnt , funded_amnt, funded_amnt_inv,int_rate,loan_stattus ,grade etc. </li>\n",
    "    <li><b>Customer behavior:</b> purpose,delinq_2yrs, recoveries , revol_bal etc. </li>\n",
    "  </ul>\n"
   ]
  },
  {
   "cell_type": "markdown",
   "metadata": {},
   "source": [
    "## 03. Data Cleaning"
   ]
  },
  {
   "cell_type": "code",
   "execution_count": null,
   "metadata": {},
   "outputs": [],
   "source": [
    "## Just check the percentages of missing values\n",
    "missing_columns = 100*round(df_loan.isnull().sum()/len(df_loan.index),2)\n",
    "missing_columns"
   ]
  },
  {
   "cell_type": "markdown",
   "metadata": {},
   "source": [
    "#### Analysis  - There are many columns with 100% missing data - Let's drop them straight away"
   ]
  },
  {
   "cell_type": "code",
   "execution_count": null,
   "metadata": {},
   "outputs": [],
   "source": [
    "full_missing_columns=missing_columns[missing_columns==100]\n",
    "full_missing_columns"
   ]
  },
  {
   "cell_type": "code",
   "execution_count": null,
   "metadata": {},
   "outputs": [],
   "source": [
    "## Count total null columns\n",
    "len(full_missing_columns)"
   ]
  },
  {
   "cell_type": "code",
   "execution_count": null,
   "metadata": {},
   "outputs": [],
   "source": [
    "## Dropping the null columns\n",
    "df_loan=df_loan.drop(full_missing_columns.index, axis=1)"
   ]
  },
  {
   "cell_type": "code",
   "execution_count": null,
   "metadata": {},
   "outputs": [],
   "source": [
    "## Checking after dropping all the null columns\n",
    "df_loan.shape"
   ]
  },
  {
   "cell_type": "code",
   "execution_count": null,
   "metadata": {},
   "outputs": [],
   "source": [
    "## Lets check the columns with partial null values\n",
    "\n",
    "missing_columns = 100*round(df_loan.isnull().sum()/len(df_loan.index),2)\n",
    "missing_columns[missing_columns!=0]"
   ]
  },
  {
   "cell_type": "markdown",
   "metadata": {},
   "source": [
    "#### Analysis -  We still have 3 columns with more than 50% of missing values - Let's drop them"
   ]
  },
  {
   "cell_type": "code",
   "execution_count": null,
   "metadata": {},
   "outputs": [],
   "source": [
    "## Dropping the null columns\n",
    "df_loan=df_loan.drop(missing_columns[missing_columns>50].index, axis=1)"
   ]
  },
  {
   "cell_type": "code",
   "execution_count": null,
   "metadata": {},
   "outputs": [],
   "source": [
    "df_loan.shape"
   ]
  },
  {
   "cell_type": "code",
   "execution_count": null,
   "metadata": {},
   "outputs": [],
   "source": [
    "## Let's check further if we can identify anyother columns\n",
    "missing_columns = 100*round(df_loan.isnull().sum()/len(df_loan.index),2)\n",
    "missing_columns[missing_columns!=0]"
   ]
  },
  {
   "cell_type": "markdown",
   "metadata": {},
   "source": [
    "#### Analysis - The desc column has higher null values and it appears that is not important for our analysis . Let's drop it"
   ]
  },
  {
   "cell_type": "code",
   "execution_count": null,
   "metadata": {},
   "outputs": [],
   "source": [
    "df_loan.drop('desc',axis=1,inplace=True)\n",
    "df_loan.shape"
   ]
  },
  {
   "cell_type": "code",
   "execution_count": null,
   "metadata": {},
   "outputs": [],
   "source": [
    "## Check the current dataframe\n",
    "df_loan.info()"
   ]
  },
  {
   "cell_type": "markdown",
   "metadata": {},
   "source": [
    "#### Analysis - It appears that several columns have the unique values - Lets check and drop them since those are not important for analysis"
   ]
  },
  {
   "cell_type": "code",
   "execution_count": null,
   "metadata": {},
   "outputs": [],
   "source": [
    "df_loan.nunique().sort_values()"
   ]
  },
  {
   "cell_type": "code",
   "execution_count": null,
   "metadata": {},
   "outputs": [],
   "source": [
    "## We can clearly see there are several columns with Unique values or single values.\n",
    "## Let's check once more for the null values - in the column\n",
    "\n",
    "missing_columns = 100*round(df_loan.isnull().sum()/len(df_loan.index),2)\n",
    "missing_columns[missing_columns!=0]"
   ]
  },
  {
   "cell_type": "markdown",
   "metadata": {},
   "source": [
    "#### It appears that all the null columns are categorical variable - Let's check one by one"
   ]
  },
  {
   "cell_type": "code",
   "execution_count": null,
   "metadata": {},
   "outputs": [],
   "source": [
    "df_loan.emp_title.value_counts()"
   ]
  },
  {
   "cell_type": "code",
   "execution_count": null,
   "metadata": {},
   "outputs": [],
   "source": [
    "df_loan.emp_length.value_counts()"
   ]
  },
  {
   "cell_type": "code",
   "execution_count": null,
   "metadata": {},
   "outputs": [],
   "source": [
    "df_loan.pub_rec_bankruptcies.value_counts()"
   ]
  },
  {
   "cell_type": "markdown",
   "metadata": {},
   "source": [
    "#### Analysis - We can clearly drop the rows - there we have null values"
   ]
  },
  {
   "cell_type": "code",
   "execution_count": null,
   "metadata": {},
   "outputs": [],
   "source": [
    "df_loan= df_loan[~(df_loan.pub_rec_bankruptcies.isnull())]\n",
    "df_loan.shape"
   ]
  },
  {
   "cell_type": "code",
   "execution_count": null,
   "metadata": {},
   "outputs": [],
   "source": [
    "df_loan= df_loan[~(df_loan.emp_title.isnull())]\n",
    "df_loan.shape"
   ]
  },
  {
   "cell_type": "code",
   "execution_count": null,
   "metadata": {},
   "outputs": [],
   "source": [
    "df_loan= df_loan[~(df_loan.emp_length.isnull())]\n",
    "df_loan.shape"
   ]
  },
  {
   "cell_type": "code",
   "execution_count": null,
   "metadata": {},
   "outputs": [],
   "source": [
    "df_loan.nunique().sort_values()"
   ]
  },
  {
   "cell_type": "code",
   "execution_count": null,
   "metadata": {},
   "outputs": [],
   "source": [
    "## Drop all the columns with unique values and not important for the analysis\n",
    "drop = [c for c\n",
    "        in list(df_loan)\n",
    "        if len(df_loan[c].unique()) == len(df_loan.index)]"
   ]
  },
  {
   "cell_type": "code",
   "execution_count": null,
   "metadata": {},
   "outputs": [],
   "source": [
    "drop"
   ]
  },
  {
   "cell_type": "code",
   "execution_count": null,
   "metadata": {},
   "outputs": [],
   "source": [
    "df_loan.drop(drop,axis=1,inplace=True)"
   ]
  },
  {
   "cell_type": "code",
   "execution_count": null,
   "metadata": {},
   "outputs": [],
   "source": [
    "df_loan.shape"
   ]
  },
  {
   "cell_type": "code",
   "execution_count": null,
   "metadata": {},
   "outputs": [],
   "source": [
    "## Let's check further if we can identify anyother columns\n",
    "missing_columns = 100*round(df_loan.isnull().sum()/len(df_loan.index),2)\n",
    "missing_columns[missing_columns!=0]"
   ]
  },
  {
   "cell_type": "code",
   "execution_count": null,
   "metadata": {},
   "outputs": [],
   "source": [
    "## Drop all the columns with single values and not important for the analysis\n",
    "drop = [c for c\n",
    "        in list(df_loan)\n",
    "        if len(df_loan[c].unique()) == 1]"
   ]
  },
  {
   "cell_type": "code",
   "execution_count": null,
   "metadata": {},
   "outputs": [],
   "source": [
    "drop"
   ]
  },
  {
   "cell_type": "code",
   "execution_count": null,
   "metadata": {},
   "outputs": [],
   "source": [
    "## Lets drop the columns with single values and proceed with further analysis\n",
    "df_loan.drop(drop,axis=1,inplace=True)"
   ]
  },
  {
   "cell_type": "code",
   "execution_count": null,
   "metadata": {},
   "outputs": [],
   "source": [
    "df_loan.shape"
   ]
  },
  {
   "cell_type": "code",
   "execution_count": null,
   "metadata": {},
   "outputs": [],
   "source": [
    "df_loan.nunique().sort_values()"
   ]
  },
  {
   "cell_type": "code",
   "execution_count": null,
   "metadata": {},
   "outputs": [],
   "source": [
    "## We still have 2 single values - Let's check them once again\n",
    "df_loan.collections_12_mths_ex_med.value_counts()        "
   ]
  },
  {
   "cell_type": "code",
   "execution_count": null,
   "metadata": {},
   "outputs": [],
   "source": [
    "df_loan.chargeoff_within_12_mths.value_counts()"
   ]
  },
  {
   "cell_type": "code",
   "execution_count": null,
   "metadata": {},
   "outputs": [],
   "source": [
    "df_loan.shape"
   ]
  },
  {
   "cell_type": "code",
   "execution_count": null,
   "metadata": {},
   "outputs": [],
   "source": [
    "df_loan.columns[df_loan.isnull().sum()!=0]"
   ]
  },
  {
   "cell_type": "code",
   "execution_count": null,
   "metadata": {},
   "outputs": [],
   "source": [
    "## It's clear that this two columns 'collections_12_mths_ex_med','chargeoff_within_12_mths' have the null and a single value\n",
    "## Let's drop them \n",
    "\n",
    "df_loan.drop(['collections_12_mths_ex_med','chargeoff_within_12_mths'],axis=1 ,inplace=True)\n",
    "df_loan.shape"
   ]
  },
  {
   "cell_type": "code",
   "execution_count": null,
   "metadata": {},
   "outputs": [],
   "source": [
    "missing=df_loan.isnull().sum()\n",
    "missing[missing!=0]"
   ]
  },
  {
   "cell_type": "code",
   "execution_count": null,
   "metadata": {},
   "outputs": [],
   "source": [
    "## This three column above again gives very small perencetage of null values\n",
    "## Tile - The loan title provided by the borrower\n",
    "## revol_util - Revolving line utilization rate, or the amount of credit the borrower is using relative to all available revolving credit.\n",
    "## last_pymnt_d - Last month payment was received\n",
    "## All the columns seems to be important for analysis - Let's remove the rows with null values\n",
    "\n",
    "df_loan=df_loan[~df_loan.title.isnull()]\n",
    "df_loan=df_loan[~df_loan.revol_util.isnull()]\n",
    "df_loan=df_loan[~df_loan.last_pymnt_d.isnull()]"
   ]
  },
  {
   "cell_type": "code",
   "execution_count": null,
   "metadata": {},
   "outputs": [],
   "source": [
    "## This should give us no missing values\n",
    "missing=df_loan.isnull().sum()\n",
    "missing[missing!=0]"
   ]
  },
  {
   "cell_type": "code",
   "execution_count": null,
   "metadata": {},
   "outputs": [],
   "source": [
    "## Check the shape of the data frame\n",
    "df_loan.shape"
   ]
  },
  {
   "cell_type": "code",
   "execution_count": null,
   "metadata": {},
   "outputs": [],
   "source": [
    "df_loan.nunique().sort_values()"
   ]
  },
  {
   "cell_type": "code",
   "execution_count": null,
   "metadata": {},
   "outputs": [],
   "source": [
    "## Zip Code is irrelevant for our analysis\n",
    "df_loan.drop('zip_code',axis=1,inplace=True)"
   ]
  },
  {
   "cell_type": "code",
   "execution_count": null,
   "metadata": {},
   "outputs": [],
   "source": [
    "df_loan.shape"
   ]
  },
  {
   "cell_type": "code",
   "execution_count": null,
   "metadata": {},
   "outputs": [],
   "source": [
    "## From the data dictionary provided it appears that the columns loan_amnt,funded_amnt ,funded_amnt_inv are similar\n",
    "## Let's check the values\n",
    "df_loan[['loan_amnt','funded_amnt','funded_amnt_inv']]"
   ]
  },
  {
   "cell_type": "code",
   "execution_count": null,
   "metadata": {},
   "outputs": [],
   "source": [
    "## We can safely drop the values to avoid duplicate colinearity\n",
    "df_loan.drop(['funded_amnt','funded_amnt_inv'],axis=1 ,inplace=True)\n"
   ]
  },
  {
   "cell_type": "code",
   "execution_count": null,
   "metadata": {},
   "outputs": [],
   "source": [
    "df_loan.shape"
   ]
  },
  {
   "cell_type": "markdown",
   "metadata": {},
   "source": [
    "#### Analysis -  We have 38 columns left after data cleaning"
   ]
  },
  {
   "cell_type": "markdown",
   "metadata": {},
   "source": [
    "## 04. Data Standardization"
   ]
  },
  {
   "cell_type": "code",
   "execution_count": null,
   "metadata": {},
   "outputs": [],
   "source": [
    "df_loan.info()"
   ]
  },
  {
   "cell_type": "code",
   "execution_count": null,
   "metadata": {},
   "outputs": [],
   "source": [
    "## Let's have a look at Loan Staus\n",
    "df_loan.loan_status.value_counts()"
   ]
  },
  {
   "cell_type": "code",
   "execution_count": null,
   "metadata": {},
   "outputs": [],
   "source": [
    "## Check the datetime columns from the data dictionary\n",
    "## issue_d - The month which the loan was funded\n",
    "## earliest_cr_line - The month the borrower's earliest reported credit line was opened\n",
    "## last_pymnt_d - Last month payment was received\n",
    "## last_credit_pull_d -The most recent month LC pulled credit for this loan\n",
    "date_columns=['issue_d','earliest_cr_line','last_pymnt_d','last_credit_pull_d']\n"
   ]
  },
  {
   "cell_type": "code",
   "execution_count": null,
   "metadata": {},
   "outputs": [],
   "source": [
    "df_loan[date_columns].info()"
   ]
  },
  {
   "cell_type": "markdown",
   "metadata": {},
   "source": [
    "#### Converting the date to Mon-yy format - as provided in the data set . For reference - https://docs.python.org/3/library/datetime.html"
   ]
  },
  {
   "cell_type": "code",
   "execution_count": null,
   "metadata": {},
   "outputs": [],
   "source": [
    "df_loan.issue_d = pd.to_datetime(df_loan.issue_d, format='%b-%y')\n",
    "df_loan.earliest_cr_line = pd.to_datetime(df_loan.earliest_cr_line, format='%b-%y')\n",
    "df_loan.last_pymnt_d = pd.to_datetime(df_loan.last_pymnt_d, format='%b-%y')\n",
    "df_loan.last_credit_pull_d = pd.to_datetime(df_loan.last_credit_pull_d, format='%b-%y')"
   ]
  },
  {
   "cell_type": "code",
   "execution_count": null,
   "metadata": {},
   "outputs": [],
   "source": [
    "df_loan[date_columns].info()"
   ]
  },
  {
   "cell_type": "code",
   "execution_count": null,
   "metadata": {},
   "outputs": [],
   "source": [
    "## Round the followning columns upto 2 decimal places for better analysis - Since all of them represents amount\n",
    "## total_pymnt - Payments received to date for total amount funded\n",
    "## total_rec_late_fee - Late fees received to date\n",
    "## collection_recovery_fee - post charge off collection fee\n",
    "df_loan.total_pymnt= round(df_loan.total_pymnt,2)\n",
    "df_loan.total_rec_late_fee= round(df_loan.total_rec_late_fee,2)\n",
    "df_loan.collection_recovery_fee= round(df_loan.collection_recovery_fee,2)"
   ]
  },
  {
   "cell_type": "code",
   "execution_count": null,
   "metadata": {},
   "outputs": [],
   "source": [
    "## Cross check\n",
    "df_loan.collection_recovery_fee.value_counts().head()"
   ]
  },
  {
   "cell_type": "code",
   "execution_count": null,
   "metadata": {},
   "outputs": [],
   "source": [
    "df_loan.total_rec_late_fee.value_counts().head()"
   ]
  },
  {
   "cell_type": "code",
   "execution_count": null,
   "metadata": {},
   "outputs": [],
   "source": [
    "df_loan.collection_recovery_fee.value_counts().head()"
   ]
  },
  {
   "cell_type": "code",
   "execution_count": null,
   "metadata": {},
   "outputs": [],
   "source": [
    "## There are few percentage columns like - 'int_rate','revol_util' - Let's fix them\n",
    "df_loan['int_rate'] = df_loan['int_rate'].str.strip('%').astype('float')\n",
    "df_loan['revol_util'] = df_loan['revol_util'].str.strip('%').astype('float')"
   ]
  },
  {
   "cell_type": "code",
   "execution_count": null,
   "metadata": {},
   "outputs": [],
   "source": [
    "df_loan.int_rate.describe()"
   ]
  },
  {
   "cell_type": "code",
   "execution_count": null,
   "metadata": {},
   "outputs": [],
   "source": [
    "df_loan.revol_util.describe()"
   ]
  },
  {
   "cell_type": "code",
   "execution_count": null,
   "metadata": {},
   "outputs": [],
   "source": [
    "## Check the emp_length column\n",
    "df_loan.emp_length.value_counts()"
   ]
  },
  {
   "cell_type": "code",
   "execution_count": null,
   "metadata": {},
   "outputs": [],
   "source": [
    "## Convert it to integer \n",
    "import re\n",
    "df_loan.emp_length = df_loan.emp_length.apply(lambda x: re.findall('\\d+', str(x))[0])\n",
    "df_loan.emp_length = df_loan.emp_length.apply(lambda x: pd.to_numeric(x))\n"
   ]
  },
  {
   "cell_type": "code",
   "execution_count": null,
   "metadata": {},
   "outputs": [],
   "source": [
    "df_loan.emp_length.value_counts()"
   ]
  },
  {
   "cell_type": "code",
   "execution_count": null,
   "metadata": {},
   "outputs": [],
   "source": [
    "df_loan.loan_status.value_counts()"
   ]
  },
  {
   "cell_type": "code",
   "execution_count": null,
   "metadata": {},
   "outputs": [],
   "source": [
    "## Define a function to plot status across the categorical variable\n",
    "def categorical_plot(cat_var):\n",
    "    sns.barplot(x=cat_var, y='is_loan_default', data=df_loan)\n",
    "    plt.ylabel(\"charged off\")\n",
    "    plt.show()"
   ]
  },
  {
   "cell_type": "code",
   "execution_count": null,
   "metadata": {},
   "outputs": [],
   "source": [
    "## Define a function to put label on the bar chart\n",
    "def autolabel(ax):\n",
    "    \"\"\"Attach a text label above each bar in *rects*, displaying its height.\"\"\"\n",
    "    # access the bar attributes to place the text in the appropriate location\n",
    "    for bar in ax.patches:\n",
    "      yval = bar.get_height()\n",
    "      plt.text(bar.get_x(), yval + .005, yval)"
   ]
  },
  {
   "cell_type": "code",
   "execution_count": null,
   "metadata": {},
   "outputs": [],
   "source": [
    "def boxplot(col,df):\n",
    "    sns.boxplot(x=df[col], y=df['loan_status'], data=df)\n"
   ]
  },
  {
   "cell_type": "markdown",
   "metadata": {},
   "source": [
    "## 05. Data Analysis"
   ]
  },
  {
   "cell_type": "code",
   "execution_count": null,
   "metadata": {},
   "outputs": [],
   "source": [
    "## Check the shape of the loans\n",
    "df_loan.shape"
   ]
  },
  {
   "cell_type": "code",
   "execution_count": null,
   "metadata": {},
   "outputs": [],
   "source": [
    "## Removing the 'Current' from the data set\n",
    "df_loan=df_loan[df_loan.loan_status!='Current']\n",
    "df_loan.shape"
   ]
  },
  {
   "cell_type": "code",
   "execution_count": null,
   "metadata": {},
   "outputs": [],
   "source": [
    "\n",
    "df_loan['is_loan_default'] = df_loan.loan_status.apply(lambda x : 1 if x=='Charged Off' else 0)\n",
    "df_loan['is_loan_default'] = df_loan['is_loan_default'].apply(lambda x: pd.to_numeric(x))\n",
    "df_loan.is_loan_default.value_counts()"
   ]
  },
  {
   "cell_type": "code",
   "execution_count": null,
   "metadata": {},
   "outputs": [],
   "source": [
    "df_loan.info()"
   ]
  },
  {
   "cell_type": "markdown",
   "metadata": {},
   "source": [
    "## 05.01 Univariate Analysis"
   ]
  },
  {
   "cell_type": "markdown",
   "metadata": {},
   "source": [
    "#### Analysis: loan_status - Current status of the loan"
   ]
  },
  {
   "cell_type": "code",
   "execution_count": null,
   "metadata": {},
   "outputs": [],
   "source": [
    "default_percentage=round(np.mean(df_loan.is_loan_default),2)*100\n",
    "default_percentage"
   ]
  },
  {
   "cell_type": "markdown",
   "metadata": {},
   "source": [
    "**Observation - The overall default rate is about 14%.**"
   ]
  },
  {
   "cell_type": "code",
   "execution_count": null,
   "metadata": {},
   "outputs": [],
   "source": [
    "## Percentage of loan recovered amount - by loan_status\n",
    "plt.figure(figsize=(5,5))\n",
    "ax = round((df_loan.groupby('loan_status').total_pymnt.sum() * 100 / df_loan.groupby('loan_status').loan_amnt.sum()),2).plot.bar(color=['orange'])\n",
    "ax.set_ylabel('% loan recovered', fontsize=16)\n",
    "autolabel(ax)\n",
    "plt.margins(0.2, 0.2)"
   ]
  },
  {
   "cell_type": "markdown",
   "metadata": {},
   "source": [
    "**Observation** - <p>About 57.13% of the loan amount has been recovered , in the case of default.Hence, Lending club makes the loss there.</p>"
   ]
  },
  {
   "cell_type": "markdown",
   "metadata": {},
   "source": [
    "#### Analysis - Grade - LC assigned loan grade"
   ]
  },
  {
   "cell_type": "code",
   "execution_count": null,
   "metadata": {},
   "outputs": [],
   "source": [
    "# plotting default rates across grade of the loan\n",
    "categorical_plot('grade')"
   ]
  },
  {
   "cell_type": "markdown",
   "metadata": {},
   "source": [
    "**Observation** - <p>Grade A,B,C have lesser default rate than Grade E,F,G . So the grading system is working fine.For more details , please have a look https://www.lendingclub.com/investing/investor-education/what-is-a-lendingclub-note</p>\n",
    "\n",
    "  "
   ]
  },
  {
   "cell_type": "markdown",
   "metadata": {},
   "source": [
    "#### Analysis- sub_grade - LC assigned loan subgrade"
   ]
  },
  {
   "cell_type": "code",
   "execution_count": null,
   "metadata": {},
   "outputs": [],
   "source": [
    "# plotting default rates across grade of the loan\n",
    "plt.figure(figsize=(18, 6))\n",
    "categorical_plot('sub_grade')"
   ]
  },
  {
   "cell_type": "markdown",
   "metadata": {},
   "source": [
    "**observation** - <p>As expected the default rate is better in A1 than A2 and A3. So the Sub grading system in a particular grade in lending club is working fine in this scenario.</p> <p> For more details , please have a look https://www.lendingclub.com/investing/investor-education/what-is-a-lendingclub-note </p>"
   ]
  },
  {
   "cell_type": "markdown",
   "metadata": {},
   "source": [
    "#### Analysis - term - The number of payments on the loan. Values are in months and can be either 36 or 60."
   ]
  },
  {
   "cell_type": "code",
   "execution_count": null,
   "metadata": {},
   "outputs": [],
   "source": [
    "categorical_plot('term')"
   ]
  },
  {
   "cell_type": "markdown",
   "metadata": {},
   "source": [
    "**Observation** -<p>The loan approved for the higher term is riskier than the loan apporved for the lower term</p>"
   ]
  },
  {
   "cell_type": "markdown",
   "metadata": {},
   "source": [
    "#### Analysis purpose - A category provided by the borrower for the loan request. "
   ]
  },
  {
   "cell_type": "code",
   "execution_count": null,
   "metadata": {},
   "outputs": [],
   "source": [
    "plt.figure(figsize=(18, 6))\n",
    "plt.xticks(rotation=40) \n",
    "categorical_plot('purpose')\n"
   ]
  },
  {
   "cell_type": "markdown",
   "metadata": {},
   "source": [
    "**Observation**\n",
    "<p> Top 3 defaulters are - small_business , renewable_energy , educatuional<p>"
   ]
  },
  {
   "cell_type": "markdown",
   "metadata": {},
   "source": [
    "#### Analysis:  pub_rec_bankruptcies - Number of public record bankruptcies"
   ]
  },
  {
   "cell_type": "code",
   "execution_count": null,
   "metadata": {},
   "outputs": [],
   "source": [
    "categorical_plot('pub_rec_bankruptcies')\n"
   ]
  },
  {
   "cell_type": "markdown",
   "metadata": {},
   "source": [
    "**Observation** <p>Larget number of defaulters have been filed **Bankruptcy**.</p>"
   ]
  },
  {
   "cell_type": "markdown",
   "metadata": {},
   "source": [
    "#### Analysis: verification_status - Indicates if income was verified by LC, not verified, or if the income source was verified"
   ]
  },
  {
   "cell_type": "code",
   "execution_count": null,
   "metadata": {},
   "outputs": [],
   "source": [
    "categorical_plot('verification_status')"
   ]
  },
  {
   "cell_type": "markdown",
   "metadata": {},
   "source": [
    "**Observation**\n",
    "<p> The verification process is not working well in Lending club - as we have seen higher default rate for the verified loans</p>"
   ]
  },
  {
   "cell_type": "markdown",
   "metadata": {},
   "source": [
    "#### Analysis: emp_length - Employment length in years. Possible values are between 0 and 10 where 0 means less than one year and 10 means ten or more years. "
   ]
  },
  {
   "cell_type": "code",
   "execution_count": null,
   "metadata": {},
   "outputs": [],
   "source": [
    "categorical_plot('emp_length')"
   ]
  },
  {
   "cell_type": "code",
   "execution_count": null,
   "metadata": {},
   "outputs": [],
   "source": [
    "# binning the variable\n",
    "def emp_length(x):\n",
    "    n=int(x)\n",
    "    if n <= 1:\n",
    "        return '<=1 years'\n",
    "    elif n > 1 and n <=3:\n",
    "        return '1-3 years'\n",
    "    elif n > 3 and n <=7:\n",
    "        return '3-7 years'\n",
    "    else:\n",
    "        return '7-10+ years'\n",
    "\n",
    "df_loan['emp_length_category'] = df_loan['emp_length'].apply(lambda x: emp_length(x))"
   ]
  },
  {
   "cell_type": "code",
   "execution_count": null,
   "metadata": {},
   "outputs": [],
   "source": [
    "categorical_plot('emp_length_category')"
   ]
  },
  {
   "cell_type": "markdown",
   "metadata": {},
   "source": [
    "**Observation**\n",
    "<p> The employment length is not a predictor for the default . However people with 7-10+ years experience has little higher default rate than others </p>"
   ]
  },
  {
   "cell_type": "markdown",
   "metadata": {},
   "source": [
    "#### Analysis - emp_title - The job title supplied by the Borrower when applying for the loan.  Employer Title replaces Employer Name for all loans listed after 9/23/2013\n"
   ]
  },
  {
   "cell_type": "code",
   "execution_count": null,
   "metadata": {},
   "outputs": [],
   "source": [
    "top5_emp_title = df_loan[df_loan.is_loan_default==1].emp_title.value_counts(normalize=False).head(5)\n",
    "top5_emp_title"
   ]
  },
  {
   "cell_type": "code",
   "execution_count": null,
   "metadata": {},
   "outputs": [],
   "source": [
    "plt.figure(figsize=(10,5))\n",
    "plt.xticks(rotation=40) \n",
    "a=sns.barplot(x=top5_emp_title.index, y=top5_emp_title.values)\n",
    "a.set_ylabel('Count of default')\n",
    "plt.show()"
   ]
  },
  {
   "cell_type": "markdown",
   "metadata": {},
   "source": [
    "**Observation** - Max of defaulters are employed by Bank of America , US Army followed by Walmart"
   ]
  },
  {
   "cell_type": "markdown",
   "metadata": {},
   "source": [
    "#### Analysis - addr_state - The state provided by the borrower in the loan application"
   ]
  },
  {
   "cell_type": "code",
   "execution_count": null,
   "metadata": {},
   "outputs": [],
   "source": [
    "top5_addr_state = df_loan[df_loan.is_loan_default==1].addr_state.value_counts(normalize=False).head(5)\n",
    "top5_addr_state"
   ]
  },
  {
   "cell_type": "code",
   "execution_count": null,
   "metadata": {},
   "outputs": [],
   "source": [
    "plt.figure(figsize=(10,5))\n",
    "#plt.xticks(rotation=40) \n",
    "a=sns.barplot(x=top5_addr_state.index, y=top5_addr_state.values)\n",
    "a.set_ylabel('Count of default')\n",
    "plt.show()"
   ]
  },
  {
   "cell_type": "markdown",
   "metadata": {},
   "source": [
    "**Observation** - Most of the defaulters live in California , followed by New york and Florida"
   ]
  },
  {
   "cell_type": "markdown",
   "metadata": {},
   "source": [
    "#### Analysis: home_ownership - The home ownership status provided by the borrower during registration. Our values are: RENT, OWN, MORTGAGE, OTHER."
   ]
  },
  {
   "cell_type": "code",
   "execution_count": null,
   "metadata": {},
   "outputs": [],
   "source": [
    "categorical_plot('home_ownership')"
   ]
  },
  {
   "cell_type": "markdown",
   "metadata": {},
   "source": [
    "**Observation** - Home ownership is not a great predictor for defaulter"
   ]
  },
  {
   "cell_type": "markdown",
   "metadata": {},
   "source": [
    "#### Analysis : issue_d - The month which the loan was funded"
   ]
  },
  {
   "cell_type": "code",
   "execution_count": null,
   "metadata": {},
   "outputs": [],
   "source": [
    "df_loan['issue_d_year']=df_loan.issue_d.dt.year\n",
    "df_loan.groupby('issue_d_year')['issue_d_year'].count()"
   ]
  },
  {
   "cell_type": "code",
   "execution_count": null,
   "metadata": {},
   "outputs": [],
   "source": [
    "categorical_plot('issue_d_year')"
   ]
  },
  {
   "cell_type": "code",
   "execution_count": null,
   "metadata": {},
   "outputs": [],
   "source": [
    "df_loan['issue_d_month']=df_loan.issue_d.dt.month\n",
    "df_loan.groupby('issue_d_month')['issue_d_month'].count()"
   ]
  },
  {
   "cell_type": "code",
   "execution_count": null,
   "metadata": {},
   "outputs": [],
   "source": [
    "plt.figure(figsize=(16, 6))\n",
    "categorical_plot('issue_d_month')"
   ]
  },
  {
   "cell_type": "markdown",
   "metadata": {},
   "source": [
    "**Observation** <p>The default loans were decreasing from **2008** to **2010**. However there is an increase in the year **2011**</p>"
   ]
  },
  {
   "cell_type": "markdown",
   "metadata": {},
   "source": [
    "#### Analysis - loan_amnt- The listed amount of the loan applied for by the borrower. If at some point in time, the credit department reduces the loan amount, then it will be reflected in this value."
   ]
  },
  {
   "cell_type": "code",
   "execution_count": null,
   "metadata": {},
   "outputs": [],
   "source": [
    "df_loan['loan_amnt'].describe()"
   ]
  },
  {
   "cell_type": "code",
   "execution_count": null,
   "metadata": {},
   "outputs": [],
   "source": [
    "## We have median of 10000 - Let's bin it \n",
    "df_loan['loan_amnt_bin'] = pd.cut(df_loan['loan_amnt'], \n",
    "                                      [x for x in range(0, 36000, 5000)], labels=[str(x)+'-'+str(x+5)+'k' for x in range (0, 35, 5)])"
   ]
  },
  {
   "cell_type": "code",
   "execution_count": null,
   "metadata": {},
   "outputs": [],
   "source": [
    "plt.figure(figsize=(16, 6))\n",
    "categorical_plot('loan_amnt_bin')"
   ]
  },
  {
   "cell_type": "markdown",
   "metadata": {},
   "source": [
    "**Observation** <p> Higher loan amount, Higher the default rate</p>"
   ]
  },
  {
   "cell_type": "markdown",
   "metadata": {},
   "source": [
    "#### int_rate - Interest Rate on the loan."
   ]
  },
  {
   "cell_type": "code",
   "execution_count": null,
   "metadata": {},
   "outputs": [],
   "source": [
    "df_loan['int_rate'].describe()"
   ]
  },
  {
   "cell_type": "code",
   "execution_count": null,
   "metadata": {},
   "outputs": [],
   "source": [
    "## The average interest rate is 11.83%\n",
    "df_loan['interest_rate_buckets'] = round(df_loan['int_rate'])\n",
    "plt.figure(figsize=(16, 6))\n",
    "categorical_plot('interest_rate_buckets')"
   ]
  },
  {
   "cell_type": "markdown",
   "metadata": {},
   "source": [
    "**Observation** <p> The chances of loan default increases with higher interest rate </p>"
   ]
  },
  {
   "cell_type": "markdown",
   "metadata": {},
   "source": [
    "#### Analysis: Installment -  he monthly payment owed by the borrower if the loan originates."
   ]
  },
  {
   "cell_type": "code",
   "execution_count": null,
   "metadata": {},
   "outputs": [],
   "source": [
    "df_loan.groupby('loan_status')['installment'].describe()"
   ]
  },
  {
   "cell_type": "code",
   "execution_count": null,
   "metadata": {},
   "outputs": [],
   "source": [
    "# installment\n",
    "def installment(n):\n",
    "    if n <= 200:\n",
    "        return '<=200'\n",
    "    elif n > 200 and n <=400:\n",
    "        return '200-400'\n",
    "    elif n > 400 and n <=600:\n",
    "        return '400-600'\n",
    "    else:\n",
    "        return '>=600'\n",
    "    \n",
    "df_loan['installment_bin'] = df_loan['installment'].apply(lambda x: installment(x))\n",
    "categorical_plot('installment_bin')"
   ]
  },
  {
   "cell_type": "markdown",
   "metadata": {},
   "source": [
    "**Observation** \n",
    "<p>Loans Charged Off have high installment on average </p>"
   ]
  },
  {
   "cell_type": "markdown",
   "metadata": {},
   "source": [
    "#### Analysis: annual_inc - The self-reported annual income provided by the borrower during registration."
   ]
  },
  {
   "cell_type": "code",
   "execution_count": null,
   "metadata": {},
   "outputs": [],
   "source": [
    "df_loan['annual_inc'].describe()"
   ]
  },
  {
   "cell_type": "code",
   "execution_count": null,
   "metadata": {},
   "outputs": [],
   "source": [
    "## We have annual income ranging from the 4000 to 6000000 with a median value 60000 \n",
    "## We have median of 60000 \n",
    "Q1 = df_loan.annual_inc.quantile(0.25)\n",
    "Q3 = df_loan.annual_inc.quantile(0.75)\n",
    "IQR = Q3 - Q1\n",
    "IQR"
   ]
  },
  {
   "cell_type": "code",
   "execution_count": null,
   "metadata": {},
   "outputs": [],
   "source": [
    "boxplot('annual_inc',df_loan)"
   ]
  },
  {
   "cell_type": "code",
   "execution_count": null,
   "metadata": {},
   "outputs": [],
   "source": [
    "## Let's remove the outliers\n",
    "df = df_loan[~((df_loan.annual_inc < (Q1 - 1.5 * IQR)) |(df_loan.annual_inc > (Q3 + 1.5 * IQR)))]\n",
    "boxplot('annual_inc',df)"
   ]
  },
  {
   "cell_type": "code",
   "execution_count": null,
   "metadata": {},
   "outputs": [],
   "source": [
    "df['annual_inc'].describe()"
   ]
  },
  {
   "cell_type": "code",
   "execution_count": null,
   "metadata": {},
   "outputs": [],
   "source": [
    "# annual income\n",
    "def annual_income(n):\n",
    "    if n <= 20000:\n",
    "        return '<=20k'\n",
    "    elif n > 20000 and n <=40000:\n",
    "        return '20k-40k'\n",
    "    elif n > 60000 and n <=80000:\n",
    "        return '60k-80k'\n",
    "    else:\n",
    "        return '>=80k'\n",
    "df_loan['annual_inc_bin'] = df_loan['annual_inc'].apply(lambda x: annual_income(x))"
   ]
  },
  {
   "cell_type": "code",
   "execution_count": null,
   "metadata": {},
   "outputs": [],
   "source": [
    "sns.barplot(x='annual_inc_bin', y='is_loan_default', data=df_loan)\n",
    "plt.ylabel(\"charged off\")\n",
    "plt.show()"
   ]
  },
  {
   "cell_type": "markdown",
   "metadata": {},
   "source": [
    "**Observation** <p>Default loan is higher for the lower annual incomes.</p>"
   ]
  },
  {
   "cell_type": "markdown",
   "metadata": {},
   "source": [
    "#### Analysis: dti - A ratio calculated using the borrower’s total monthly debt payments on the total debt obligations, excluding mortgage and the requested LC loan, divided by the borrower’s self-reported monthly income."
   ]
  },
  {
   "cell_type": "code",
   "execution_count": null,
   "metadata": {},
   "outputs": [],
   "source": [
    "df_loan.dti.describe()"
   ]
  },
  {
   "cell_type": "code",
   "execution_count": null,
   "metadata": {},
   "outputs": [],
   "source": [
    "## The Dti range from 0 to 30 and with the median 13.5 and mean 13.4. There is no outliers. \n",
    "## Let's bin it in the interval of 5\n",
    "df_loan['dti_bin'] = pd.cut(df_loan['dti'], [0,5,10,15,20,25,30], labels=['0-5','5-10','10-15','15-20','20-25','25-30'])"
   ]
  },
  {
   "cell_type": "code",
   "execution_count": null,
   "metadata": {},
   "outputs": [],
   "source": [
    "categorical_plot('dti_bin')"
   ]
  },
  {
   "cell_type": "markdown",
   "metadata": {},
   "source": [
    "**Observation** - <p>As expected , Defaulter rate increases with the higher dti </p>"
   ]
  },
  {
   "cell_type": "markdown",
   "metadata": {},
   "source": [
    "#### Analysis - delinq_2yrs - The number of 30+ days past-due incidences of delinquency in the borrower's credit file for the past 2 years."
   ]
  },
  {
   "cell_type": "code",
   "execution_count": null,
   "metadata": {},
   "outputs": [],
   "source": [
    "df_loan.delinq_2yrs.value_counts()"
   ]
  },
  {
   "cell_type": "code",
   "execution_count": null,
   "metadata": {},
   "outputs": [],
   "source": [
    "plt.figure(figsize=(10,5))\n",
    "categorical_plot('delinq_2yrs')"
   ]
  },
  {
   "cell_type": "markdown",
   "metadata": {},
   "source": [
    "**Observation** <p> Higher chances of defaulter with higher value of delinq_2yrs (>=1)"
   ]
  },
  {
   "cell_type": "markdown",
   "metadata": {},
   "source": [
    "#### Analysis:  total_acc - The total number of credit lines currently in the borrower's credit file."
   ]
  },
  {
   "cell_type": "code",
   "execution_count": null,
   "metadata": {},
   "outputs": [],
   "source": [
    "df=df_loan.groupby('loan_status')['total_acc'].describe()\n",
    "df"
   ]
  },
  {
   "cell_type": "code",
   "execution_count": null,
   "metadata": {},
   "outputs": [],
   "source": [
    "boxplot('total_acc',df_loan)"
   ]
  },
  {
   "cell_type": "markdown",
   "metadata": {},
   "source": [
    "**Observation** <p>This value does not differ much in the Fully paid and Charged off loans. </p>"
   ]
  },
  {
   "cell_type": "markdown",
   "metadata": {},
   "source": [
    "#### Analysis: revol_util - Revolving line utilization rate, or the amount of credit the borrower is using relative to all available revolving credit."
   ]
  },
  {
   "cell_type": "code",
   "execution_count": null,
   "metadata": {},
   "outputs": [],
   "source": [
    "df=df_loan.groupby('loan_status')['revol_util'].describe()\n",
    "df"
   ]
  },
  {
   "cell_type": "code",
   "execution_count": null,
   "metadata": {},
   "outputs": [],
   "source": [
    "boxplot('revol_util',df_loan)"
   ]
  },
  {
   "cell_type": "markdown",
   "metadata": {},
   "source": [
    "**Observation** - <p>Loans with utilization > 75% are risky.</p>"
   ]
  },
  {
   "cell_type": "markdown",
   "metadata": {},
   "source": [
    "#### Analysis : revol_bal - Total credit revolving balance"
   ]
  },
  {
   "cell_type": "code",
   "execution_count": null,
   "metadata": {},
   "outputs": [],
   "source": [
    "df=df_loan.groupby('loan_status')['revol_bal'].describe()\n",
    "df"
   ]
  },
  {
   "cell_type": "code",
   "execution_count": null,
   "metadata": {},
   "outputs": [],
   "source": [
    "boxplot('revol_bal',df_loan)"
   ]
  },
  {
   "cell_type": "markdown",
   "metadata": {},
   "source": [
    "**Observation** <p>This value does not differ much in the Fully paid and Charged off loans. </p>"
   ]
  },
  {
   "cell_type": "markdown",
   "metadata": {},
   "source": [
    "#### Analysis - pub_rec - Number of derogatory public records."
   ]
  },
  {
   "cell_type": "code",
   "execution_count": null,
   "metadata": {},
   "outputs": [],
   "source": [
    "df_loan.pub_rec.value_counts()"
   ]
  },
  {
   "cell_type": "code",
   "execution_count": null,
   "metadata": {},
   "outputs": [],
   "source": [
    "categorical_plot('pub_rec')"
   ]
  },
  {
   "cell_type": "markdown",
   "metadata": {},
   "source": [
    "**Observation** <p>The chances of defaulter is higher in case there is a derogatory public record</p>"
   ]
  },
  {
   "cell_type": "markdown",
   "metadata": {},
   "source": [
    "#### Analysis: open_acc : The number of open credit lines in the borrower's credit file."
   ]
  },
  {
   "cell_type": "code",
   "execution_count": null,
   "metadata": {},
   "outputs": [],
   "source": [
    "df_loan.groupby('loan_status')['open_acc'].describe()"
   ]
  },
  {
   "cell_type": "code",
   "execution_count": null,
   "metadata": {},
   "outputs": [],
   "source": [
    "boxplot('open_acc',df_loan)"
   ]
  },
  {
   "cell_type": "markdown",
   "metadata": {},
   "source": [
    "**Observation** <p>No significant difference between - Fully paid and charged off . </p>"
   ]
  },
  {
   "cell_type": "markdown",
   "metadata": {},
   "source": [
    "#### Analysis - last_pymnt_amnt - Last total payment amount received\n"
   ]
  },
  {
   "cell_type": "code",
   "execution_count": null,
   "metadata": {},
   "outputs": [],
   "source": [
    "df_loan.groupby('loan_status')['last_pymnt_amnt'].describe()"
   ]
  },
  {
   "cell_type": "code",
   "execution_count": null,
   "metadata": {},
   "outputs": [],
   "source": [
    "boxplot('last_pymnt_amnt',df_loan)"
   ]
  },
  {
   "cell_type": "markdown",
   "metadata": {},
   "source": [
    "**Observation** - As expected the last paid amount is significantly lower in case of charged off than fully paid"
   ]
  },
  {
   "cell_type": "markdown",
   "metadata": {},
   "source": [
    "#### Derived variable - ratio of loan amount to annual income"
   ]
  },
  {
   "cell_type": "code",
   "execution_count": null,
   "metadata": {},
   "outputs": [],
   "source": [
    "df_loan['ratio'] = df_loan['loan_amnt'] * 10 / df_loan['annual_inc']\n",
    "sns.distplot(df_loan['ratio'])\n",
    "plt.show()"
   ]
  },
  {
   "cell_type": "code",
   "execution_count": null,
   "metadata": {},
   "outputs": [],
   "source": [
    "df_loan['ratio_bin'] = (df_loan['ratio'].astype(int)) *10\n",
    "categorical_plot('ratio_bin')"
   ]
  },
  {
   "cell_type": "markdown",
   "metadata": {},
   "source": [
    "#### Observation - \n",
    "<p> The default rate gets increased with Loan amount and Annual Income ratio with more than 30% </p>"
   ]
  },
  {
   "cell_type": "markdown",
   "metadata": {},
   "source": [
    "#### We are dropping the following columns as they are not important for our analysis - as they are customer behaviour variables and are not available at the time of loan approval . So, They are not important for our analysis "
   ]
  },
  {
   "cell_type": "code",
   "execution_count": null,
   "metadata": {},
   "outputs": [],
   "source": [
    "df_loan=df_loan.drop(['earliest_cr_line','inq_last_6mths','out_prncp','out_prncp_inv','total_pymnt','total_pymnt_inv','total_rec_prncp','total_rec_int','total_rec_late_fee','recoveries','collection_recovery_fee','last_pymnt_d','last_credit_pull_d'       \n",
    " ],axis=1)"
   ]
  },
  {
   "cell_type": "code",
   "execution_count": null,
   "metadata": {},
   "outputs": [],
   "source": [
    "df_loan.info()"
   ]
  },
  {
   "cell_type": "markdown",
   "metadata": {},
   "source": [
    "## 05.02 - Segmented Univariate Analysis"
   ]
  },
  {
   "cell_type": "markdown",
   "metadata": {},
   "source": [
    "**In credit industry the purpose of the loan is used by the lender to analysis the risk of the loan** \n",
    "\n",
    "According to the wikipedia - https://en.wikipedia.org/wiki/Loan_purpose\n",
    "\n",
    "Loan purpose is a term in United States mortgage industry to show the underlying reason an applicant is seeking a loan. The purpose of the loan is used by the lender to make decisions on the risk and may even impact the interest rate that is offered. For example, if an applicant is refinancing a mortgage after having taken some cash out, the lender might consider that an increase in risk and increase the interest rate that is offered or add additional conditions. Loan purpose is important to the process of obtaining mortgages or business loans that are connected with specific types of business activities.\n",
    "\n",
    "**The purpose of loans are in different nature from each other. Let's analysis the most loan taken for top 4 purposes with some important variables.**"
   ]
  },
  {
   "cell_type": "markdown",
   "metadata": {},
   "source": [
    "## Identify top 4 types of loans based on purposes "
   ]
  },
  {
   "cell_type": "code",
   "execution_count": null,
   "metadata": {},
   "outputs": [],
   "source": [
    "##Let's have a look at the number of loans taken for different purposes\n",
    "plt.figure(figsize=(16, 6))\n",
    "plt.xticks(rotation=40)\n",
    "sns.countplot(x='purpose', data=df_loan)\n",
    "plt.show()"
   ]
  },
  {
   "cell_type": "markdown",
   "metadata": {},
   "source": [
    "#### Obseravation  -\n",
    "<p>\n",
    "    <b> The top 4 loans are -</b>\n",
    "       <ul>\n",
    "           <li> Debt consolidation </li>\n",
    "           <li> Credit card </li>\n",
    "           <li> Home improvement </li>\n",
    "           <li> Major purchase </li>\n",
    "       </ul>   \n",
    "    <p>"
   ]
  },
  {
   "cell_type": "code",
   "execution_count": null,
   "metadata": {},
   "outputs": [],
   "source": [
    "## Let's filter out the loans for this top 4 purposes for the further analysis\n",
    "top_purposes = ['debt_consolidation','credit_card','home_improvement','major_purchase']\n",
    "df=df_loan[df_loan.purpose.isin(top_purposes)]\n",
    "df.shape"
   ]
  },
  {
   "cell_type": "code",
   "execution_count": null,
   "metadata": {},
   "outputs": [],
   "source": [
    "defaulter=df[df.is_loan_default==1]\n",
    "defaulter.purpose.value_counts()"
   ]
  },
  {
   "cell_type": "markdown",
   "metadata": {},
   "source": [
    "#### Analysis - Top 4 loans based on purposes"
   ]
  },
  {
   "cell_type": "code",
   "execution_count": null,
   "metadata": {},
   "outputs": [],
   "source": [
    "## Let's check the count for each loan types\n",
    "df.purpose.value_counts()"
   ]
  },
  {
   "cell_type": "code",
   "execution_count": null,
   "metadata": {},
   "outputs": [],
   "source": [
    "## Let's draw a plot to compare all the loans\n",
    "sns.countplot(x=df.purpose)\n",
    "plt.xticks(rotation=30)\n",
    "plt.show()"
   ]
  },
  {
   "cell_type": "markdown",
   "metadata": {},
   "source": [
    "**Observation** \n",
    "<p> The number of loans taken for debt consolidation is greater than the rest of the three combined.<p>"
   ]
  },
  {
   "cell_type": "code",
   "execution_count": null,
   "metadata": {},
   "outputs": [],
   "source": [
    "## Define a function to plot status across the categorical variable - and segmented by purpose\n",
    "def categorical_segmented_plot(cat_var,df):\n",
    "    sns.barplot(x=cat_var, y='is_loan_default',hue='purpose' ,data=df)\n",
    "    plt.ylabel(\"charged off\")\n",
    "   "
   ]
  },
  {
   "cell_type": "markdown",
   "metadata": {},
   "source": [
    "## Analysis - \n",
    "<p>Default loan analysis based on two variables - purpose (constant) and other categorical variable</p>"
   ]
  },
  {
   "cell_type": "markdown",
   "metadata": {},
   "source": [
    "#### variable - term"
   ]
  },
  {
   "cell_type": "code",
   "execution_count": null,
   "metadata": {},
   "outputs": [],
   "source": [
    "plt.figure(figsize=(12,6))\n",
    "categorical_segmented_plot('term',df)\n",
    "plt.show()"
   ]
  },
  {
   "cell_type": "markdown",
   "metadata": {},
   "source": [
    "#### variable - grade "
   ]
  },
  {
   "cell_type": "code",
   "execution_count": null,
   "metadata": {},
   "outputs": [],
   "source": [
    "plt.figure(figsize=(12,6))\n",
    "categorical_segmented_plot('grade',df)\n",
    "plt.show()"
   ]
  },
  {
   "cell_type": "markdown",
   "metadata": {},
   "source": [
    "#### variable - home_ownership\n"
   ]
  },
  {
   "cell_type": "code",
   "execution_count": null,
   "metadata": {},
   "outputs": [],
   "source": [
    "plt.figure(figsize=(12,6))\n",
    "categorical_segmented_plot('home_ownership',df)\n",
    "plt.show()"
   ]
  },
  {
   "cell_type": "markdown",
   "metadata": {},
   "source": [
    "#### variable:  issue_d_year - This is a derived variable - the year when the loan was issued"
   ]
  },
  {
   "cell_type": "code",
   "execution_count": null,
   "metadata": {},
   "outputs": [],
   "source": [
    "plt.figure(figsize=(12,6))\n",
    "categorical_segmented_plot('issue_d_year',df)\n",
    "plt.show()"
   ]
  },
  {
   "cell_type": "code",
   "execution_count": null,
   "metadata": {
    "scrolled": true
   },
   "outputs": [],
   "source": [
    "x=defaulter.groupby(['issue_d_year','purpose'])['is_loan_default'].count()\n",
    "x"
   ]
  },
  {
   "cell_type": "markdown",
   "metadata": {},
   "source": [
    "#### variable - emp_length_category - derived variable from emp_length"
   ]
  },
  {
   "cell_type": "code",
   "execution_count": null,
   "metadata": {},
   "outputs": [],
   "source": [
    "plt.figure(figsize=(12,6))\n",
    "categorical_segmented_plot('emp_length_category',df)\n",
    "plt.show()"
   ]
  },
  {
   "cell_type": "markdown",
   "metadata": {},
   "source": [
    "#### variable - loan_amnt_bin - derived variable from loan_amnt - to classify the loan amount in groups"
   ]
  },
  {
   "cell_type": "code",
   "execution_count": null,
   "metadata": {},
   "outputs": [],
   "source": [
    "plt.figure(figsize=(12,6))\n",
    "categorical_segmented_plot('loan_amnt_bin',df)\n",
    "plt.show()"
   ]
  },
  {
   "cell_type": "markdown",
   "metadata": {},
   "source": [
    "#### variable - interest_rate_buckets - derived variable from int_rate "
   ]
  },
  {
   "cell_type": "code",
   "execution_count": null,
   "metadata": {},
   "outputs": [],
   "source": [
    "plt.figure(figsize=(18,10))\n",
    "categorical_segmented_plot('interest_rate_buckets',df)\n",
    "plt.show()"
   ]
  },
  {
   "cell_type": "markdown",
   "metadata": {},
   "source": [
    "#### variable - installment_bin - derived from installment"
   ]
  },
  {
   "cell_type": "code",
   "execution_count": null,
   "metadata": {},
   "outputs": [],
   "source": [
    "plt.figure(figsize=(18,10))\n",
    "categorical_segmented_plot('installment_bin',df)\n",
    "plt.show()"
   ]
  },
  {
   "cell_type": "markdown",
   "metadata": {},
   "source": [
    "#### variable - dti_bin - this is a derived variable from dti"
   ]
  },
  {
   "cell_type": "code",
   "execution_count": null,
   "metadata": {},
   "outputs": [],
   "source": [
    "plt.figure(figsize=(18,10))\n",
    "categorical_segmented_plot('dti_bin',df)\n",
    "plt.show()"
   ]
  },
  {
   "cell_type": "markdown",
   "metadata": {},
   "source": [
    "#### variable - annual_inc_bin - this is a derived variable from annual_inc"
   ]
  },
  {
   "cell_type": "code",
   "execution_count": null,
   "metadata": {},
   "outputs": [],
   "source": [
    "plt.figure(figsize=(18,10))\n",
    "categorical_segmented_plot('annual_inc_bin',df)\n",
    "plt.show()"
   ]
  },
  {
   "cell_type": "markdown",
   "metadata": {},
   "source": [
    "## 05.03 -  Bivariate Analysis - Continuous variable"
   ]
  },
  {
   "cell_type": "code",
   "execution_count": null,
   "metadata": {},
   "outputs": [],
   "source": [
    "## Let's have a look at the correlation between the loan amount and other numerical variables\n",
    "cont_var= ['loan_amnt', 'int_rate', 'installment',\n",
    "       'emp_length', 'annual_inc',\n",
    "       'dti', 'delinq_2yrs', \n",
    "        'open_acc', 'pub_rec', 'revol_bal', 'revol_util',\n",
    "       'total_acc', 'last_pymnt_amnt', 'issue_d_year',\n",
    "       'pub_rec_bankruptcies']\n",
    "corr = df_loan[cont_var].corr()\n",
    "corr"
   ]
  },
  {
   "cell_type": "code",
   "execution_count": null,
   "metadata": {},
   "outputs": [],
   "source": [
    "plt.figure(figsize=(15,15))\n",
    "\n",
    "sns.heatmap(corr, annot=True, center=0.5)\n",
    "plt.show()"
   ]
  },
  {
   "cell_type": "markdown",
   "metadata": {},
   "source": [
    "#### Observation - \n",
    "<p>\n",
    "<ul>\n",
    "    <li>\n",
    "         Loan Amount is highly correlated (positive) with the installments , interest rates\n",
    "    </li>\n",
    "    <li>\n",
    "        dti (Debt-to-Income Ratio) is high correlated (positive) to loan issue year and vice-versa.\n",
    "    </li>\n",
    "    <li>\n",
    "        int_rate is negatively correlated to total_acc.\n",
    "    </li>\n",
    "    <li>\n",
    "         pub_rec is high correlated (positive) to pub_rec_bankruptcies.\n",
    "    </li>\n",
    "</ul>\n",
    "</p>"
   ]
  },
  {
   "cell_type": "markdown",
   "metadata": {},
   "source": [
    "## Conclusion:"
   ]
  },
  {
   "cell_type": "markdown",
   "metadata": {},
   "source": [
    "\n",
    "**Major variables to consider for loan prediction:**\n",
    "\n",
    "    1. Loan Purpose\n",
    "    2. Employment Length\n",
    "    3. Interest Rate\n",
    "    4. Annual Income\n",
    "    5. Grade & Sub-grade\n",
    "    6. Term\n",
    "    7. Public Records\n",
    "    8. Loan Amount\n",
    "    9. dti\n",
    "    10.revol_util"
   ]
  },
  {
   "cell_type": "markdown",
   "metadata": {},
   "source": [
    "#### More Insights: -"
   ]
  },
  {
   "cell_type": "code",
   "execution_count": null,
   "metadata": {},
   "outputs": [],
   "source": [
    "## This method calculates the default rates across the categories\n",
    "## To compute difference between the highest and the lowest default rate\n",
    "def diff_rate(cat_var):\n",
    "    default_rates = df_loan.groupby(cat_var).is_loan_default.mean().sort_values(ascending=False)\n",
    "    return round(default_rates, 2)"
   ]
  },
  {
   "cell_type": "code",
   "execution_count": null,
   "metadata": {},
   "outputs": [],
   "source": [
    "default_rates = diff_rate('purpose')\n",
    "print(default_rates) "
   ]
  },
  {
   "cell_type": "markdown",
   "metadata": {},
   "source": [
    "#### Category - Small business has 17% higher default rate on average than credit card and major purchase"
   ]
  },
  {
   "cell_type": "code",
   "execution_count": null,
   "metadata": {},
   "outputs": [],
   "source": [
    "default_rates = diff_rate('emp_length_category')\n",
    "print(default_rates) \n"
   ]
  },
  {
   "cell_type": "markdown",
   "metadata": {},
   "source": [
    "####  Employment Length - The people with 7-10+ with work experience has 2% more default rate on average than the people having work experience 1-3 years"
   ]
  },
  {
   "cell_type": "code",
   "execution_count": null,
   "metadata": {},
   "outputs": [],
   "source": [
    "default_rates = diff_rate('annual_inc_bin')\n",
    "print(default_rates) "
   ]
  },
  {
   "cell_type": "markdown",
   "metadata": {},
   "source": [
    "#### Annual Income - People with annual income less than 20000 USD are likely to be more defaulters by 5% on average than people with income between 60000 USD to 80000 USD"
   ]
  },
  {
   "cell_type": "code",
   "execution_count": null,
   "metadata": {},
   "outputs": [],
   "source": [
    "default_rates = diff_rate('grade')\n",
    "print(default_rates) "
   ]
  },
  {
   "cell_type": "markdown",
   "metadata": {},
   "source": [
    "#### Grade - Loans with Grade E are likely to be more defaulter by 27% than Grade A on average"
   ]
  },
  {
   "cell_type": "code",
   "execution_count": null,
   "metadata": {},
   "outputs": [],
   "source": [
    "default_rates = diff_rate('term')\n",
    "print(default_rates) \n"
   ]
  },
  {
   "cell_type": "markdown",
   "metadata": {},
   "source": [
    "#### Term - The loans with 60 months term are likely to be more defaulter by 15% than 36 month term on average"
   ]
  },
  {
   "cell_type": "code",
   "execution_count": null,
   "metadata": {},
   "outputs": [],
   "source": [
    "default_rates = diff_rate('loan_amnt_bin')\n",
    "print(default_rates) "
   ]
  },
  {
   "cell_type": "markdown",
   "metadata": {},
   "source": [
    "#### Loan Amount - The loan amount between 30000-35000 are more 12% more defaulter on average than 5000-10000"
   ]
  },
  {
   "cell_type": "code",
   "execution_count": null,
   "metadata": {},
   "outputs": [],
   "source": [
    "default_rates = diff_rate('interest_rate_buckets')\n",
    "print(default_rates)"
   ]
  },
  {
   "cell_type": "markdown",
   "metadata": {},
   "source": [
    "#### Interest rate - The loans with 23% interest rate are 46% more risker on average than of the interest rate with 5%"
   ]
  },
  {
   "cell_type": "code",
   "execution_count": null,
   "metadata": {},
   "outputs": [],
   "source": []
  }
 ],
 "metadata": {
  "kernelspec": {
   "display_name": "Python 3",
   "language": "python",
   "name": "python3"
  },
  "language_info": {
   "codemirror_mode": {
    "name": "ipython",
    "version": 3
   },
   "file_extension": ".py",
   "mimetype": "text/x-python",
   "name": "python",
   "nbconvert_exporter": "python",
   "pygments_lexer": "ipython3",
   "version": "3.8.2"
  }
 },
 "nbformat": 4,
 "nbformat_minor": 4
}
